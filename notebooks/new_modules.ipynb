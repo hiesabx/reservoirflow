{
 "cells": [
  {
   "cell_type": "code",
   "execution_count": 1,
   "metadata": {},
   "outputs": [],
   "source": [
    "import reservoirflow as rf\n",
    "import numpy as np"
   ]
  },
  {
   "cell_type": "code",
   "execution_count": 2,
   "metadata": {},
   "outputs": [
    {
     "name": "stdout",
     "output_type": "stream",
     "text": [
      "[info] D is 2.\n",
      "[info] shape without boundary is (10, 2, 1).\n",
      "[info] fdir is xy.\n",
      "[info] shape with boundary is (12, 4, 1).\n",
      "[info] n with boundary is 48.\n",
      "[info] n_max with boundary is 12.\n",
      "[info] axes vectors (dx_, dy_, dz_) were computed.\n",
      "[info] axes meshgrid (Dx, Dy, Dz) were computed.\n",
      "[info] ones array was computed.\n",
      "[info] kx is 1 for all cells.\n",
      "[info] ky is 1 for all cells.\n",
      "[info] kz is 1 for all cells.\n",
      "[info] phi is 0.1 for all cells.\n",
      "[info] z is 1 for all cells.\n",
      "[info] fshape with boundary is (1, 4, 12).\n",
      "[info] order was computed (without boundary - without fshape).\n",
      "[info] cells_id was computed (without boundary - without fshape).\n"
     ]
    }
   ],
   "source": [
    "grid = rf.grids.RegularCartesian(\n",
    "    10,\n",
    "    2,\n",
    "    1,\n",
    "    2,\n",
    "    2,\n",
    "    2,\n",
    "    1,\n",
    "    1,\n",
    "    1,\n",
    "    0.1,\n",
    "    1,\n",
    "    1e-4,\n",
    "    \"double\",\n",
    "    \"field\",\n",
    "    True,\n",
    "    True,\n",
    ")"
   ]
  },
  {
   "cell_type": "code",
   "execution_count": 3,
   "metadata": {},
   "outputs": [
    {
     "name": "stdout",
     "output_type": "stream",
     "text": [
      "[info] corners with boundary were calculated.\n",
      "    - xcorn shape: (384,) - ycorn shape: (384,) - zcorn shape: (384,)\n",
      "[info] pyvista_grid with boundary was created.\n",
      "[info] order was computed (with boundary - without fshape).\n",
      "[info] cells_id was computed (with boundary - without fshape).\n",
      "[info] center was computed.\n"
     ]
    },
    {
     "data": {
      "application/vnd.jupyter.widget-view+json": {
       "model_id": "710196de9c2c484f924454fa087c46ac",
       "version_major": 2,
       "version_minor": 0
      },
      "text/plain": [
       "Widget(value=\"<iframe src='http://localhost:49532/index.html?ui=P_0x1ea546aaa08_0&reconnect=auto' style='width…"
      ]
     },
     "metadata": {},
     "output_type": "display_data"
    }
   ],
   "source": [
    "grid.show(\"id\", True, False)"
   ]
  },
  {
   "cell_type": "code",
   "execution_count": 4,
   "metadata": {},
   "outputs": [
    {
     "name": "stdout",
     "output_type": "stream",
     "text": [
      "[info] order was computed (with boundary - with fshape).\n",
      "[info] cells_id was computed (with boundary - with fshape).\n",
      "[info] cells_id was computed (without boundary - without fshape).\n"
     ]
    },
    {
     "data": {
      "text/plain": [
       "{'x': [14], 'y': [25], 'z': []}"
      ]
     },
     "execution_count": 4,
     "metadata": {},
     "output_type": "execute_result"
    }
   ],
   "source": [
    "grid.get_cell_neighbors(13, None, False)"
   ]
  },
  {
   "cell_type": "code",
   "execution_count": 5,
   "metadata": {},
   "outputs": [
    {
     "name": "stdout",
     "output_type": "stream",
     "text": [
      "[info] cells_id was computed (with boundary - without fshape).\n"
     ]
    },
    {
     "data": {
      "text/plain": [
       "{'x': [12, 14], 'y': [1, 25], 'z': []}"
      ]
     },
     "execution_count": 5,
     "metadata": {},
     "output_type": "execute_result"
    }
   ],
   "source": [
    "grid.get_cell_neighbors(13, None, True)"
   ]
  },
  {
   "cell_type": "code",
   "execution_count": 6,
   "metadata": {},
   "outputs": [
    {
     "data": {
      "text/plain": [
       "{'x': [13], 'y': [], 'z': []}"
      ]
     },
     "execution_count": 6,
     "metadata": {},
     "output_type": "execute_result"
    }
   ],
   "source": [
    "grid.get_cell_neighbors(12, None, False)"
   ]
  },
  {
   "cell_type": "code",
   "execution_count": 7,
   "metadata": {},
   "outputs": [
    {
     "data": {
      "text/plain": [
       "{'x': [], 'y': [], 'z': []}"
      ]
     },
     "execution_count": 7,
     "metadata": {},
     "output_type": "execute_result"
    }
   ],
   "source": [
    "grid.get_cell_neighbors(47, None, False)"
   ]
  },
  {
   "cell_type": "code",
   "execution_count": 8,
   "metadata": {},
   "outputs": [
    {
     "data": {
      "text/plain": [
       "{'x': [], 'y': [], 'z': []}"
      ]
     },
     "execution_count": 8,
     "metadata": {},
     "output_type": "execute_result"
    }
   ],
   "source": [
    "grid.get_cell_neighbors(600, None, False)"
   ]
  },
  {
   "cell_type": "code",
   "execution_count": 9,
   "metadata": {},
   "outputs": [
    {
     "name": "stdout",
     "output_type": "stream",
     "text": [
      "[info] cells_id was computed (with boundary - without fshape).\n",
      "[info] fshape with boundary (as points) is (1, 4, 12, 3).\n",
      "[info] cells_coords was computed (with boundary - with fshape).\n",
      "[info] cells_id was computed (without boundary - without fshape).\n",
      "[info] cells_coords was computed (without boundary - without fshape).\n",
      "[info] dx was exported.\n",
      "[info] cells_coords was computed (with boundary - without fshape).\n",
      "[info] Ax was exported.\n",
      "[info] dy was exported.\n",
      "[info] Ay was exported.\n"
     ]
    }
   ],
   "source": [
    "d = grid.get_cell_G(None, (1, 1, 0), False)"
   ]
  },
  {
   "cell_type": "code",
   "execution_count": 10,
   "metadata": {},
   "outputs": [
    {
     "name": "stdout",
     "output_type": "stream",
     "text": [
      "[info] Ax was exported.\n",
      "[info] Ay was exported.\n"
     ]
    },
    {
     "data": {
      "text/plain": [
       "{14: 0.002254, 25: 0.002254}"
      ]
     },
     "execution_count": 10,
     "metadata": {},
     "output_type": "execute_result"
    }
   ],
   "source": [
    "d = grid.get_cell_G(13, None, False)\n",
    "d"
   ]
  },
  {
   "cell_type": "code",
   "execution_count": 11,
   "metadata": {},
   "outputs": [
    {
     "data": {
      "text/plain": [
       "{14: 0.004508, 25: 0.004508}"
      ]
     },
     "execution_count": 11,
     "metadata": {},
     "output_type": "execute_result"
    }
   ],
   "source": [
    "d = {k: v * 2 for k, v in d.items()}\n",
    "d"
   ]
  },
  {
   "cell_type": "code",
   "execution_count": 13,
   "metadata": {},
   "outputs": [
    {
     "name": "stdout",
     "output_type": "stream",
     "text": [
      "[info] cells_id was computed (without boundary - without fshape).\n"
     ]
    },
    {
     "data": {
      "text/plain": [
       "array([13, 14, 15, 16, 17, 18, 19, 20, 21, 22, 25, 26, 27, 28, 29, 30, 31,\n",
       "       32, 33, 34])"
      ]
     },
     "execution_count": 13,
     "metadata": {},
     "output_type": "execute_result"
    }
   ],
   "source": [
    "grid.get_cells_id(False)\n",
    "grid.get_cells_i(True)"
   ]
  }
 ],
 "metadata": {
  "kernelspec": {
   "display_name": ".venv",
   "language": "python",
   "name": "python3"
  },
  "language_info": {
   "codemirror_mode": {
    "name": "ipython",
    "version": 3
   },
   "file_extension": ".py",
   "mimetype": "text/x-python",
   "name": "python",
   "nbconvert_exporter": "python",
   "pygments_lexer": "ipython3",
   "version": "3.7.9"
  },
  "orig_nbformat": 4
 },
 "nbformat": 4,
 "nbformat_minor": 2
}
