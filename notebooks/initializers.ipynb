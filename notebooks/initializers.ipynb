{
 "cells": [
  {
   "cell_type": "markdown",
   "metadata": {},
   "source": [
    "# Numerical Initializers Development\n",
    "Zakariya Abugrin - 04.09.2023"
   ]
  },
  {
   "cell_type": "markdown",
   "metadata": {},
   "source": [
    "## Introductions\n",
    "\n",
    "Numerical solutions consist of two steps as following:\n",
    "1. Initialization: in this step a system of linear equations is created based on `Model` class using numerical initializers (`NumericalInitializer`).\n",
    "2. Solving the system of linear equations using direct solvers, iterative solvers, or neurical solvers. \n",
    "3. Steps 1 and 2 are repeated until a final timestep is reached.\n",
    "\n",
    "In this notebook, `NumericalInitializer` class is developed for `FDM`."
   ]
  },
  {
   "cell_type": "code",
   "execution_count": 1,
   "metadata": {},
   "outputs": [
    {
     "name": "stdout",
     "output_type": "stream",
     "text": [
      "0.1.0\n"
     ]
    }
   ],
   "source": [
    "import reservoirflow as rf\n",
    "\n",
    "print(rf.__version__)"
   ]
  },
  {
   "cell_type": "code",
   "execution_count": 2,
   "metadata": {},
   "outputs": [
    {
     "name": "stdout",
     "output_type": "stream",
     "text": [
      "[info] the model was initialized.\n",
      "[info] model compressibility (comp) was calculated.\n",
      "[info] a well in cell 4 was set.\n",
      "[info] boundary in cell 0 was set to constant pressure.\n",
      "[info] boundary in cell 5 was set to constant rate.\n"
     ]
    }
   ],
   "source": [
    "grid = rf.grids.Cartesian(\n",
    "    nx=4, ny=1, nz=1, dx=300, dy=350, dz=40, phi=0.27, kx=270, dtype=\"double\"\n",
    ")\n",
    "\n",
    "fluid = rf.fluids.SinglePhase(mu=0.5, B=1, dtype=\"double\")\n",
    "\n",
    "model = rf.models.BlackOil(grid, fluid, dtype=\"double\", pi=4000, verbose=True)\n",
    "model.set_well(id=4, q=-600, s=1.5, r=3.5)\n",
    "model.set_boundaries({0: (\"pressure\", 4000), 5: (\"rate\", 0)})\n",
    "# model.compile(stype=\"numerical\", method=\"fdm\")\n",
    "# model.compile(stype=\"analytical\", method=\"-\")\n",
    "# model.compile(stype=\"neurical\", method=\"pinn\")"
   ]
  },
  {
   "cell_type": "code",
   "execution_count": null,
   "metadata": {},
   "outputs": [
    {
     "data": {
      "text/plain": [
       "{1: (defaultdict(int, {p1: 85.2012000000000, p2: -28.4004000000000}),\n",
       "  227203.200000000),\n",
       " 2: (defaultdict(int,\n",
       "              {p1: 28.4004000000000,\n",
       "               p3: 28.4004000000000,\n",
       "               p2: -56.8008000000000}),\n",
       "  0),\n",
       " 3: (defaultdict(int,\n",
       "              {p2: 28.4004000000000,\n",
       "               p4: 28.4004000000000,\n",
       "               p3: -56.8008000000000}),\n",
       "  0),\n",
       " 4: (defaultdict(int, {p3: 28.4004000000000, p4: -28.4004000000000}),\n",
       "  600.000000000000)}"
      ]
     },
     "execution_count": 14,
     "metadata": {},
     "output_type": "execute_result"
    }
   ],
   "source": [
    "model.get_cells_eq()"
   ]
  },
  {
   "cell_type": "code",
   "execution_count": null,
   "metadata": {},
   "outputs": [
    {
     "name": "stdout",
     "output_type": "stream",
     "text": [
      "A:[[-28.4004  28.4004   0.       0.    ]\n",
      " [ 28.4004 -56.8008  28.4004   0.    ]\n",
      " [  0.      28.4004 -56.8008  28.4004]\n",
      " [  0.       0.      28.4004 -28.4004]]\n",
      "d:None\n"
     ]
    }
   ],
   "source": [
    "A = model.init_A(False)\n",
    "d = model.init_d(False)\n",
    "print(f\"A:{A}\")\n",
    "print(f\"d:{d}\")"
   ]
  },
  {
   "cell_type": "code",
   "execution_count": null,
   "metadata": {},
   "outputs": [
    {
     "data": {
      "text/plain": [
       "(array([[-85.2012,  28.4004,   0.    ,   0.    ],\n",
       "        [ 28.4004, -56.8008,  28.4004,   0.    ],\n",
       "        [  0.    ,  28.4004, -56.8008,  28.4004],\n",
       "        [  0.    ,   0.    ,  28.4004, -28.4004]]),\n",
       " array([[-227203.2],\n",
       "        [      0. ],\n",
       "        [      0. ],\n",
       "        [    600. ]]))"
      ]
     },
     "execution_count": 5,
     "metadata": {},
     "output_type": "execute_result"
    }
   ],
   "source": [
    "model.get_matrices_vectorized(False, True)"
   ]
  },
  {
   "cell_type": "code",
   "execution_count": null,
   "metadata": {},
   "outputs": [
    {
     "data": {
      "text/plain": [
       "(<4x4 sparse matrix of type '<class 'numpy.float64'>'\n",
       " \twith 10 stored elements in List of Lists format>,\n",
       " <4x1 sparse matrix of type '<class 'numpy.float64'>'\n",
       " \twith 2 stored elements in List of Lists format>)"
      ]
     },
     "execution_count": 12,
     "metadata": {},
     "output_type": "execute_result"
    }
   ],
   "source": [
    "model.verbose = False\n",
    "model.init_matrices(True, True)"
   ]
  },
  {
   "cell_type": "code",
   "execution_count": null,
   "metadata": {},
   "outputs": [
    {
     "name": "stdout",
     "output_type": "stream",
     "text": [
      "[info] Simulation run started: 10 timesteps.\n"
     ]
    },
    {
     "name": "stderr",
     "output_type": "stream",
     "text": [
      "[step]: 10 - : 100%|\u001b[32m██████████\u001b[0m| 10/10 [00:00<00:00, 333.32steps/s]"
     ]
    },
    {
     "name": "stdout",
     "output_type": "stream",
     "text": [
      "[info] Simulation run of 10 steps finished in 0.04 seconds.\n",
      "[info] Material Balance Error: -9.387122190673836e-10.\n"
     ]
    },
    {
     "name": "stderr",
     "output_type": "stream",
     "text": [
      "\n"
     ]
    }
   ],
   "source": [
    "model.run(10, print_arrays=False)"
   ]
  }
 ],
 "metadata": {
  "kernelspec": {
   "display_name": ".venv",
   "language": "python",
   "name": "python3"
  },
  "language_info": {
   "codemirror_mode": {
    "name": "ipython",
    "version": 3
   },
   "file_extension": ".py",
   "mimetype": "text/x-python",
   "name": "python",
   "nbconvert_exporter": "python",
   "pygments_lexer": "ipython3",
   "version": "3.7.9"
  },
  "orig_nbformat": 4
 },
 "nbformat": 4,
 "nbformat_minor": 2
}
