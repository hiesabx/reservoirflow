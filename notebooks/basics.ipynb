{
    "cells": [
        {
            "cell_type": "code",
            "execution_count": 1,
            "metadata": {},
            "outputs": [
                {
                    "name": "stdout",
                    "output_type": "stream",
                    "text": [
                        "0.0.1\n"
                    ]
                }
            ],
            "source": [
                "import openresim as rs\n",
                "import pyvista as pv\n",
                "# pv.set_jupyter_backend('static')\n",
                "\n",
                "print(rs.__version__)"
            ]
        },
        {
            "cell_type": "code",
            "execution_count": 2,
            "metadata": {},
            "outputs": [
                {
                    "name": "stdout",
                    "output_type": "stream",
                    "text": [
                        "{'field': {'transmissibility': 'STB/D-psi', 'error': 'STB/D', 'pressure': 'psia'}, 'metric': {'transmissibility': 'M3/D-bar', 'error': 'M3/D'}}\n"
                    ]
                }
            ],
            "source": [
                "print(rs.units_dict)"
            ]
        },
        {
            "cell_type": "code",
            "execution_count": 10,
            "metadata": {},
            "outputs": [
                {
                    "name": "stdout",
                    "output_type": "stream",
                    "text": [
                        "- Dimension (D) is set to 2.\n",
                        "- N-cells without boundary is (3, 4, 1).\n",
                        "- Shape without boundary is set to [3 4 1].\n",
                        "- Flow direction (fdir) is set to xy.\n",
                        "- N-cells with boundary is (5, 6, 1).\n",
                        "- Maximum number of cells with boundary is 6.\n",
                        "- Flow shape (fshape) is set to (6, 5).\n",
                        "- Cells dims (dx, dy, dz) were computed.\n",
                        "- Cells volumes (cells_V) was computed.\n",
                        "- Number of cells with boundary is 30.\n",
                        "- Cells order (order) was computed (without fshape - with boundary).\n",
                        "- Cells id (cells_id) was computed (without fshape - with boundary).\n",
                        "- Grid corners with boundary were calculated.\n",
                        "    - xcorn shape: (240,) - ycorn shape: (240,) - zcorn shape: (240,)\n",
                        "- Pyvista grid (pyvista_grid) with boundary was created.\n",
                        "- Cells coords (cells_coords) was computed (without fshape - with boundary).\n",
                        "- Ones array (ones) was computed.\n",
                        "- Porosity (phi) is set to 0.3 for all cells.\n",
                        "- Permeability at x-direction (kx) is set to 3 for all cells.\n",
                        "- Permeability at y-direction (ky) is set to 3 for all cells.\n",
                        "- Permeability at z-direction (kz) is set to 3 for all cells.\n",
                        "- Tops (z) is set to 0 for all cells.\n",
                        "- Tops (z) is set to 0 for all cells.\n",
                        "- Flag is_homogeneous is set to False.\n",
                        "- Cells order (order) was computed (with fshape - with boundary).\n",
                        "- Cells id (cells_id) was computed (with fshape - with boundary).\n",
                        "- Gz is not in fdir of xy.\n",
                        "- Cells center (cells_center) was computed (without fshape - with boundary).\n",
                        "- Dimension (D) is set to 2.\n",
                        "- N-cells without boundary is (4, 3, 1).\n",
                        "- Shape without boundary is set to [4 3 1].\n",
                        "- Flow direction (fdir) is set to xy.\n",
                        "- N-cells with boundary is (6, 5, 1).\n",
                        "- Maximum number of cells with boundary is 6.\n",
                        "- Flow shape (fshape) is set to (5, 6).\n",
                        "- Cells dims (dx, dy, dz) were computed.\n",
                        "- Cells volumes (cells_V) was computed.\n",
                        "- Number of cells with boundary is 30.\n",
                        "- Cells order (order) was computed (without fshape - with boundary).\n",
                        "- Cells id (cells_id) was computed (without fshape - with boundary).\n",
                        "- Grid corners with boundary were calculated.\n",
                        "    - xcorn shape: (240,) - ycorn shape: (240,) - zcorn shape: (240,)\n",
                        "- Pyvista grid (pyvista_grid) with boundary was created.\n",
                        "- Cells coords (cells_coords) was computed (without fshape - with boundary).\n",
                        "- Ones array (ones) was computed.\n",
                        "- Porosity (phi) is set to 0.3 for all cells.\n",
                        "- Permeability at x-direction (kx) is set to 3 for all cells.\n",
                        "- Permeability at y-direction (ky) is set to 3 for all cells.\n",
                        "- Permeability at z-direction (kz) is set to 3 for all cells.\n",
                        "- Tops (z) is set to 0 for all cells.\n",
                        "- Tops (z) is set to 0 for all cells.\n",
                        "- Flag is_homogeneous is set to False.\n",
                        "- Cells order (order) was computed (with fshape - with boundary).\n",
                        "- Cells id (cells_id) was computed (with fshape - with boundary).\n",
                        "- Gz is not in fdir of xy.\n",
                        "- Cells center (cells_center) was computed (without fshape - with boundary).\n",
                        "- Dimension (D) is set to 2.\n",
                        "- N-cells without boundary is (3, 3, 1).\n",
                        "- Shape without boundary is set to [3 3 1].\n",
                        "- Flow direction (fdir) is set to xy.\n",
                        "- N-cells with boundary is (5, 5, 1).\n",
                        "- Maximum number of cells with boundary is 5.\n",
                        "- Flow shape (fshape) is set to (5, 5).\n",
                        "- Cells dims (dx, dy, dz) were computed.\n",
                        "- Cells volumes (cells_V) was computed.\n",
                        "- Number of cells with boundary is 25.\n",
                        "- Cells order (order) was computed (without fshape - with boundary).\n",
                        "- Cells id (cells_id) was computed (without fshape - with boundary).\n",
                        "- Grid corners with boundary were calculated.\n",
                        "    - xcorn shape: (200,) - ycorn shape: (200,) - zcorn shape: (200,)\n",
                        "- Pyvista grid (pyvista_grid) with boundary was created.\n",
                        "- Cells coords (cells_coords) was computed (without fshape - with boundary).\n",
                        "- Ones array (ones) was computed.\n",
                        "- Porosity (phi) is set to 0.3 for all cells.\n",
                        "- Permeability at x-direction (kx) is set to 3 for all cells.\n",
                        "- Permeability at y-direction (ky) is set to 3 for all cells.\n",
                        "- Permeability at z-direction (kz) is set to 3 for all cells.\n",
                        "- Tops (z) is set to 0 for all cells.\n",
                        "- Tops (z) is set to 0 for all cells.\n",
                        "- Flag is_homogeneous is set to False.\n",
                        "- Cells order (order) was computed (with fshape - with boundary).\n",
                        "- Cells id (cells_id) was computed (with fshape - with boundary).\n",
                        "- Gz is not in fdir of xy.\n",
                        "- Cells center (cells_center) was computed (without fshape - with boundary).\n"
                    ]
                }
            ],
            "source": [
                "g1 = rs.grids.CartGrid( # good > x,y\n",
                "    nx=3,\n",
                "    ny=4,\n",
                "    nz=1,\n",
                "    dx=10,\n",
                "    dy=10,\n",
                "    dz=10,\n",
                "    kx=3,\n",
                "    ky=3,\n",
                "    kz=3,\n",
                "    phi=0.3,\n",
                ")\n",
                "\n",
                "g2 = rs.grids.CartGrid( # yz\n",
                "    nx=4,\n",
                "    ny=3,\n",
                "    nz=1,\n",
                "    dx=10,\n",
                "    dy=10,\n",
                "    dz=10,\n",
                "    kx=3,\n",
                "    ky=3,\n",
                "    kz=3,\n",
                "    phi=0.3,\n",
                ")\n",
                "\n",
                "g3 = rs.grids.CartGrid( # xz\n",
                "    nx=3,\n",
                "    ny=3,\n",
                "    nz=1,\n",
                "    dx=10,\n",
                "    dy=10,\n",
                "    dz=10,\n",
                "    kx=3,\n",
                "    ky=3,\n",
                "    kz=3,\n",
                "    phi=0.3,\n",
                ")"
            ]
        },
        {
            "cell_type": "code",
            "execution_count": 11,
            "metadata": {},
            "outputs": [
                {
                    "name": "stdout",
                    "output_type": "stream",
                    "text": [
                        "- Dimension (D) is set to 2.\n",
                        "- N-cells without boundary is (3, 4, 1).\n",
                        "- Shape without boundary is set to [3 4 1].\n",
                        "- Flow direction (fdir) is set to xy.\n",
                        "- N-cells with boundary is (5, 6, 1).\n",
                        "- Maximum number of cells with boundary is 6.\n",
                        "- Grid corners with boundary were calculated.\n",
                        "    - xcorn shape: (240,) - ycorn shape: (240,) - zcorn shape: (240,)\n",
                        "- Pyvista grid (pyvista_grid) with boundary was created.\n",
                        "- Number of cells with boundary is 30.\n",
                        "- Cells order (order) was computed (without fshape - with boundary).\n",
                        "- Cells id (cells_id) was computed (without fshape - with boundary).\n",
                        "- Cells center (cells_center) was computed (without fshape - with boundary).\n"
                    ]
                },
                {
                    "data": {
                        "application/vnd.jupyter.widget-view+json": {
                            "model_id": "659145c4f523414589f4705a4b828f11",
                            "version_major": 2,
                            "version_minor": 0
                        },
                        "text/plain": [
                            "ViewInteractiveWidget(height=731, layout=Layout(height='auto', width='100%'), width=1097)"
                        ]
                    },
                    "metadata": {},
                    "output_type": "display_data"
                },
                {
                    "data": {
                        "text/plain": [
                            "{'x': [5, 7], 'y': [1, 11], 'z': []}"
                        ]
                    },
                    "execution_count": 11,
                    "metadata": {},
                    "output_type": "execute_result"
                }
            ],
            "source": [
                "g1.show(label='id', boundary=True) # \n",
                "g1.get_cell_neighbors(id=6, boundary=True)"
            ]
        },
        {
            "cell_type": "code",
            "execution_count": 12,
            "metadata": {},
            "outputs": [
                {
                    "name": "stdout",
                    "output_type": "stream",
                    "text": [
                        "- Dimension (D) is set to 2.\n",
                        "- N-cells without boundary is (4, 3, 1).\n",
                        "- Shape without boundary is set to [4 3 1].\n",
                        "- Flow direction (fdir) is set to xy.\n",
                        "- N-cells with boundary is (6, 5, 1).\n",
                        "- Maximum number of cells with boundary is 6.\n",
                        "- Grid corners with boundary were calculated.\n",
                        "    - xcorn shape: (240,) - ycorn shape: (240,) - zcorn shape: (240,)\n",
                        "- Pyvista grid (pyvista_grid) with boundary was created.\n",
                        "- Number of cells with boundary is 30.\n",
                        "- Cells order (order) was computed (without fshape - with boundary).\n",
                        "- Cells id (cells_id) was computed (without fshape - with boundary).\n",
                        "- Cells center (cells_center) was computed (without fshape - with boundary).\n"
                    ]
                },
                {
                    "data": {
                        "application/vnd.jupyter.widget-view+json": {
                            "model_id": "2b32fcbc50c443b0a82108045dd56182",
                            "version_major": 2,
                            "version_minor": 0
                        },
                        "text/plain": [
                            "ViewInteractiveWidget(height=731, layout=Layout(height='auto', width='100%'), width=1097)"
                        ]
                    },
                    "metadata": {},
                    "output_type": "display_data"
                },
                {
                    "data": {
                        "text/plain": [
                            "{'x': [5, 7], 'y': [0, 12], 'z': []}"
                        ]
                    },
                    "execution_count": 12,
                    "metadata": {},
                    "output_type": "execute_result"
                }
            ],
            "source": [
                "g2.show(label='id', boundary=True) # \n",
                "g2.get_cell_neighbors(id=6, boundary=True)"
            ]
        },
        {
            "cell_type": "code",
            "execution_count": 13,
            "metadata": {},
            "outputs": [
                {
                    "name": "stdout",
                    "output_type": "stream",
                    "text": [
                        "- Dimension (D) is set to 2.\n",
                        "- N-cells without boundary is (3, 3, 1).\n",
                        "- Shape without boundary is set to [3 3 1].\n",
                        "- Flow direction (fdir) is set to xy.\n",
                        "- N-cells with boundary is (5, 5, 1).\n",
                        "- Maximum number of cells with boundary is 5.\n",
                        "- Grid corners with boundary were calculated.\n",
                        "    - xcorn shape: (200,) - ycorn shape: (200,) - zcorn shape: (200,)\n",
                        "- Pyvista grid (pyvista_grid) with boundary was created.\n",
                        "- Cells center (cells_center) was computed (without fshape - with boundary).\n"
                    ]
                },
                {
                    "data": {
                        "application/vnd.jupyter.widget-view+json": {
                            "model_id": "96440030167d4713b85238044f5665dd",
                            "version_major": 2,
                            "version_minor": 0
                        },
                        "text/plain": [
                            "ViewInteractiveWidget(height=731, layout=Layout(height='auto', width='100%'), width=1097)"
                        ]
                    },
                    "metadata": {},
                    "output_type": "display_data"
                },
                {
                    "data": {
                        "text/plain": [
                            "{'x': [5, 7], 'y': [1, 11], 'z': []}"
                        ]
                    },
                    "execution_count": 13,
                    "metadata": {},
                    "output_type": "execute_result"
                }
            ],
            "source": [
                "g3.show(label='id', boundary=True) # \n",
                "g3.get_cell_neighbors(id=6, boundary=True)"
            ]
        },
        {
            "cell_type": "code",
            "execution_count": null,
            "metadata": {},
            "outputs": [],
            "source": []
        }
    ],
    "metadata": {
        "interpreter": {
            "hash": "bd377deb377d80092ebe0ed5856061b5e99f1c7a655e532d6b85d8e88008d671"
        },
        "kernelspec": {
            "display_name": "Python 3.7.9 ('.venv': venv)",
            "language": "python",
            "name": "python3"
        },
        "language_info": {
            "codemirror_mode": {
                "name": "ipython",
                "version": 3
            },
            "file_extension": ".py",
            "mimetype": "text/x-python",
            "name": "python",
            "nbconvert_exporter": "python",
            "pygments_lexer": "ipython3",
            "version": "3.7.9"
        },
        "orig_nbformat": 4
    },
    "nbformat": 4,
    "nbformat_minor": 2
}