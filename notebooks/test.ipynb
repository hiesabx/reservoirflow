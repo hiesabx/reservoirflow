{
 "cells": [
  {
   "cell_type": "code",
   "execution_count": 1,
   "metadata": {},
   "outputs": [],
   "source": [
    "import reservoirflow as rf\n",
    "import numpy as np"
   ]
  },
  {
   "cell_type": "code",
   "execution_count": 2,
   "metadata": {},
   "outputs": [
    {
     "data": {
      "text/plain": [
       "reservoirflow.scalers.minmax.MinMax"
      ]
     },
     "execution_count": 2,
     "metadata": {},
     "output_type": "execute_result"
    }
   ],
   "source": [
    "type(rf.scalers.MinMax((1, 1)))"
   ]
  },
  {
   "cell_type": "code",
   "execution_count": 3,
   "metadata": {},
   "outputs": [
    {
     "name": "stdout",
     "output_type": "stream",
     "text": [
      "[info] Simulation run started: 10 timesteps.\n"
     ]
    },
    {
     "name": "stderr",
     "output_type": "stream",
     "text": [
      "[step]: 10 - : 100%|\u001b[32m██████████\u001b[0m| 10/10 [00:00<00:00, 61.21steps/s]"
     ]
    },
    {
     "name": "stdout",
     "output_type": "stream",
     "text": [
      "[info] Simulation run of 10 steps finished in 0.17 seconds.\n",
      "[info] Material Balance Error: 6.8833827526759706e-15.\n"
     ]
    },
    {
     "name": "stderr",
     "output_type": "stream",
     "text": [
      "\n"
     ]
    }
   ],
   "source": [
    "def create_model_example_7_1():\n",
    "    grid = rf.grids.Cartesian(\n",
    "        nx=4, ny=1, nz=1, dx=300, dy=350, dz=40, phi=0.27, kx=270, dtype=\"double\"\n",
    "    )\n",
    "    fluid = rf.fluids.SinglePhase(mu=0.5, B=1, dtype=\"double\")\n",
    "    model = rf.models.Numerical(grid, fluid, dtype=\"double\", verbose=False)\n",
    "    model.set_well(id=4, q=-600, s=1.5, r=3.5)\n",
    "    model.set_boundaries({0: (\"pressure\", 4000), 5: (\"rate\", 0)})\n",
    "    return model\n",
    "\n",
    "\n",
    "def create_model():\n",
    "    grid = rf.grids.Cartesian(\n",
    "        nx=3,\n",
    "        ny=1,\n",
    "        nz=1,\n",
    "        dx=300,\n",
    "        dy=350,\n",
    "        dz=20,\n",
    "        phi=0.27,\n",
    "        kx=1,\n",
    "        ky=1,\n",
    "        kz=0.1,\n",
    "        comp=1 * 10**-6,\n",
    "        dtype=\"double\",\n",
    "    )\n",
    "    fluid = rf.fluids.SinglePhase(\n",
    "        mu=0.5, B=1, rho=50, comp=1 * 10**-5, dtype=\"double\"\n",
    "    )\n",
    "    model = rf.models.Numerical(\n",
    "        grid, fluid, pi=6000, dt=5, start_date=\"10.10.2018\", dtype=\"double\"\n",
    "    )\n",
    "\n",
    "    n_samples = 1\n",
    "    cells_id = model.grid.get_cells_id(False, True)[-1].flatten()\n",
    "    wells = np.random.choice(cells_id, n_samples, False)\n",
    "    for id in wells:\n",
    "        model.set_well(id=id, q=-300, pwf=100, s=1.5, r=3.5)\n",
    "\n",
    "    wells = np.random.choice(cells_id, n_samples, False)\n",
    "    for id in wells:\n",
    "        model.set_well(id=id, q=100, s=0, r=3.5)\n",
    "\n",
    "    return model\n",
    "\n",
    "\n",
    "model = create_model()\n",
    "model.run(10, isolver=\"cgs\")"
   ]
  },
  {
   "cell_type": "code",
   "execution_count": 4,
   "metadata": {},
   "outputs": [
    {
     "name": "stdout",
     "output_type": "stream",
     "text": [
      "(5, 3)\n",
      "[150. 175.  10.]\n"
     ]
    },
    {
     "data": {
      "text/plain": [
       "array([[ 150.,  175.,   10.],\n",
       "       [ 450.,  175.,   10.],\n",
       "       [ 750.,  175.,   10.],\n",
       "       [1050.,  175.,   10.],\n",
       "       [1350.,  175.,   10.]])"
      ]
     },
     "execution_count": 4,
     "metadata": {},
     "output_type": "execute_result"
    }
   ],
   "source": [
    "arr = model.grid.get_cells_center(True, False)\n",
    "print(arr.shape)\n",
    "print(arr.min(axis=0))\n",
    "arr"
   ]
  },
  {
   "cell_type": "code",
   "execution_count": 5,
   "metadata": {},
   "outputs": [
    {
     "data": {
      "text/plain": [
       "2"
      ]
     },
     "execution_count": 5,
     "metadata": {},
     "output_type": "execute_result"
    }
   ],
   "source": [
    "np.count_nonzero(np.array([1, 2, 0, 0]) == 0)"
   ]
  },
  {
   "cell_type": "code",
   "execution_count": 6,
   "metadata": {},
   "outputs": [
    {
     "name": "stderr",
     "output_type": "stream",
     "text": [
      "c:\\users\\abugrzka\\projects\\reservoirflow\\reservoirflow\\scalers\\minmax.py:38: RuntimeWarning: invalid value encountered in true_divide\n",
      "  self.vmax - self.vmin\n"
     ]
    },
    {
     "data": {
      "text/plain": [
       "array([[-1. ,  nan,  nan],\n",
       "       [-0.5,  nan,  nan],\n",
       "       [ 0. ,  nan,  nan],\n",
       "       [ 0.5,  nan,  nan],\n",
       "       [ 1. ,  nan,  nan]])"
      ]
     },
     "execution_count": 6,
     "metadata": {},
     "output_type": "execute_result"
    }
   ],
   "source": [
    "scaler = rf.scalers.MinMax((-1, 1)).fit(arr, axis=0)\n",
    "scaler.transform(arr)"
   ]
  },
  {
   "cell_type": "code",
   "execution_count": 7,
   "metadata": {},
   "outputs": [
    {
     "data": {
      "text/plain": [
       "array([0. , 0.1, 0.2, 0.3, 0.4, 0.5, 0.6, 0.7, 0.8, 0.9, 1. ])"
      ]
     },
     "execution_count": 7,
     "metadata": {},
     "output_type": "execute_result"
    }
   ],
   "source": [
    "t = np.arange(0, (model.tstep + 1) * model.dt, model.dt)\n",
    "rf.scalers.MinMax((0, 1)).fit_transform(t, axis=0)"
   ]
  },
  {
   "cell_type": "code",
   "execution_count": 8,
   "metadata": {},
   "outputs": [
    {
     "data": {
      "text/plain": [
       "array([ 0,  5, 10, 15, 20, 25, 30, 35, 40, 45, 50])"
      ]
     },
     "execution_count": 8,
     "metadata": {},
     "output_type": "execute_result"
    }
   ],
   "source": [
    "t"
   ]
  },
  {
   "cell_type": "code",
   "execution_count": 9,
   "metadata": {},
   "outputs": [
    {
     "data": {
      "text/plain": [
       "(array([[ 0],\n",
       "        [ 5],\n",
       "        [10],\n",
       "        [15],\n",
       "        [20],\n",
       "        [25],\n",
       "        [30],\n",
       "        [35],\n",
       "        [40],\n",
       "        [45],\n",
       "        [50]]),\n",
       " array([[ 150.],\n",
       "        [ 450.],\n",
       "        [ 750.],\n",
       "        [1050.],\n",
       "        [1350.]]))"
      ]
     },
     "execution_count": 9,
     "metadata": {},
     "output_type": "execute_result"
    }
   ],
   "source": [
    "t, x = model.get_domain(False, True)\n",
    "t, x"
   ]
  },
  {
   "cell_type": "code",
   "execution_count": 10,
   "metadata": {},
   "outputs": [
    {
     "data": {
      "text/plain": [
       "array([[-1. ],\n",
       "       [-0.5],\n",
       "       [ 0. ],\n",
       "       [ 0.5],\n",
       "       [ 1. ]])"
      ]
     },
     "execution_count": 10,
     "metadata": {},
     "output_type": "execute_result"
    }
   ],
   "source": [
    "rf.scalers.MinMax((-1, 1)).fit_transform(x, axis=0)"
   ]
  },
  {
   "cell_type": "code",
   "execution_count": 11,
   "metadata": {},
   "outputs": [
    {
     "data": {
      "text/plain": [
       "array([[0. ],\n",
       "       [0.1],\n",
       "       [0.2],\n",
       "       [0.3],\n",
       "       [0.4],\n",
       "       [0.5],\n",
       "       [0.6],\n",
       "       [0.7],\n",
       "       [0.8],\n",
       "       [0.9],\n",
       "       [1. ]])"
      ]
     },
     "execution_count": 11,
     "metadata": {},
     "output_type": "execute_result"
    }
   ],
   "source": [
    "rf.scalers.MinMax((0, 1)).fit_transform(t, axis=0)"
   ]
  },
  {
   "cell_type": "code",
   "execution_count": 12,
   "metadata": {},
   "outputs": [
    {
     "data": {
      "text/plain": [
       "(array([[ 150.],\n",
       "        [ 450.],\n",
       "        [ 750.],\n",
       "        [1050.],\n",
       "        [1350.]]),\n",
       " ['x'])"
      ]
     },
     "execution_count": 12,
     "metadata": {},
     "output_type": "execute_result"
    }
   ],
   "source": [
    "model.get_centers(False)"
   ]
  },
  {
   "cell_type": "code",
   "execution_count": 13,
   "metadata": {},
   "outputs": [],
   "source": [
    "config = {\"time\": [\"MinMax\", (0, 1)], \"space\": [\"minMax\"]}"
   ]
  },
  {
   "cell_type": "code",
   "execution_count": 14,
   "metadata": {},
   "outputs": [
    {
     "data": {
      "text/plain": [
       "{'time': ['MinMax', (-10, 10)],\n",
       " 'space': ['MinMax', (-1, 1)],\n",
       " 'pressure': ['MinMax', (-1, 1)],\n",
       " 'rate': [None, None]}"
      ]
     },
     "execution_count": 14,
     "metadata": {},
     "output_type": "execute_result"
    }
   ],
   "source": [
    "model.set_scalers({\"time\": [\"minmax\", (-10, 10)], \"rate\": [\"minmax\", None]})\n",
    "model.scalers_dict"
   ]
  },
  {
   "cell_type": "code",
   "execution_count": 15,
   "metadata": {},
   "outputs": [
    {
     "data": {
      "text/plain": [
       "array([0.82200363, 0.84839774, 0.95989506, 0.298079  , 0.82200363])"
      ]
     },
     "execution_count": 15,
     "metadata": {},
     "output_type": "execute_result"
    }
   ],
   "source": [
    "model.update_scalers(False)\n",
    "model.pressures_scaler.transform(model.pressures[1])\n",
    "# model.space_scaler.transform(model.get_centers(False)[0])"
   ]
  },
  {
   "cell_type": "code",
   "execution_count": 16,
   "metadata": {},
   "outputs": [
    {
     "data": {
      "text/html": [
       "<div>\n",
       "<style scoped>\n",
       "    .dataframe tbody tr th:only-of-type {\n",
       "        vertical-align: middle;\n",
       "    }\n",
       "\n",
       "    .dataframe tbody tr th {\n",
       "        vertical-align: top;\n",
       "    }\n",
       "\n",
       "    .dataframe thead th {\n",
       "        text-align: right;\n",
       "    }\n",
       "</style>\n",
       "<table border=\"1\" class=\"dataframe\">\n",
       "  <thead>\n",
       "    <tr style=\"text-align: right;\">\n",
       "      <th></th>\n",
       "      <th>Time [Scaled]</th>\n",
       "      <th>Q2 [Scaled]</th>\n",
       "      <th>Q3 [Scaled]</th>\n",
       "      <th>P0 [Scaled]</th>\n",
       "      <th>P1 [Scaled]</th>\n",
       "      <th>P2 [Scaled]</th>\n",
       "      <th>P3 [Scaled]</th>\n",
       "      <th>P4 [Scaled]</th>\n",
       "      <th>Qw3 [Scaled]</th>\n",
       "      <th>Qw2 [Scaled]</th>\n",
       "      <th>Pwf3 [Scaled]</th>\n",
       "      <th>Pwf2 [Scaled]</th>\n",
       "    </tr>\n",
       "    <tr>\n",
       "      <th>Step</th>\n",
       "      <th></th>\n",
       "      <th></th>\n",
       "      <th></th>\n",
       "      <th></th>\n",
       "      <th></th>\n",
       "      <th></th>\n",
       "      <th></th>\n",
       "      <th></th>\n",
       "      <th></th>\n",
       "      <th></th>\n",
       "      <th></th>\n",
       "      <th></th>\n",
       "    </tr>\n",
       "  </thead>\n",
       "  <tbody>\n",
       "    <tr>\n",
       "      <th>0</th>\n",
       "      <td>-10.0</td>\n",
       "      <td>0.0</td>\n",
       "      <td>0.000000</td>\n",
       "      <td>0.822004</td>\n",
       "      <td>0.822004</td>\n",
       "      <td>0.822004</td>\n",
       "      <td>0.822004</td>\n",
       "      <td>0.822004</td>\n",
       "      <td>0.000000</td>\n",
       "      <td>0.0</td>\n",
       "      <td>0.822004</td>\n",
       "      <td>0.822004</td>\n",
       "    </tr>\n",
       "    <tr>\n",
       "      <th>1</th>\n",
       "      <td>-8.0</td>\n",
       "      <td>100.0</td>\n",
       "      <td>-212.053390</td>\n",
       "      <td>0.822004</td>\n",
       "      <td>0.848398</td>\n",
       "      <td>0.959895</td>\n",
       "      <td>0.298079</td>\n",
       "      <td>0.822004</td>\n",
       "      <td>-212.053390</td>\n",
       "      <td>100.0</td>\n",
       "      <td>-3.385090</td>\n",
       "      <td>2.319179</td>\n",
       "    </tr>\n",
       "    <tr>\n",
       "      <th>2</th>\n",
       "      <td>-6.0</td>\n",
       "      <td>100.0</td>\n",
       "      <td>-191.218025</td>\n",
       "      <td>0.822004</td>\n",
       "      <td>0.877416</td>\n",
       "      <td>1.000000</td>\n",
       "      <td>-0.063812</td>\n",
       "      <td>0.822004</td>\n",
       "      <td>-191.218025</td>\n",
       "      <td>100.0</td>\n",
       "      <td>-3.385090</td>\n",
       "      <td>2.359284</td>\n",
       "    </tr>\n",
       "    <tr>\n",
       "      <th>3</th>\n",
       "      <td>-4.0</td>\n",
       "      <td>100.0</td>\n",
       "      <td>-176.459962</td>\n",
       "      <td>0.822004</td>\n",
       "      <td>0.898867</td>\n",
       "      <td>0.989482</td>\n",
       "      <td>-0.320145</td>\n",
       "      <td>0.822004</td>\n",
       "      <td>-176.459962</td>\n",
       "      <td>100.0</td>\n",
       "      <td>-3.385090</td>\n",
       "      <td>2.348766</td>\n",
       "    </tr>\n",
       "    <tr>\n",
       "      <th>4</th>\n",
       "      <td>-2.0</td>\n",
       "      <td>100.0</td>\n",
       "      <td>-165.739007</td>\n",
       "      <td>0.822004</td>\n",
       "      <td>0.909444</td>\n",
       "      <td>0.954126</td>\n",
       "      <td>-0.506358</td>\n",
       "      <td>0.822004</td>\n",
       "      <td>-165.739007</td>\n",
       "      <td>100.0</td>\n",
       "      <td>-3.385090</td>\n",
       "      <td>2.313410</td>\n",
       "    </tr>\n",
       "    <tr>\n",
       "      <th>5</th>\n",
       "      <td>0.0</td>\n",
       "      <td>100.0</td>\n",
       "      <td>-157.752835</td>\n",
       "      <td>0.822004</td>\n",
       "      <td>0.909129</td>\n",
       "      <td>0.907795</td>\n",
       "      <td>-0.645071</td>\n",
       "      <td>0.822004</td>\n",
       "      <td>-157.752835</td>\n",
       "      <td>100.0</td>\n",
       "      <td>-3.385090</td>\n",
       "      <td>2.267079</td>\n",
       "    </tr>\n",
       "    <tr>\n",
       "      <th>6</th>\n",
       "      <td>2.0</td>\n",
       "      <td>100.0</td>\n",
       "      <td>-151.654964</td>\n",
       "      <td>0.822004</td>\n",
       "      <td>0.899295</td>\n",
       "      <td>0.857754</td>\n",
       "      <td>-0.750985</td>\n",
       "      <td>0.822004</td>\n",
       "      <td>-151.654964</td>\n",
       "      <td>100.0</td>\n",
       "      <td>-3.385090</td>\n",
       "      <td>2.217038</td>\n",
       "    </tr>\n",
       "    <tr>\n",
       "      <th>7</th>\n",
       "      <td>4.0</td>\n",
       "      <td>100.0</td>\n",
       "      <td>-146.884997</td>\n",
       "      <td>0.822004</td>\n",
       "      <td>0.881756</td>\n",
       "      <td>0.807664</td>\n",
       "      <td>-0.833835</td>\n",
       "      <td>0.822004</td>\n",
       "      <td>-146.884997</td>\n",
       "      <td>100.0</td>\n",
       "      <td>-3.385090</td>\n",
       "      <td>2.166948</td>\n",
       "    </tr>\n",
       "    <tr>\n",
       "      <th>8</th>\n",
       "      <td>6.0</td>\n",
       "      <td>100.0</td>\n",
       "      <td>-143.065174</td>\n",
       "      <td>0.822004</td>\n",
       "      <td>0.858305</td>\n",
       "      <td>0.759243</td>\n",
       "      <td>-0.900182</td>\n",
       "      <td>0.822004</td>\n",
       "      <td>-143.065174</td>\n",
       "      <td>100.0</td>\n",
       "      <td>-3.385090</td>\n",
       "      <td>2.118527</td>\n",
       "    </tr>\n",
       "    <tr>\n",
       "      <th>9</th>\n",
       "      <td>8.0</td>\n",
       "      <td>100.0</td>\n",
       "      <td>-139.936434</td>\n",
       "      <td>0.822004</td>\n",
       "      <td>0.830528</td>\n",
       "      <td>0.713186</td>\n",
       "      <td>-0.954525</td>\n",
       "      <td>0.822004</td>\n",
       "      <td>-139.936434</td>\n",
       "      <td>100.0</td>\n",
       "      <td>-3.385090</td>\n",
       "      <td>2.072470</td>\n",
       "    </tr>\n",
       "    <tr>\n",
       "      <th>10</th>\n",
       "      <td>10.0</td>\n",
       "      <td>100.0</td>\n",
       "      <td>-137.318270</td>\n",
       "      <td>0.822004</td>\n",
       "      <td>0.799739</td>\n",
       "      <td>0.669676</td>\n",
       "      <td>-1.000000</td>\n",
       "      <td>0.822004</td>\n",
       "      <td>-137.318270</td>\n",
       "      <td>100.0</td>\n",
       "      <td>-3.385090</td>\n",
       "      <td>2.028960</td>\n",
       "    </tr>\n",
       "  </tbody>\n",
       "</table>\n",
       "</div>"
      ],
      "text/plain": [
       "      Time [Scaled]  Q2 [Scaled]  Q3 [Scaled]  P0 [Scaled]  P1 [Scaled]  \\\n",
       "Step                                                                      \n",
       "0             -10.0          0.0     0.000000     0.822004     0.822004   \n",
       "1              -8.0        100.0  -212.053390     0.822004     0.848398   \n",
       "2              -6.0        100.0  -191.218025     0.822004     0.877416   \n",
       "3              -4.0        100.0  -176.459962     0.822004     0.898867   \n",
       "4              -2.0        100.0  -165.739007     0.822004     0.909444   \n",
       "5               0.0        100.0  -157.752835     0.822004     0.909129   \n",
       "6               2.0        100.0  -151.654964     0.822004     0.899295   \n",
       "7               4.0        100.0  -146.884997     0.822004     0.881756   \n",
       "8               6.0        100.0  -143.065174     0.822004     0.858305   \n",
       "9               8.0        100.0  -139.936434     0.822004     0.830528   \n",
       "10             10.0        100.0  -137.318270     0.822004     0.799739   \n",
       "\n",
       "      P2 [Scaled]  P3 [Scaled]  P4 [Scaled]  Qw3 [Scaled]  Qw2 [Scaled]  \\\n",
       "Step                                                                      \n",
       "0        0.822004     0.822004     0.822004      0.000000           0.0   \n",
       "1        0.959895     0.298079     0.822004   -212.053390         100.0   \n",
       "2        1.000000    -0.063812     0.822004   -191.218025         100.0   \n",
       "3        0.989482    -0.320145     0.822004   -176.459962         100.0   \n",
       "4        0.954126    -0.506358     0.822004   -165.739007         100.0   \n",
       "5        0.907795    -0.645071     0.822004   -157.752835         100.0   \n",
       "6        0.857754    -0.750985     0.822004   -151.654964         100.0   \n",
       "7        0.807664    -0.833835     0.822004   -146.884997         100.0   \n",
       "8        0.759243    -0.900182     0.822004   -143.065174         100.0   \n",
       "9        0.713186    -0.954525     0.822004   -139.936434         100.0   \n",
       "10       0.669676    -1.000000     0.822004   -137.318270         100.0   \n",
       "\n",
       "      Pwf3 [Scaled]  Pwf2 [Scaled]  \n",
       "Step                                \n",
       "0          0.822004       0.822004  \n",
       "1         -3.385090       2.319179  \n",
       "2         -3.385090       2.359284  \n",
       "3         -3.385090       2.348766  \n",
       "4         -3.385090       2.313410  \n",
       "5         -3.385090       2.267079  \n",
       "6         -3.385090       2.217038  \n",
       "7         -3.385090       2.166948  \n",
       "8         -3.385090       2.118527  \n",
       "9         -3.385090       2.072470  \n",
       "10        -3.385090       2.028960  "
      ]
     },
     "execution_count": 16,
     "metadata": {},
     "output_type": "execute_result"
    }
   ],
   "source": [
    "model.get_df(\n",
    "    scale=True,\n",
    "    melt=False,\n",
    "    boundary=True,\n",
    "    units=True,\n",
    "    columns=[\"time\", \"cells\", \"wells\"],\n",
    ")"
   ]
  }
 ],
 "metadata": {
  "kernelspec": {
   "display_name": "Python 3 (ipykernel)",
   "language": "python",
   "name": "python3"
  },
  "language_info": {
   "codemirror_mode": {
    "name": "ipython",
    "version": 3
   },
   "file_extension": ".py",
   "mimetype": "text/x-python",
   "name": "python",
   "nbconvert_exporter": "python",
   "pygments_lexer": "ipython3",
   "version": "3.7.9"
  }
 },
 "nbformat": 4,
 "nbformat_minor": 2
}
