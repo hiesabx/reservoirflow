{
 "cells": [
  {
   "cell_type": "code",
   "execution_count": 1,
   "metadata": {},
   "outputs": [],
   "source": [
    "import reservoirflow as rf\n",
    "import numpy as np\n",
    "import pandas as pd"
   ]
  },
  {
   "cell_type": "code",
   "execution_count": 2,
   "metadata": {},
   "outputs": [
    {
     "data": {
      "text/plain": [
       "'0.1.0'"
      ]
     },
     "execution_count": 2,
     "metadata": {},
     "output_type": "execute_result"
    }
   ],
   "source": [
    "rf.__version__"
   ]
  },
  {
   "cell_type": "code",
   "execution_count": 18,
   "metadata": {},
   "outputs": [
    {
     "data": {
      "text/html": [
       "<div>\n",
       "<style scoped>\n",
       "    .dataframe tbody tr th:only-of-type {\n",
       "        vertical-align: middle;\n",
       "    }\n",
       "\n",
       "    .dataframe tbody tr th {\n",
       "        vertical-align: top;\n",
       "    }\n",
       "\n",
       "    .dataframe thead th {\n",
       "        text-align: right;\n",
       "    }\n",
       "</style>\n",
       "<table border=\"1\" class=\"dataframe\">\n",
       "  <thead>\n",
       "    <tr style=\"text-align: right;\">\n",
       "      <th></th>\n",
       "      <th>$a^2$</th>\n",
       "      <th>$b^2$</th>\n",
       "      <th>c^^2</th>\n",
       "    </tr>\n",
       "  </thead>\n",
       "  <tbody>\n",
       "    <tr>\n",
       "      <th>0</th>\n",
       "      <td>1</td>\n",
       "      <td>2</td>\n",
       "      <td>3</td>\n",
       "    </tr>\n",
       "    <tr>\n",
       "      <th>1</th>\n",
       "      <td>1</td>\n",
       "      <td>2</td>\n",
       "      <td>3</td>\n",
       "    </tr>\n",
       "  </tbody>\n",
       "</table>\n",
       "</div>"
      ],
      "text/plain": [
       "   $a^2$  $b^2$  c^^2\n",
       "0      1      2     3\n",
       "1      1      2     3"
      ]
     },
     "execution_count": 18,
     "metadata": {},
     "output_type": "execute_result"
    }
   ],
   "source": [
    "df = pd.DataFrame([[1, 2, 3], [1, 2, 3]], columns=[\"$a^2$\", r\"$b^2$\", \"c^^2\"])\n",
    "df"
   ]
  },
  {
   "cell_type": "code",
   "execution_count": null,
   "metadata": {},
   "outputs": [],
   "source": []
  },
  {
   "cell_type": "code",
   "execution_count": null,
   "metadata": {},
   "outputs": [],
   "source": [
    "rf.F"
   ]
  },
  {
   "cell_type": "code",
   "execution_count": 3,
   "metadata": {},
   "outputs": [
    {
     "data": {
      "text/plain": [
       "['Dummy',\n",
       " 'MinMax',\n",
       " '__all__',\n",
       " '__builtins__',\n",
       " '__cached__',\n",
       " '__doc__',\n",
       " '__file__',\n",
       " '__loader__',\n",
       " '__name__',\n",
       " '__package__',\n",
       " '__path__',\n",
       " '__spec__',\n",
       " '_dummy',\n",
       " '_minmax',\n",
       " '_scaler']"
      ]
     },
     "execution_count": 3,
     "metadata": {},
     "output_type": "execute_result"
    }
   ],
   "source": [
    "dir(rf.scalers)"
   ]
  },
  {
   "cell_type": "code",
   "execution_count": 4,
   "metadata": {},
   "outputs": [
    {
     "data": {
      "text/plain": [
       "['BlackOil',\n",
       " '__all__',\n",
       " '__builtins__',\n",
       " '__cached__',\n",
       " '__doc__',\n",
       " '__file__',\n",
       " '__loader__',\n",
       " '__name__',\n",
       " '__package__',\n",
       " '__path__',\n",
       " '__spec__',\n",
       " '_black_oil',\n",
       " '_model']"
      ]
     },
     "execution_count": 4,
     "metadata": {},
     "output_type": "execute_result"
    }
   ],
   "source": [
    "dir(rf.models)"
   ]
  },
  {
   "cell_type": "code",
   "execution_count": 5,
   "metadata": {},
   "outputs": [
    {
     "data": {
      "text/plain": [
       "{'field': {'transmissibility': 'stb/d-psi',\n",
       "  'error': 'stb/d',\n",
       "  'pressure': 'psia',\n",
       "  'time': 'days',\n",
       "  'rate': 'stb/day',\n",
       "  'length': 'ft',\n",
       "  'area': 'ft^2',\n",
       "  'volume': 'ft^3'},\n",
       " 'metric': {'transmissibility': 'm^3/D-bar',\n",
       "  'error': 'm^3/day',\n",
       "  'pressure': 'kpa',\n",
       "  'time': 'days',\n",
       "  'rate': 'm^3/day',\n",
       "  'length': 'm',\n",
       "  'area': 'm^2',\n",
       "  'volume': 'm^3'},\n",
       " 'lab': {'transmissibility': 'cm^3/sec-atm',\n",
       "  'error': 'cm^3/sec',\n",
       "  'pressure': 'atm',\n",
       "  'time': 'sec',\n",
       "  'rate': 'cm^3/sec',\n",
       "  'length': 'cm',\n",
       "  'area': 'cm^2',\n",
       "  'volume': 'cm^3'}}"
      ]
     },
     "execution_count": 5,
     "metadata": {},
     "output_type": "execute_result"
    }
   ],
   "source": [
    "rf._base.UNITS"
   ]
  },
  {
   "cell_type": "code",
   "execution_count": 6,
   "metadata": {},
   "outputs": [
    {
     "data": {
      "text/plain": [
       "['__class__',\n",
       " '__delattr__',\n",
       " '__dict__',\n",
       " '__dir__',\n",
       " '__doc__',\n",
       " '__eq__',\n",
       " '__format__',\n",
       " '__ge__',\n",
       " '__getattribute__',\n",
       " '__gt__',\n",
       " '__hash__',\n",
       " '__init__',\n",
       " '__init_subclass__',\n",
       " '__le__',\n",
       " '__lt__',\n",
       " '__module__',\n",
       " '__ne__',\n",
       " '__new__',\n",
       " '__reduce__',\n",
       " '__reduce_ex__',\n",
       " '__repr__',\n",
       " '__setattr__',\n",
       " '__sizeof__',\n",
       " '__str__',\n",
       " '__subclasshook__',\n",
       " '__weakref__',\n",
       " 'allow_synonyms',\n",
       " 'name',\n",
       " 'report',\n",
       " 'set_B',\n",
       " 'set_comp',\n",
       " 'set_mu',\n",
       " 'set_props',\n",
       " 'set_rho',\n",
       " 'set_units']"
      ]
     },
     "execution_count": 6,
     "metadata": {},
     "output_type": "execute_result"
    }
   ],
   "source": [
    "dir(rf.fluids.SinglePhase)"
   ]
  },
  {
   "cell_type": "code",
   "execution_count": 7,
   "metadata": {},
   "outputs": [
    {
     "data": {
      "text/plain": [
       "['_RegularCartesian__calc_cells_A',\n",
       " '_RegularCartesian__calc_cells_V',\n",
       " '_RegularCartesian__calc_cells_d',\n",
       " '_RegularCartesian__calc_cells_d_',\n",
       " '__class__',\n",
       " '__delattr__',\n",
       " '__dict__',\n",
       " '__dir__',\n",
       " '__doc__',\n",
       " '__eq__',\n",
       " '__format__',\n",
       " '__ge__',\n",
       " '__getattribute__',\n",
       " '__gt__',\n",
       " '__hash__',\n",
       " '__init__',\n",
       " '__init_subclass__',\n",
       " '__le__',\n",
       " '__lt__',\n",
       " '__module__',\n",
       " '__ne__',\n",
       " '__new__',\n",
       " '__reduce__',\n",
       " '__reduce_ex__',\n",
       " '__repr__',\n",
       " '__setattr__',\n",
       " '__sizeof__',\n",
       " '__str__',\n",
       " '__subclasshook__',\n",
       " '__weakref__',\n",
       " 'allow_synonyms',\n",
       " 'extract_boundaries',\n",
       " 'get_D',\n",
       " 'get_Vt',\n",
       " 'get_boundaries',\n",
       " 'get_cell_A',\n",
       " 'get_cell_Ax',\n",
       " 'get_cell_Ay',\n",
       " 'get_cell_Az',\n",
       " 'get_cell_G',\n",
       " 'get_cell_V',\n",
       " 'get_cell_boundaries',\n",
       " 'get_cell_center',\n",
       " 'get_cell_coords',\n",
       " 'get_cell_d',\n",
       " 'get_cell_dx',\n",
       " 'get_cell_dy',\n",
       " 'get_cell_dz',\n",
       " 'get_cell_icoords',\n",
       " 'get_cell_id',\n",
       " 'get_cell_k',\n",
       " 'get_cell_kx',\n",
       " 'get_cell_ky',\n",
       " 'get_cell_kz',\n",
       " 'get_cell_neighbors',\n",
       " 'get_cells_A',\n",
       " 'get_cells_Ax',\n",
       " 'get_cells_Ay',\n",
       " 'get_cells_Az',\n",
       " 'get_cells_G',\n",
       " 'get_cells_G_diag_1',\n",
       " 'get_cells_G_diag_2',\n",
       " 'get_cells_G_diag_3',\n",
       " 'get_cells_V',\n",
       " 'get_cells_center',\n",
       " 'get_cells_coords',\n",
       " 'get_cells_d',\n",
       " 'get_cells_dx',\n",
       " 'get_cells_dy',\n",
       " 'get_cells_dz',\n",
       " 'get_cells_i',\n",
       " 'get_cells_icoords',\n",
       " 'get_cells_id',\n",
       " 'get_cells_k',\n",
       " 'get_corners',\n",
       " 'get_fdir',\n",
       " 'get_fshape',\n",
       " 'get_n',\n",
       " 'get_n_max',\n",
       " 'get_ones',\n",
       " 'get_order',\n",
       " 'get_prop',\n",
       " 'get_pyvista_grid',\n",
       " 'get_shape',\n",
       " 'get_zeros',\n",
       " 'is_anisotropic',\n",
       " 'is_heterogeneous',\n",
       " 'is_homogeneous',\n",
       " 'is_irregular',\n",
       " 'is_isotropic',\n",
       " 'is_regular',\n",
       " 'name',\n",
       " 'remove_boundaries',\n",
       " 'report',\n",
       " 'set_cell_value',\n",
       " 'set_comp',\n",
       " 'set_prop',\n",
       " 'set_props',\n",
       " 'set_units',\n",
       " 'show']"
      ]
     },
     "execution_count": 7,
     "metadata": {},
     "output_type": "execute_result"
    }
   ],
   "source": [
    "dir(rf.grids.RegularCartesian)"
   ]
  },
  {
   "cell_type": "code",
   "execution_count": 8,
   "metadata": {},
   "outputs": [
    {
     "data": {
      "text/plain": [
       "{'field': {'transmissibility': 'stb/d-psi',\n",
       "  'error': 'stb/d',\n",
       "  'pressure': 'psia',\n",
       "  'time': 'days',\n",
       "  'rate': 'stb/day',\n",
       "  'length': 'ft',\n",
       "  'area': 'ft^2',\n",
       "  'volume': 'ft^3'},\n",
       " 'metric': {'transmissibility': 'm^3/D-bar',\n",
       "  'error': 'm^3/day',\n",
       "  'pressure': 'kpa',\n",
       "  'time': 'days',\n",
       "  'rate': 'm^3/day',\n",
       "  'length': 'm',\n",
       "  'area': 'm^2',\n",
       "  'volume': 'm^3'},\n",
       " 'lab': {'transmissibility': 'cm^3/sec-atm',\n",
       "  'error': 'cm^3/sec',\n",
       "  'pressure': 'atm',\n",
       "  'time': 'sec',\n",
       "  'rate': 'cm^3/sec',\n",
       "  'length': 'cm',\n",
       "  'area': 'cm^2',\n",
       "  'volume': 'cm^3'}}"
      ]
     },
     "execution_count": 8,
     "metadata": {},
     "output_type": "execute_result"
    }
   ],
   "source": [
    "rf.UNITS"
   ]
  },
  {
   "cell_type": "code",
   "execution_count": 9,
   "metadata": {},
   "outputs": [
    {
     "data": {
      "text/plain": [
       "reservoirflow.scalers._minmax.MinMax"
      ]
     },
     "execution_count": 9,
     "metadata": {},
     "output_type": "execute_result"
    }
   ],
   "source": [
    "type(rf.scalers.MinMax((1, 1)))"
   ]
  },
  {
   "cell_type": "code",
   "execution_count": 10,
   "metadata": {},
   "outputs": [
    {
     "name": "stdout",
     "output_type": "stream",
     "text": [
      "[info] Simulation run started: 10 timesteps.\n"
     ]
    },
    {
     "name": "stderr",
     "output_type": "stream",
     "text": [
      "[step]: 10 - : 100%|\u001b[32m██████████\u001b[0m| 10/10 [00:00<00:00, 428.64steps/s]"
     ]
    },
    {
     "name": "stdout",
     "output_type": "stream",
     "text": [
      "[info] Simulation run of 10 steps finished in 0.04 seconds.\n",
      "[info] Material Balance Error: 2.55351295663786e-15.\n"
     ]
    },
    {
     "name": "stderr",
     "output_type": "stream",
     "text": [
      "\n"
     ]
    }
   ],
   "source": [
    "def create_model_example_7_1():\n",
    "    grid = rf.grids.Cartesian(\n",
    "        nx=4, ny=1, nz=1, dx=300, dy=350, dz=40, phi=0.27, kx=270, dtype=\"double\"\n",
    "    )\n",
    "    fluid = rf.fluids.SinglePhase(mu=0.5, B=1, dtype=\"double\")\n",
    "    model = rf.models.BlackOil(grid, fluid, dtype=\"double\", verbose=False)\n",
    "    model.set_well(id=4, q=-600, s=1.5, r=3.5)\n",
    "    model.set_boundaries({0: (\"pressure\", 4000), 5: (\"rate\", 0)})\n",
    "    return model\n",
    "\n",
    "\n",
    "def create_model():\n",
    "    grid = rf.grids.RegularCartesian(\n",
    "        nx=3,\n",
    "        ny=1,\n",
    "        nz=1,\n",
    "        dx=300,\n",
    "        dy=350,\n",
    "        dz=20,\n",
    "        phi=0.27,\n",
    "        kx=1,\n",
    "        ky=1,\n",
    "        kz=0.1,\n",
    "        comp=1 * 10**-6,\n",
    "        dtype=\"double\",\n",
    "    )\n",
    "    fluid = rf.fluids.SinglePhase(\n",
    "        mu=0.5, B=1, rho=50, comp=1 * 10**-5, dtype=\"double\"\n",
    "    )\n",
    "    model = rf.models.BlackOil(\n",
    "        grid, fluid, pi=6000, dt=5, start_date=\"10.10.2018\", dtype=\"double\"\n",
    "    )\n",
    "\n",
    "    n_samples = 1\n",
    "    cells_id = model.grid.get_cells_id(False, True)[-1].flatten()\n",
    "    wells = np.random.choice(cells_id, n_samples, False)\n",
    "    for id in wells:\n",
    "        model.set_well(id=id, q=-300, pwf=100, s=1.5, r=3.5)\n",
    "\n",
    "    wells = np.random.choice(cells_id, n_samples, False)\n",
    "    for id in wells:\n",
    "        model.set_well(id=id, q=100, s=0, r=3.5)\n",
    "\n",
    "    return model\n",
    "\n",
    "\n",
    "model = create_model()\n",
    "model.run(10, isolver=\"cgs\")"
   ]
  },
  {
   "cell_type": "code",
   "execution_count": 11,
   "metadata": {},
   "outputs": [
    {
     "data": {
      "text/plain": [
       "{'transmissibility': 'stb/d-psi',\n",
       " 'error': 'stb/d',\n",
       " 'pressure': 'psia',\n",
       " 'time': 'days',\n",
       " 'rate': 'stb/day',\n",
       " 'length': 'ft',\n",
       " 'area': 'ft^2',\n",
       " 'volume': 'ft^3'}"
      ]
     },
     "execution_count": 11,
     "metadata": {},
     "output_type": "execute_result"
    }
   ],
   "source": [
    "model.units"
   ]
  },
  {
   "cell_type": "code",
   "execution_count": 12,
   "metadata": {},
   "outputs": [
    {
     "name": "stdout",
     "output_type": "stream",
     "text": [
      "(5, 3)\n",
      "[150. 175.  10.]\n"
     ]
    },
    {
     "data": {
      "text/plain": [
       "array([[ 150.,  175.,   10.],\n",
       "       [ 450.,  175.,   10.],\n",
       "       [ 750.,  175.,   10.],\n",
       "       [1050.,  175.,   10.],\n",
       "       [1350.,  175.,   10.]])"
      ]
     },
     "execution_count": 12,
     "metadata": {},
     "output_type": "execute_result"
    }
   ],
   "source": [
    "arr = model.grid.get_cells_center(True, False)\n",
    "print(arr.shape)\n",
    "print(arr.min(axis=0))\n",
    "arr"
   ]
  },
  {
   "cell_type": "code",
   "execution_count": 13,
   "metadata": {},
   "outputs": [
    {
     "data": {
      "text/plain": [
       "2"
      ]
     },
     "execution_count": 13,
     "metadata": {},
     "output_type": "execute_result"
    }
   ],
   "source": [
    "np.count_nonzero(np.array([1, 2, 0, 0]) == 0)"
   ]
  },
  {
   "cell_type": "code",
   "execution_count": 14,
   "metadata": {},
   "outputs": [
    {
     "name": "stderr",
     "output_type": "stream",
     "text": [
      "C:\\Users\\abugrzka\\Projects\\reservoirflow\\reservoirflow\\scalers\\_minmax.py:39: RuntimeWarning: invalid value encountered in true_divide\n",
      "  self.vmax - self.vmin\n"
     ]
    },
    {
     "data": {
      "text/plain": [
       "array([[-1. ,  nan,  nan],\n",
       "       [-0.5,  nan,  nan],\n",
       "       [ 0. ,  nan,  nan],\n",
       "       [ 0.5,  nan,  nan],\n",
       "       [ 1. ,  nan,  nan]])"
      ]
     },
     "execution_count": 14,
     "metadata": {},
     "output_type": "execute_result"
    }
   ],
   "source": [
    "scaler = rf.scalers.MinMax((-1, 1)).fit(arr, axis=0)\n",
    "scaler.transform(arr)"
   ]
  },
  {
   "cell_type": "code",
   "execution_count": 15,
   "metadata": {},
   "outputs": [
    {
     "data": {
      "text/plain": [
       "array([0. , 0.1, 0.2, 0.3, 0.4, 0.5, 0.6, 0.7, 0.8, 0.9, 1. ])"
      ]
     },
     "execution_count": 15,
     "metadata": {},
     "output_type": "execute_result"
    }
   ],
   "source": [
    "t = np.arange(0, (model.tstep + 1) * model.dt, model.dt)\n",
    "rf.scalers.MinMax((0, 1)).fit_transform(t, axis=0)"
   ]
  },
  {
   "cell_type": "code",
   "execution_count": 16,
   "metadata": {},
   "outputs": [
    {
     "data": {
      "text/plain": [
       "array([ 0,  5, 10, 15, 20, 25, 30, 35, 40, 45, 50])"
      ]
     },
     "execution_count": 16,
     "metadata": {},
     "output_type": "execute_result"
    }
   ],
   "source": [
    "t"
   ]
  },
  {
   "cell_type": "code",
   "execution_count": 17,
   "metadata": {},
   "outputs": [
    {
     "data": {
      "text/plain": [
       "(array([[ 0],\n",
       "        [ 5],\n",
       "        [10],\n",
       "        [15],\n",
       "        [20],\n",
       "        [25],\n",
       "        [30],\n",
       "        [35],\n",
       "        [40],\n",
       "        [45],\n",
       "        [50]]),\n",
       " array([[ 150.],\n",
       "        [ 450.],\n",
       "        [ 750.],\n",
       "        [1050.],\n",
       "        [1350.]]))"
      ]
     },
     "execution_count": 17,
     "metadata": {},
     "output_type": "execute_result"
    }
   ],
   "source": [
    "t, x = model.get_domain(False, True)\n",
    "t, x"
   ]
  },
  {
   "cell_type": "code",
   "execution_count": 18,
   "metadata": {},
   "outputs": [
    {
     "data": {
      "text/plain": [
       "array([[-1. ],\n",
       "       [-0.5],\n",
       "       [ 0. ],\n",
       "       [ 0.5],\n",
       "       [ 1. ]])"
      ]
     },
     "execution_count": 18,
     "metadata": {},
     "output_type": "execute_result"
    }
   ],
   "source": [
    "rf.scalers.MinMax((-1, 1)).fit_transform(x, axis=0)"
   ]
  },
  {
   "cell_type": "code",
   "execution_count": 19,
   "metadata": {},
   "outputs": [
    {
     "data": {
      "text/plain": [
       "array([[0. ],\n",
       "       [0.1],\n",
       "       [0.2],\n",
       "       [0.3],\n",
       "       [0.4],\n",
       "       [0.5],\n",
       "       [0.6],\n",
       "       [0.7],\n",
       "       [0.8],\n",
       "       [0.9],\n",
       "       [1. ]])"
      ]
     },
     "execution_count": 19,
     "metadata": {},
     "output_type": "execute_result"
    }
   ],
   "source": [
    "rf.scalers.MinMax((0, 1)).fit_transform(t, axis=0)"
   ]
  },
  {
   "cell_type": "code",
   "execution_count": 20,
   "metadata": {},
   "outputs": [
    {
     "data": {
      "text/plain": [
       "(array([[ 150.],\n",
       "        [ 450.],\n",
       "        [ 750.],\n",
       "        [1050.],\n",
       "        [1350.]]),\n",
       " ['x'])"
      ]
     },
     "execution_count": 20,
     "metadata": {},
     "output_type": "execute_result"
    }
   ],
   "source": [
    "model.get_centers(False)"
   ]
  },
  {
   "cell_type": "code",
   "execution_count": 21,
   "metadata": {},
   "outputs": [],
   "source": [
    "config = {\"time\": [\"MinMax\", (0, 1)], \"space\": [\"minMax\"]}"
   ]
  },
  {
   "cell_type": "code",
   "execution_count": 22,
   "metadata": {},
   "outputs": [
    {
     "data": {
      "text/plain": [
       "{'time': ['MinMax', (-10, 10)],\n",
       " 'space': ['MinMax', (-1, 1)],\n",
       " 'pressure': ['MinMax', (-1, 1)],\n",
       " 'rate': [None, None]}"
      ]
     },
     "execution_count": 22,
     "metadata": {},
     "output_type": "execute_result"
    }
   ],
   "source": [
    "model.set_scalers({\"time\": [\"minmax\", (-10, 10)], \"rate\": [\"minmax\", None]})\n",
    "model.scalers_dict"
   ]
  },
  {
   "cell_type": "code",
   "execution_count": 23,
   "metadata": {},
   "outputs": [
    {
     "data": {
      "text/plain": [
       "array([        nan, -0.9902352 , -0.94898548, -0.69223375,         nan])"
      ]
     },
     "execution_count": 23,
     "metadata": {},
     "output_type": "execute_result"
    }
   ],
   "source": [
    "model.update_scalers(False)\n",
    "model.pressures_scaler.transform(model.pressures[1])\n",
    "# model.space_scaler.transform(model.get_centers(False)[0])"
   ]
  },
  {
   "cell_type": "code",
   "execution_count": 25,
   "metadata": {},
   "outputs": [
    {
     "data": {
      "text/html": [
       "<div>\n",
       "<style scoped>\n",
       "    .dataframe tbody tr th:only-of-type {\n",
       "        vertical-align: middle;\n",
       "    }\n",
       "\n",
       "    .dataframe tbody tr th {\n",
       "        vertical-align: top;\n",
       "    }\n",
       "\n",
       "    .dataframe thead th {\n",
       "        text-align: right;\n",
       "    }\n",
       "</style>\n",
       "<table border=\"1\" class=\"dataframe\">\n",
       "  <thead>\n",
       "    <tr style=\"text-align: right;\">\n",
       "      <th></th>\n",
       "      <th>Time [days]</th>\n",
       "      <th>Q3 [stb/day]</th>\n",
       "      <th>P1 [psia]</th>\n",
       "      <th>P2 [psia]</th>\n",
       "      <th>P3 [psia]</th>\n",
       "      <th>Qw3 [stb/day]</th>\n",
       "      <th>Pwf3 [psia]</th>\n",
       "    </tr>\n",
       "    <tr>\n",
       "      <th>Step</th>\n",
       "      <th></th>\n",
       "      <th></th>\n",
       "      <th></th>\n",
       "      <th></th>\n",
       "      <th></th>\n",
       "      <th></th>\n",
       "      <th></th>\n",
       "    </tr>\n",
       "  </thead>\n",
       "  <tbody>\n",
       "    <tr>\n",
       "      <th>0</th>\n",
       "      <td>0</td>\n",
       "      <td>0.0</td>\n",
       "      <td>6000.000000</td>\n",
       "      <td>6000.000000</td>\n",
       "      <td>6000.000000</td>\n",
       "      <td>0.0</td>\n",
       "      <td>6000.000000</td>\n",
       "    </tr>\n",
       "    <tr>\n",
       "      <th>1</th>\n",
       "      <td>5</td>\n",
       "      <td>100.0</td>\n",
       "      <td>6011.925704</td>\n",
       "      <td>6062.303776</td>\n",
       "      <td>6375.873375</td>\n",
       "      <td>100.0</td>\n",
       "      <td>8282.124330</td>\n",
       "    </tr>\n",
       "    <tr>\n",
       "      <th>2</th>\n",
       "      <td>10</td>\n",
       "      <td>100.0</td>\n",
       "      <td>6040.467778</td>\n",
       "      <td>6161.038838</td>\n",
       "      <td>6698.699092</td>\n",
       "      <td>100.0</td>\n",
       "      <td>8604.950047</td>\n",
       "    </tr>\n",
       "    <tr>\n",
       "      <th>3</th>\n",
       "      <td>15</td>\n",
       "      <td>100.0</td>\n",
       "      <td>6086.523245</td>\n",
       "      <td>6281.076599</td>\n",
       "      <td>6982.708718</td>\n",
       "      <td>100.0</td>\n",
       "      <td>8888.959673</td>\n",
       "    </tr>\n",
       "    <tr>\n",
       "      <th>4</th>\n",
       "      <td>20</td>\n",
       "      <td>100.0</td>\n",
       "      <td>6149.124145</td>\n",
       "      <td>6413.570824</td>\n",
       "      <td>7237.716446</td>\n",
       "      <td>100.0</td>\n",
       "      <td>9143.967401</td>\n",
       "    </tr>\n",
       "    <tr>\n",
       "      <th>5</th>\n",
       "      <td>25</td>\n",
       "      <td>100.0</td>\n",
       "      <td>6226.497680</td>\n",
       "      <td>6553.348798</td>\n",
       "      <td>7470.667792</td>\n",
       "      <td>100.0</td>\n",
       "      <td>9376.918747</td>\n",
       "    </tr>\n",
       "    <tr>\n",
       "      <th>6</th>\n",
       "      <td>30</td>\n",
       "      <td>100.0</td>\n",
       "      <td>6316.631425</td>\n",
       "      <td>6697.385844</td>\n",
       "      <td>7686.599855</td>\n",
       "      <td>100.0</td>\n",
       "      <td>9592.850810</td>\n",
       "    </tr>\n",
       "    <tr>\n",
       "      <th>7</th>\n",
       "      <td>35</td>\n",
       "      <td>100.0</td>\n",
       "      <td>6417.559620</td>\n",
       "      <td>6843.913325</td>\n",
       "      <td>7889.247033</td>\n",
       "      <td>100.0</td>\n",
       "      <td>9795.497988</td>\n",
       "    </tr>\n",
       "    <tr>\n",
       "      <th>8</th>\n",
       "      <td>40</td>\n",
       "      <td>100.0</td>\n",
       "      <td>6527.494818</td>\n",
       "      <td>6991.897053</td>\n",
       "      <td>8081.430960</td>\n",
       "      <td>100.0</td>\n",
       "      <td>9987.681915</td>\n",
       "    </tr>\n",
       "    <tr>\n",
       "      <th>9</th>\n",
       "      <td>45</td>\n",
       "      <td>100.0</td>\n",
       "      <td>6644.875962</td>\n",
       "      <td>7140.732303</td>\n",
       "      <td>8265.317421</td>\n",
       "      <td>100.0</td>\n",
       "      <td>10171.568375</td>\n",
       "    </tr>\n",
       "    <tr>\n",
       "      <th>10</th>\n",
       "      <td>50</td>\n",
       "      <td>100.0</td>\n",
       "      <td>6768.373112</td>\n",
       "      <td>7290.065469</td>\n",
       "      <td>8442.589958</td>\n",
       "      <td>100.0</td>\n",
       "      <td>10348.840913</td>\n",
       "    </tr>\n",
       "  </tbody>\n",
       "</table>\n",
       "</div>"
      ],
      "text/plain": [
       "      Time [days]  Q3 [stb/day]    P1 [psia]    P2 [psia]    P3 [psia]  \\\n",
       "Step                                                                     \n",
       "0               0           0.0  6000.000000  6000.000000  6000.000000   \n",
       "1               5         100.0  6011.925704  6062.303776  6375.873375   \n",
       "2              10         100.0  6040.467778  6161.038838  6698.699092   \n",
       "3              15         100.0  6086.523245  6281.076599  6982.708718   \n",
       "4              20         100.0  6149.124145  6413.570824  7237.716446   \n",
       "5              25         100.0  6226.497680  6553.348798  7470.667792   \n",
       "6              30         100.0  6316.631425  6697.385844  7686.599855   \n",
       "7              35         100.0  6417.559620  6843.913325  7889.247033   \n",
       "8              40         100.0  6527.494818  6991.897053  8081.430960   \n",
       "9              45         100.0  6644.875962  7140.732303  8265.317421   \n",
       "10             50         100.0  6768.373112  7290.065469  8442.589958   \n",
       "\n",
       "      Qw3 [stb/day]   Pwf3 [psia]  \n",
       "Step                               \n",
       "0               0.0   6000.000000  \n",
       "1             100.0   8282.124330  \n",
       "2             100.0   8604.950047  \n",
       "3             100.0   8888.959673  \n",
       "4             100.0   9143.967401  \n",
       "5             100.0   9376.918747  \n",
       "6             100.0   9592.850810  \n",
       "7             100.0   9795.497988  \n",
       "8             100.0   9987.681915  \n",
       "9             100.0  10171.568375  \n",
       "10            100.0  10348.840913  "
      ]
     },
     "execution_count": 25,
     "metadata": {},
     "output_type": "execute_result"
    }
   ],
   "source": [
    "model.get_df(\n",
    "    scale=False,\n",
    "    melt=False,\n",
    "    boundary=True,\n",
    "    units=True,\n",
    "    columns=[\"time\", \"cells\", \"wells\"],\n",
    ")"
   ]
  },
  {
   "cell_type": "raw",
   "metadata": {},
   "source": [
    "# !pip install trame\n",
    "# !pip install trame-vtk trame-vuetify trame-plotly\n",
    "# !pip install ipywidgets\n",
    "import ipywidgets\n",
    "from trame.widgets import vuetify2, vuetify3"
   ]
  },
  {
   "cell_type": "raw",
   "metadata": {},
   "source": [
    "model.show(\"pressures\")"
   ]
  }
 ],
 "metadata": {
  "kernelspec": {
   "display_name": "Python 3 (ipykernel)",
   "language": "python",
   "name": "python3"
  },
  "language_info": {
   "codemirror_mode": {
    "name": "ipython",
    "version": 3
   },
   "file_extension": ".py",
   "mimetype": "text/x-python",
   "name": "python",
   "nbconvert_exporter": "python",
   "pygments_lexer": "ipython3",
   "version": "3.7.9"
  }
 },
 "nbformat": 4,
 "nbformat_minor": 2
}
