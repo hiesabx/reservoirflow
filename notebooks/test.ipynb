{
 "cells": [
  {
   "cell_type": "code",
   "execution_count": 1,
   "metadata": {},
   "outputs": [],
   "source": [
    "import reservoirflow as rf\n",
    "import numpy as np"
   ]
  },
  {
   "cell_type": "code",
   "execution_count": 2,
   "metadata": {},
   "outputs": [
    {
     "data": {
      "text/plain": [
       "{}"
      ]
     },
     "execution_count": 2,
     "metadata": {},
     "output_type": "execute_result"
    }
   ],
   "source": [
    "rf.scalers.Dummy([10, 10])"
   ]
  },
  {
   "cell_type": "code",
   "execution_count": 3,
   "metadata": {},
   "outputs": [
    {
     "data": {
      "text/plain": [
       "['Dummy',\n",
       " 'MinMax',\n",
       " '__all__',\n",
       " '__builtins__',\n",
       " '__cached__',\n",
       " '__doc__',\n",
       " '__file__',\n",
       " '__loader__',\n",
       " '__name__',\n",
       " '__package__',\n",
       " '__path__',\n",
       " '__spec__',\n",
       " '_dummy',\n",
       " '_minmax',\n",
       " '_scaler']"
      ]
     },
     "execution_count": 3,
     "metadata": {},
     "output_type": "execute_result"
    }
   ],
   "source": [
    "dir(rf.scalers)"
   ]
  },
  {
   "cell_type": "code",
   "execution_count": 4,
   "metadata": {},
   "outputs": [
    {
     "data": {
      "text/plain": [
       "['BlackOil',\n",
       " '__all__',\n",
       " '__builtins__',\n",
       " '__cached__',\n",
       " '__doc__',\n",
       " '__file__',\n",
       " '__loader__',\n",
       " '__name__',\n",
       " '__package__',\n",
       " '__path__',\n",
       " '__spec__',\n",
       " '_black_oil',\n",
       " '_model']"
      ]
     },
     "execution_count": 4,
     "metadata": {},
     "output_type": "execute_result"
    }
   ],
   "source": [
    "dir(rf.models)"
   ]
  },
  {
   "cell_type": "code",
   "execution_count": 5,
   "metadata": {},
   "outputs": [
    {
     "data": {
      "text/plain": [
       "['FACTORS',\n",
       " 'UNITS',\n",
       " '__builtins__',\n",
       " '__cached__',\n",
       " '__doc__',\n",
       " '__file__',\n",
       " '__loader__',\n",
       " '__name__',\n",
       " '__package__',\n",
       " '__path__',\n",
       " '__spec__',\n",
       " '__version__',\n",
       " '_base',\n",
       " 'fluids',\n",
       " 'grids',\n",
       " 'models',\n",
       " 'scalers',\n",
       " 'utils',\n",
       " 'wells']"
      ]
     },
     "execution_count": 5,
     "metadata": {},
     "output_type": "execute_result"
    }
   ],
   "source": [
    "dir(rf)"
   ]
  },
  {
   "cell_type": "code",
   "execution_count": 6,
   "metadata": {},
   "outputs": [
    {
     "data": {
      "text/plain": [
       "'0.0.1'"
      ]
     },
     "execution_count": 6,
     "metadata": {},
     "output_type": "execute_result"
    }
   ],
   "source": [
    "rf.__version__"
   ]
  },
  {
   "cell_type": "code",
   "execution_count": 7,
   "metadata": {},
   "outputs": [
    {
     "data": {
      "text/plain": [
       "{'field': {'transmissibility': 'STB/D-psi',\n",
       "  'error': 'STB/D',\n",
       "  'pressure': 'Psia',\n",
       "  'time': 'Days',\n",
       "  'rate': 'STB/Day'},\n",
       " 'metric': {'transmissibility': 'M3/D-bar', 'error': 'M3/D'}}"
      ]
     },
     "execution_count": 7,
     "metadata": {},
     "output_type": "execute_result"
    }
   ],
   "source": [
    "rf._base.UNITS"
   ]
  },
  {
   "cell_type": "code",
   "execution_count": 8,
   "metadata": {},
   "outputs": [
    {
     "data": {
      "text/plain": [
       "['FACTORS',\n",
       " 'UNITS',\n",
       " '__builtins__',\n",
       " '__cached__',\n",
       " '__doc__',\n",
       " '__file__',\n",
       " '__loader__',\n",
       " '__name__',\n",
       " '__package__',\n",
       " '__path__',\n",
       " '__spec__',\n",
       " '__version__',\n",
       " '_base',\n",
       " 'fluids',\n",
       " 'grids',\n",
       " 'models',\n",
       " 'scalers',\n",
       " 'utils',\n",
       " 'wells']"
      ]
     },
     "execution_count": 8,
     "metadata": {},
     "output_type": "execute_result"
    }
   ],
   "source": [
    "dir(rf)"
   ]
  },
  {
   "cell_type": "code",
   "execution_count": 9,
   "metadata": {},
   "outputs": [
    {
     "data": {
      "text/plain": [
       "{'field': {'transmissibility': 'STB/D-psi',\n",
       "  'error': 'STB/D',\n",
       "  'pressure': 'Psia',\n",
       "  'time': 'Days',\n",
       "  'rate': 'STB/Day'},\n",
       " 'metric': {'transmissibility': 'M3/D-bar', 'error': 'M3/D'}}"
      ]
     },
     "execution_count": 9,
     "metadata": {},
     "output_type": "execute_result"
    }
   ],
   "source": [
    "rf.UNITS"
   ]
  },
  {
   "cell_type": "code",
   "execution_count": 10,
   "metadata": {},
   "outputs": [
    {
     "data": {
      "text/plain": [
       "{'unit': 'field', 'units': {'transmissibility': 'STB/D-psi', 'error': 'STB/D', 'pressure': 'Psia', 'time': 'Days', 'rate': 'STB/Day'}, 'factors': {'transmissibility conversion': 0.001127, 'gravity conversion': 0.00021584000000000002, 'gravitational acceleration': 32.174, 'volume conversion': 5.614583}, 'dtype': 'double', 'verbose': False, 'rho': 0, 'g': 0.0, 'comp': 0, 'comp_type': 'incompressible'}"
      ]
     },
     "execution_count": 10,
     "metadata": {},
     "output_type": "execute_result"
    }
   ],
   "source": [
    "rf.fluids.SinglePhase()"
   ]
  },
  {
   "cell_type": "code",
   "execution_count": 11,
   "metadata": {},
   "outputs": [
    {
     "data": {
      "text/plain": [
       "reservoirflow.scalers._minmax.MinMax"
      ]
     },
     "execution_count": 11,
     "metadata": {},
     "output_type": "execute_result"
    }
   ],
   "source": [
    "type(rf.scalers.MinMax((1, 1)))"
   ]
  },
  {
   "cell_type": "code",
   "execution_count": 12,
   "metadata": {},
   "outputs": [
    {
     "name": "stdout",
     "output_type": "stream",
     "text": [
      "[info] Simulation run started: 10 timesteps.\n"
     ]
    },
    {
     "name": "stderr",
     "output_type": "stream",
     "text": [
      "[step]: 10 - : 100%|\u001b[32m██████████\u001b[0m| 10/10 [00:00<00:00, 54.97steps/s]"
     ]
    },
    {
     "name": "stdout",
     "output_type": "stream",
     "text": [
      "[info] Simulation run of 10 steps finished in 0.2 seconds.\n",
      "[info] Material Balance Error: 2.020605904817785e-14.\n"
     ]
    },
    {
     "name": "stderr",
     "output_type": "stream",
     "text": [
      "\n"
     ]
    }
   ],
   "source": [
    "def create_model_example_7_1():\n",
    "    grid = rf.grids.Cartesian(\n",
    "        nx=4, ny=1, nz=1, dx=300, dy=350, dz=40, phi=0.27, kx=270, dtype=\"double\"\n",
    "    )\n",
    "    fluid = rf.fluids.SinglePhase(mu=0.5, B=1, dtype=\"double\")\n",
    "    model = rf.models.BlackOil(grid, fluid, dtype=\"double\", verbose=False)\n",
    "    model.set_well(id=4, q=-600, s=1.5, r=3.5)\n",
    "    model.set_boundaries({0: (\"pressure\", 4000), 5: (\"rate\", 0)})\n",
    "    return model\n",
    "\n",
    "\n",
    "def create_model():\n",
    "    grid = rf.grids.Cartesian(\n",
    "        nx=3,\n",
    "        ny=1,\n",
    "        nz=1,\n",
    "        dx=300,\n",
    "        dy=350,\n",
    "        dz=20,\n",
    "        phi=0.27,\n",
    "        kx=1,\n",
    "        ky=1,\n",
    "        kz=0.1,\n",
    "        comp=1 * 10**-6,\n",
    "        dtype=\"double\",\n",
    "    )\n",
    "    fluid = rf.fluids.SinglePhase(\n",
    "        mu=0.5, B=1, rho=50, comp=1 * 10**-5, dtype=\"double\"\n",
    "    )\n",
    "    model = rf.models.BlackOil(\n",
    "        grid, fluid, pi=6000, dt=5, start_date=\"10.10.2018\", dtype=\"double\"\n",
    "    )\n",
    "\n",
    "    n_samples = 1\n",
    "    cells_id = model.grid.get_cells_id(False, True)[-1].flatten()\n",
    "    wells = np.random.choice(cells_id, n_samples, False)\n",
    "    for id in wells:\n",
    "        model.set_well(id=id, q=-300, pwf=100, s=1.5, r=3.5)\n",
    "\n",
    "    wells = np.random.choice(cells_id, n_samples, False)\n",
    "    for id in wells:\n",
    "        model.set_well(id=id, q=100, s=0, r=3.5)\n",
    "\n",
    "    return model\n",
    "\n",
    "\n",
    "model = create_model()\n",
    "model.run(10, isolver=\"cgs\")"
   ]
  },
  {
   "cell_type": "code",
   "execution_count": 13,
   "metadata": {},
   "outputs": [
    {
     "data": {
      "text/plain": [
       "{'transmissibility': 'STB/D-psi',\n",
       " 'error': 'STB/D',\n",
       " 'pressure': 'Psia',\n",
       " 'time': 'Days',\n",
       " 'rate': 'STB/Day'}"
      ]
     },
     "execution_count": 13,
     "metadata": {},
     "output_type": "execute_result"
    }
   ],
   "source": [
    "model.units"
   ]
  },
  {
   "cell_type": "code",
   "execution_count": 14,
   "metadata": {},
   "outputs": [
    {
     "name": "stdout",
     "output_type": "stream",
     "text": [
      "(5, 3)\n",
      "[150. 175.  10.]\n"
     ]
    },
    {
     "data": {
      "text/plain": [
       "array([[ 150.,  175.,   10.],\n",
       "       [ 450.,  175.,   10.],\n",
       "       [ 750.,  175.,   10.],\n",
       "       [1050.,  175.,   10.],\n",
       "       [1350.,  175.,   10.]])"
      ]
     },
     "execution_count": 14,
     "metadata": {},
     "output_type": "execute_result"
    }
   ],
   "source": [
    "arr = model.grid.get_cells_center(True, False)\n",
    "print(arr.shape)\n",
    "print(arr.min(axis=0))\n",
    "arr"
   ]
  },
  {
   "cell_type": "code",
   "execution_count": 15,
   "metadata": {},
   "outputs": [
    {
     "data": {
      "text/plain": [
       "2"
      ]
     },
     "execution_count": 15,
     "metadata": {},
     "output_type": "execute_result"
    }
   ],
   "source": [
    "np.count_nonzero(np.array([1, 2, 0, 0]) == 0)"
   ]
  },
  {
   "cell_type": "code",
   "execution_count": 16,
   "metadata": {},
   "outputs": [
    {
     "name": "stderr",
     "output_type": "stream",
     "text": [
      "C:\\Users\\abugrzka\\Projects\\reservoirflow\\reservoirflow\\scalers\\_minmax.py:38: RuntimeWarning: invalid value encountered in true_divide\n",
      "  self.vmax - self.vmin\n"
     ]
    },
    {
     "data": {
      "text/plain": [
       "array([[-1. ,  nan,  nan],\n",
       "       [-0.5,  nan,  nan],\n",
       "       [ 0. ,  nan,  nan],\n",
       "       [ 0.5,  nan,  nan],\n",
       "       [ 1. ,  nan,  nan]])"
      ]
     },
     "execution_count": 16,
     "metadata": {},
     "output_type": "execute_result"
    }
   ],
   "source": [
    "scaler = rf.scalers.MinMax((-1, 1)).fit(arr, axis=0)\n",
    "scaler.transform(arr)"
   ]
  },
  {
   "cell_type": "code",
   "execution_count": 17,
   "metadata": {},
   "outputs": [
    {
     "data": {
      "text/plain": [
       "array([0. , 0.1, 0.2, 0.3, 0.4, 0.5, 0.6, 0.7, 0.8, 0.9, 1. ])"
      ]
     },
     "execution_count": 17,
     "metadata": {},
     "output_type": "execute_result"
    }
   ],
   "source": [
    "t = np.arange(0, (model.tstep + 1) * model.dt, model.dt)\n",
    "rf.scalers.MinMax((0, 1)).fit_transform(t, axis=0)"
   ]
  },
  {
   "cell_type": "code",
   "execution_count": 18,
   "metadata": {},
   "outputs": [
    {
     "data": {
      "text/plain": [
       "array([ 0,  5, 10, 15, 20, 25, 30, 35, 40, 45, 50])"
      ]
     },
     "execution_count": 18,
     "metadata": {},
     "output_type": "execute_result"
    }
   ],
   "source": [
    "t"
   ]
  },
  {
   "cell_type": "code",
   "execution_count": 19,
   "metadata": {},
   "outputs": [
    {
     "data": {
      "text/plain": [
       "(array([[ 0],\n",
       "        [ 5],\n",
       "        [10],\n",
       "        [15],\n",
       "        [20],\n",
       "        [25],\n",
       "        [30],\n",
       "        [35],\n",
       "        [40],\n",
       "        [45],\n",
       "        [50]]),\n",
       " array([[ 150.],\n",
       "        [ 450.],\n",
       "        [ 750.],\n",
       "        [1050.],\n",
       "        [1350.]]))"
      ]
     },
     "execution_count": 19,
     "metadata": {},
     "output_type": "execute_result"
    }
   ],
   "source": [
    "t, x = model.get_domain(False, True)\n",
    "t, x"
   ]
  },
  {
   "cell_type": "code",
   "execution_count": 20,
   "metadata": {},
   "outputs": [
    {
     "data": {
      "text/plain": [
       "array([[-1. ],\n",
       "       [-0.5],\n",
       "       [ 0. ],\n",
       "       [ 0.5],\n",
       "       [ 1. ]])"
      ]
     },
     "execution_count": 20,
     "metadata": {},
     "output_type": "execute_result"
    }
   ],
   "source": [
    "rf.scalers.MinMax((-1, 1)).fit_transform(x, axis=0)"
   ]
  },
  {
   "cell_type": "code",
   "execution_count": 21,
   "metadata": {},
   "outputs": [
    {
     "data": {
      "text/plain": [
       "array([[0. ],\n",
       "       [0.1],\n",
       "       [0.2],\n",
       "       [0.3],\n",
       "       [0.4],\n",
       "       [0.5],\n",
       "       [0.6],\n",
       "       [0.7],\n",
       "       [0.8],\n",
       "       [0.9],\n",
       "       [1. ]])"
      ]
     },
     "execution_count": 21,
     "metadata": {},
     "output_type": "execute_result"
    }
   ],
   "source": [
    "rf.scalers.MinMax((0, 1)).fit_transform(t, axis=0)"
   ]
  },
  {
   "cell_type": "code",
   "execution_count": 22,
   "metadata": {},
   "outputs": [
    {
     "data": {
      "text/plain": [
       "(array([[ 150.],\n",
       "        [ 450.],\n",
       "        [ 750.],\n",
       "        [1050.],\n",
       "        [1350.]]),\n",
       " ['x'])"
      ]
     },
     "execution_count": 22,
     "metadata": {},
     "output_type": "execute_result"
    }
   ],
   "source": [
    "model.get_centers(False)"
   ]
  },
  {
   "cell_type": "code",
   "execution_count": 23,
   "metadata": {},
   "outputs": [],
   "source": [
    "config = {\"time\": [\"MinMax\", (0, 1)], \"space\": [\"minMax\"]}"
   ]
  },
  {
   "cell_type": "code",
   "execution_count": 24,
   "metadata": {},
   "outputs": [
    {
     "data": {
      "text/plain": [
       "{'time': ['MinMax', (-10, 10)],\n",
       " 'space': ['MinMax', (-1, 1)],\n",
       " 'pressure': ['MinMax', (-1, 1)],\n",
       " 'rate': [None, None]}"
      ]
     },
     "execution_count": 24,
     "metadata": {},
     "output_type": "execute_result"
    }
   ],
   "source": [
    "model.set_scalers({\"time\": [\"minmax\", (-10, 10)], \"rate\": [\"minmax\", None]})\n",
    "model.scalers_dict"
   ]
  },
  {
   "cell_type": "code",
   "execution_count": 25,
   "metadata": {},
   "outputs": [
    {
     "data": {
      "text/plain": [
       "array([0.41367714, 0.58787536, 0.37956372, 0.02714583, 0.41367714])"
      ]
     },
     "execution_count": 25,
     "metadata": {},
     "output_type": "execute_result"
    }
   ],
   "source": [
    "model.update_scalers(False)\n",
    "model.pressures_scaler.transform(model.pressures[1])\n",
    "# model.space_scaler.transform(model.get_centers(False)[0])"
   ]
  },
  {
   "cell_type": "code",
   "execution_count": 26,
   "metadata": {},
   "outputs": [
    {
     "data": {
      "text/html": [
       "<div>\n",
       "<style scoped>\n",
       "    .dataframe tbody tr th:only-of-type {\n",
       "        vertical-align: middle;\n",
       "    }\n",
       "\n",
       "    .dataframe tbody tr th {\n",
       "        vertical-align: top;\n",
       "    }\n",
       "\n",
       "    .dataframe thead th {\n",
       "        text-align: right;\n",
       "    }\n",
       "</style>\n",
       "<table border=\"1\" class=\"dataframe\">\n",
       "  <thead>\n",
       "    <tr style=\"text-align: right;\">\n",
       "      <th></th>\n",
       "      <th>Time [Scaled]</th>\n",
       "      <th>Q1 [Scaled]</th>\n",
       "      <th>Q3 [Scaled]</th>\n",
       "      <th>P0 [Scaled]</th>\n",
       "      <th>P1 [Scaled]</th>\n",
       "      <th>P2 [Scaled]</th>\n",
       "      <th>P3 [Scaled]</th>\n",
       "      <th>P4 [Scaled]</th>\n",
       "      <th>Qw3 [Scaled]</th>\n",
       "      <th>Qw1 [Scaled]</th>\n",
       "      <th>Pwf3 [Scaled]</th>\n",
       "      <th>Pwf1 [Scaled]</th>\n",
       "    </tr>\n",
       "    <tr>\n",
       "      <th>Step</th>\n",
       "      <th></th>\n",
       "      <th></th>\n",
       "      <th></th>\n",
       "      <th></th>\n",
       "      <th></th>\n",
       "      <th></th>\n",
       "      <th></th>\n",
       "      <th></th>\n",
       "      <th></th>\n",
       "      <th></th>\n",
       "      <th></th>\n",
       "      <th></th>\n",
       "    </tr>\n",
       "  </thead>\n",
       "  <tbody>\n",
       "    <tr>\n",
       "      <th>0</th>\n",
       "      <td>-10.0</td>\n",
       "      <td>0.0</td>\n",
       "      <td>0.000000</td>\n",
       "      <td>0.413677</td>\n",
       "      <td>0.413677</td>\n",
       "      <td>0.413677</td>\n",
       "      <td>0.413677</td>\n",
       "      <td>0.413677</td>\n",
       "      <td>0.000000</td>\n",
       "      <td>0.0</td>\n",
       "      <td>0.413677</td>\n",
       "      <td>0.413677</td>\n",
       "    </tr>\n",
       "    <tr>\n",
       "      <th>1</th>\n",
       "      <td>-8.0</td>\n",
       "      <td>100.0</td>\n",
       "      <td>-210.261660</td>\n",
       "      <td>0.413677</td>\n",
       "      <td>0.587875</td>\n",
       "      <td>0.379564</td>\n",
       "      <td>0.027146</td>\n",
       "      <td>0.413677</td>\n",
       "      <td>-210.261660</td>\n",
       "      <td>100.0</td>\n",
       "      <td>-2.516126</td>\n",
       "      <td>1.534475</td>\n",
       "    </tr>\n",
       "    <tr>\n",
       "      <th>2</th>\n",
       "      <td>-6.0</td>\n",
       "      <td>100.0</td>\n",
       "      <td>-187.135552</td>\n",
       "      <td>0.413677</td>\n",
       "      <td>0.719752</td>\n",
       "      <td>0.332658</td>\n",
       "      <td>-0.252582</td>\n",
       "      <td>0.413677</td>\n",
       "      <td>-187.135552</td>\n",
       "      <td>100.0</td>\n",
       "      <td>-2.516126</td>\n",
       "      <td>1.666351</td>\n",
       "    </tr>\n",
       "    <tr>\n",
       "      <th>3</th>\n",
       "      <td>-4.0</td>\n",
       "      <td>100.0</td>\n",
       "      <td>-170.190252</td>\n",
       "      <td>0.413677</td>\n",
       "      <td>0.816978</td>\n",
       "      <td>0.283514</td>\n",
       "      <td>-0.457548</td>\n",
       "      <td>0.413677</td>\n",
       "      <td>-170.190252</td>\n",
       "      <td>100.0</td>\n",
       "      <td>-2.516126</td>\n",
       "      <td>1.763578</td>\n",
       "    </tr>\n",
       "    <tr>\n",
       "      <th>4</th>\n",
       "      <td>-2.0</td>\n",
       "      <td>100.0</td>\n",
       "      <td>-157.628510</td>\n",
       "      <td>0.413677</td>\n",
       "      <td>0.886682</td>\n",
       "      <td>0.236949</td>\n",
       "      <td>-0.609491</td>\n",
       "      <td>0.413677</td>\n",
       "      <td>-157.628510</td>\n",
       "      <td>100.0</td>\n",
       "      <td>-2.516126</td>\n",
       "      <td>1.833281</td>\n",
       "    </tr>\n",
       "    <tr>\n",
       "      <th>5</th>\n",
       "      <td>0.0</td>\n",
       "      <td>100.0</td>\n",
       "      <td>-148.213227</td>\n",
       "      <td>0.413677</td>\n",
       "      <td>0.934958</td>\n",
       "      <td>0.194812</td>\n",
       "      <td>-0.723376</td>\n",
       "      <td>0.413677</td>\n",
       "      <td>-148.213227</td>\n",
       "      <td>100.0</td>\n",
       "      <td>-2.516126</td>\n",
       "      <td>1.881558</td>\n",
       "    </tr>\n",
       "    <tr>\n",
       "      <th>6</th>\n",
       "      <td>2.0</td>\n",
       "      <td>100.0</td>\n",
       "      <td>-141.073776</td>\n",
       "      <td>0.413677</td>\n",
       "      <td>0.966863</td>\n",
       "      <td>0.157460</td>\n",
       "      <td>-0.809733</td>\n",
       "      <td>0.413677</td>\n",
       "      <td>-141.073776</td>\n",
       "      <td>100.0</td>\n",
       "      <td>-2.516126</td>\n",
       "      <td>1.913463</td>\n",
       "    </tr>\n",
       "    <tr>\n",
       "      <th>7</th>\n",
       "      <td>4.0</td>\n",
       "      <td>100.0</td>\n",
       "      <td>-135.598989</td>\n",
       "      <td>0.413677</td>\n",
       "      <td>0.986372</td>\n",
       "      <td>0.124604</td>\n",
       "      <td>-0.875955</td>\n",
       "      <td>0.413677</td>\n",
       "      <td>-135.598989</td>\n",
       "      <td>100.0</td>\n",
       "      <td>-2.516126</td>\n",
       "      <td>1.932972</td>\n",
       "    </tr>\n",
       "    <tr>\n",
       "      <th>8</th>\n",
       "      <td>6.0</td>\n",
       "      <td>100.0</td>\n",
       "      <td>-131.349563</td>\n",
       "      <td>0.413677</td>\n",
       "      <td>0.996614</td>\n",
       "      <td>0.095694</td>\n",
       "      <td>-0.927355</td>\n",
       "      <td>0.413677</td>\n",
       "      <td>-131.349563</td>\n",
       "      <td>100.0</td>\n",
       "      <td>-2.516126</td>\n",
       "      <td>1.943214</td>\n",
       "    </tr>\n",
       "    <tr>\n",
       "      <th>9</th>\n",
       "      <td>8.0</td>\n",
       "      <td>100.0</td>\n",
       "      <td>-128.008139</td>\n",
       "      <td>0.413677</td>\n",
       "      <td>1.000000</td>\n",
       "      <td>0.070123</td>\n",
       "      <td>-0.967772</td>\n",
       "      <td>0.413677</td>\n",
       "      <td>-128.008139</td>\n",
       "      <td>100.0</td>\n",
       "      <td>-2.516126</td>\n",
       "      <td>1.946600</td>\n",
       "    </tr>\n",
       "    <tr>\n",
       "      <th>10</th>\n",
       "      <td>10.0</td>\n",
       "      <td>100.0</td>\n",
       "      <td>-125.343714</td>\n",
       "      <td>0.413677</td>\n",
       "      <td>0.998375</td>\n",
       "      <td>0.047330</td>\n",
       "      <td>-1.000000</td>\n",
       "      <td>0.413677</td>\n",
       "      <td>-125.343714</td>\n",
       "      <td>100.0</td>\n",
       "      <td>-2.516126</td>\n",
       "      <td>1.944975</td>\n",
       "    </tr>\n",
       "  </tbody>\n",
       "</table>\n",
       "</div>"
      ],
      "text/plain": [
       "      Time [Scaled]  Q1 [Scaled]  Q3 [Scaled]  P0 [Scaled]  P1 [Scaled]  \\\n",
       "Step                                                                      \n",
       "0             -10.0          0.0     0.000000     0.413677     0.413677   \n",
       "1              -8.0        100.0  -210.261660     0.413677     0.587875   \n",
       "2              -6.0        100.0  -187.135552     0.413677     0.719752   \n",
       "3              -4.0        100.0  -170.190252     0.413677     0.816978   \n",
       "4              -2.0        100.0  -157.628510     0.413677     0.886682   \n",
       "5               0.0        100.0  -148.213227     0.413677     0.934958   \n",
       "6               2.0        100.0  -141.073776     0.413677     0.966863   \n",
       "7               4.0        100.0  -135.598989     0.413677     0.986372   \n",
       "8               6.0        100.0  -131.349563     0.413677     0.996614   \n",
       "9               8.0        100.0  -128.008139     0.413677     1.000000   \n",
       "10             10.0        100.0  -125.343714     0.413677     0.998375   \n",
       "\n",
       "      P2 [Scaled]  P3 [Scaled]  P4 [Scaled]  Qw3 [Scaled]  Qw1 [Scaled]  \\\n",
       "Step                                                                      \n",
       "0        0.413677     0.413677     0.413677      0.000000           0.0   \n",
       "1        0.379564     0.027146     0.413677   -210.261660         100.0   \n",
       "2        0.332658    -0.252582     0.413677   -187.135552         100.0   \n",
       "3        0.283514    -0.457548     0.413677   -170.190252         100.0   \n",
       "4        0.236949    -0.609491     0.413677   -157.628510         100.0   \n",
       "5        0.194812    -0.723376     0.413677   -148.213227         100.0   \n",
       "6        0.157460    -0.809733     0.413677   -141.073776         100.0   \n",
       "7        0.124604    -0.875955     0.413677   -135.598989         100.0   \n",
       "8        0.095694    -0.927355     0.413677   -131.349563         100.0   \n",
       "9        0.070123    -0.967772     0.413677   -128.008139         100.0   \n",
       "10       0.047330    -1.000000     0.413677   -125.343714         100.0   \n",
       "\n",
       "      Pwf3 [Scaled]  Pwf1 [Scaled]  \n",
       "Step                                \n",
       "0          0.413677       0.413677  \n",
       "1         -2.516126       1.534475  \n",
       "2         -2.516126       1.666351  \n",
       "3         -2.516126       1.763578  \n",
       "4         -2.516126       1.833281  \n",
       "5         -2.516126       1.881558  \n",
       "6         -2.516126       1.913463  \n",
       "7         -2.516126       1.932972  \n",
       "8         -2.516126       1.943214  \n",
       "9         -2.516126       1.946600  \n",
       "10        -2.516126       1.944975  "
      ]
     },
     "execution_count": 26,
     "metadata": {},
     "output_type": "execute_result"
    }
   ],
   "source": [
    "model.get_df(\n",
    "    scale=True,\n",
    "    melt=False,\n",
    "    boundary=True,\n",
    "    units=True,\n",
    "    columns=[\"time\", \"cells\", \"wells\"],\n",
    ")"
   ]
  },
  {
   "cell_type": "raw",
   "metadata": {},
   "source": [
    "# !pip install trame\n",
    "# !pip install trame-vtk trame-vuetify trame-plotly\n",
    "# !pip install ipywidgets\n",
    "import ipywidgets\n",
    "from trame.widgets import vuetify2, vuetify3"
   ]
  },
  {
   "cell_type": "raw",
   "metadata": {},
   "source": [
    "model.show(\"pressures\")"
   ]
  }
 ],
 "metadata": {
  "kernelspec": {
   "display_name": "Python 3 (ipykernel)",
   "language": "python",
   "name": "python3"
  },
  "language_info": {
   "codemirror_mode": {
    "name": "ipython",
    "version": 3
   },
   "file_extension": ".py",
   "mimetype": "text/x-python",
   "name": "python",
   "nbconvert_exporter": "python",
   "pygments_lexer": "ipython3",
   "version": "3.7.9"
  }
 },
 "nbformat": 4,
 "nbformat_minor": 2
}
