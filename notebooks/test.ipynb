{
 "cells": [
  {
   "cell_type": "code",
   "execution_count": 3,
   "metadata": {},
   "outputs": [],
   "source": [
    "import reservoirflow as rf\n",
    "import numpy as np"
   ]
  },
  {
   "cell_type": "code",
   "execution_count": 4,
   "metadata": {},
   "outputs": [
    {
     "name": "stdout",
     "output_type": "stream",
     "text": [
      "[info] Simulation run started: 10 timesteps.\n"
     ]
    },
    {
     "name": "stderr",
     "output_type": "stream",
     "text": [
      "[step]: 10 - : 100%|\u001b[32m██████████\u001b[0m| 10/10 [00:00<00:00, 62.68steps/s]"
     ]
    },
    {
     "name": "stdout",
     "output_type": "stream",
     "text": [
      "[info] Simulation run of 10 steps finished in 0.17 seconds.\n",
      "[info] Material Balance Error: 1.454392162258955e-14.\n"
     ]
    },
    {
     "name": "stderr",
     "output_type": "stream",
     "text": [
      "\n"
     ]
    }
   ],
   "source": [
    "def create_model_example_7_1():\n",
    "    grid = rf.grids.Cartesian(\n",
    "        nx=4, ny=1, nz=1, dx=300, dy=350, dz=40, phi=0.27, kx=270, dtype=\"double\"\n",
    "    )\n",
    "    fluid = rf.fluids.SinglePhase(mu=0.5, B=1, dtype=\"double\")\n",
    "    model = rf.models.Model(grid, fluid, dtype=\"double\", verbose=False)\n",
    "    model.set_well(id=4, q=-600, s=1.5, r=3.5)\n",
    "    model.set_boundaries({0: (\"pressure\", 4000), 5: (\"rate\", 0)})\n",
    "    return model\n",
    "\n",
    "\n",
    "def create_model():\n",
    "    grid = rf.grids.Cartesian(\n",
    "        nx=3,\n",
    "        ny=1,\n",
    "        nz=1,\n",
    "        dx=300,\n",
    "        dy=350,\n",
    "        dz=20,\n",
    "        phi=0.27,\n",
    "        kx=1,\n",
    "        ky=1,\n",
    "        kz=0.1,\n",
    "        comp=1 * 10**-6,\n",
    "        dtype=\"double\",\n",
    "    )\n",
    "    fluid = rf.fluids.SinglePhase(\n",
    "        mu=0.5, B=1, rho=50, comp=1 * 10**-5, dtype=\"double\"\n",
    "    )\n",
    "    model = rf.models.Model(\n",
    "        grid, fluid, pi=6000, dt=5, start_date=\"10.10.2018\", dtype=\"double\"\n",
    "    )\n",
    "\n",
    "    n_samples = 1\n",
    "    cells_id = model.grid.get_cells_id(False, True)[-1].flatten()\n",
    "    wells = np.random.choice(cells_id, n_samples, False)\n",
    "    for id in wells:\n",
    "        model.set_well(id=id, q=-300, pwf=100, s=1.5, r=3.5)\n",
    "\n",
    "    wells = np.random.choice(cells_id, n_samples, False)\n",
    "    for id in wells:\n",
    "        model.set_well(id=id, q=100, s=0, r=3.5)\n",
    "\n",
    "    return model\n",
    "\n",
    "\n",
    "model = create_model()\n",
    "model.run(10, isolver=\"cgs\")"
   ]
  },
  {
   "cell_type": "code",
   "execution_count": 22,
   "metadata": {},
   "outputs": [
    {
     "name": "stdout",
     "output_type": "stream",
     "text": [
      "(5, 3)\n",
      "[150. 175.  10.]\n"
     ]
    },
    {
     "data": {
      "text/plain": [
       "array([[ 150.,  175.,   10.],\n",
       "       [ 450.,  175.,   10.],\n",
       "       [ 750.,  175.,   10.],\n",
       "       [1050.,  175.,   10.],\n",
       "       [1350.,  175.,   10.]])"
      ]
     },
     "execution_count": 22,
     "metadata": {},
     "output_type": "execute_result"
    }
   ],
   "source": [
    "arr = model.grid.get_cells_center(True, False)\n",
    "print(arr.shape)\n",
    "print(arr.min(axis=0))\n",
    "arr"
   ]
  },
  {
   "cell_type": "code",
   "execution_count": 32,
   "metadata": {},
   "outputs": [
    {
     "data": {
      "text/plain": [
       "2"
      ]
     },
     "execution_count": 32,
     "metadata": {},
     "output_type": "execute_result"
    }
   ],
   "source": [
    "np.count_nonzero(np.array([1, 2, 0, 0]) == 0)"
   ]
  },
  {
   "cell_type": "code",
   "execution_count": 25,
   "metadata": {},
   "outputs": [
    {
     "name": "stderr",
     "output_type": "stream",
     "text": [
      "c:\\users\\abugrzka\\projects\\openresim\\reservoirflow\\scalers.py:60: RuntimeWarning: invalid value encountered in true_divide\n",
      "  self.vmax - self.vmin\n"
     ]
    },
    {
     "data": {
      "text/plain": [
       "array([[-1. ,  nan,  nan],\n",
       "       [-0.5,  nan,  nan],\n",
       "       [ 0. ,  nan,  nan],\n",
       "       [ 0.5,  nan,  nan],\n",
       "       [ 1. ,  nan,  nan]])"
      ]
     },
     "execution_count": 25,
     "metadata": {},
     "output_type": "execute_result"
    }
   ],
   "source": [
    "scaler = rf.scalers.MinMaxScaler((-1, 1)).fit(arr, axis=0)\n",
    "scaler.transform(arr)"
   ]
  },
  {
   "cell_type": "code",
   "execution_count": 7,
   "metadata": {},
   "outputs": [
    {
     "data": {
      "text/plain": [
       "array([[0. ],\n",
       "       [0.1],\n",
       "       [0.2],\n",
       "       [0.3],\n",
       "       [0.4],\n",
       "       [0.5],\n",
       "       [0.6],\n",
       "       [0.7],\n",
       "       [0.8],\n",
       "       [0.9],\n",
       "       [1. ]])"
      ]
     },
     "execution_count": 7,
     "metadata": {},
     "output_type": "execute_result"
    }
   ],
   "source": [
    "t = np.arange(0, (model.tstep + 1) * model.dt, model.dt)\n",
    "rf.scalers.MinMaxScaler((0, 1)).fit_transform(t.reshape(-1, 1), axis=0)"
   ]
  },
  {
   "cell_type": "code",
   "execution_count": 8,
   "metadata": {},
   "outputs": [
    {
     "data": {
      "text/plain": [
       "array([ 0,  5, 10, 15, 20, 25, 30, 35, 40, 45, 50])"
      ]
     },
     "execution_count": 8,
     "metadata": {},
     "output_type": "execute_result"
    }
   ],
   "source": [
    "t"
   ]
  },
  {
   "cell_type": "code",
   "execution_count": 9,
   "metadata": {},
   "outputs": [
    {
     "data": {
      "text/plain": [
       "(array([[ 0],\n",
       "        [ 5],\n",
       "        [10],\n",
       "        [15],\n",
       "        [20],\n",
       "        [25],\n",
       "        [30],\n",
       "        [35],\n",
       "        [40],\n",
       "        [45],\n",
       "        [50]]),\n",
       " array([[ 150.],\n",
       "        [ 450.],\n",
       "        [ 750.],\n",
       "        [1050.],\n",
       "        [1350.]]))"
      ]
     },
     "execution_count": 9,
     "metadata": {},
     "output_type": "execute_result"
    }
   ],
   "source": [
    "t, x = model.get_domain(False, True)\n",
    "t, x"
   ]
  },
  {
   "cell_type": "code",
   "execution_count": 10,
   "metadata": {},
   "outputs": [
    {
     "data": {
      "text/plain": [
       "array([[-1. ],\n",
       "       [-0.5],\n",
       "       [ 0. ],\n",
       "       [ 0.5],\n",
       "       [ 1. ]])"
      ]
     },
     "execution_count": 10,
     "metadata": {},
     "output_type": "execute_result"
    }
   ],
   "source": [
    "rf.scalers.MinMaxScaler((-1, 1)).fit_transform(x, axis=0)"
   ]
  },
  {
   "cell_type": "code",
   "execution_count": 11,
   "metadata": {},
   "outputs": [
    {
     "data": {
      "text/plain": [
       "array([[ 0],\n",
       "       [ 5],\n",
       "       [10],\n",
       "       [15],\n",
       "       [20],\n",
       "       [25],\n",
       "       [30],\n",
       "       [35],\n",
       "       [40],\n",
       "       [45],\n",
       "       [50]])"
      ]
     },
     "execution_count": 11,
     "metadata": {},
     "output_type": "execute_result"
    }
   ],
   "source": [
    "t"
   ]
  },
  {
   "cell_type": "code",
   "execution_count": 12,
   "metadata": {},
   "outputs": [
    {
     "data": {
      "text/plain": [
       "array([0. , 0.1, 0.2, 0.3, 0.4, 0.5, 0.6, 0.7, 0.8, 0.9, 1. ])"
      ]
     },
     "execution_count": 12,
     "metadata": {},
     "output_type": "execute_result"
    }
   ],
   "source": [
    "rf.scalers.MinMaxScaler((0, 1)).fit_transform(t.flatten(), axis=0)"
   ]
  },
  {
   "cell_type": "code",
   "execution_count": 13,
   "metadata": {},
   "outputs": [
    {
     "data": {
      "text/plain": [
       "(array([[ 150.],\n",
       "        [ 450.],\n",
       "        [ 750.],\n",
       "        [1050.],\n",
       "        [1350.]]),\n",
       " ['x'])"
      ]
     },
     "execution_count": 13,
     "metadata": {},
     "output_type": "execute_result"
    }
   ],
   "source": [
    "model.get_centers(False)"
   ]
  },
  {
   "cell_type": "code",
   "execution_count": 14,
   "metadata": {},
   "outputs": [
    {
     "data": {
      "text/plain": [
       "array([[ 0],\n",
       "       [ 5],\n",
       "       [10],\n",
       "       [15],\n",
       "       [20],\n",
       "       [25],\n",
       "       [30],\n",
       "       [35],\n",
       "       [40],\n",
       "       [45],\n",
       "       [50]])"
      ]
     },
     "execution_count": 14,
     "metadata": {},
     "output_type": "execute_result"
    }
   ],
   "source": [
    "t"
   ]
  },
  {
   "cell_type": "code",
   "execution_count": 15,
   "metadata": {},
   "outputs": [
    {
     "data": {
      "text/plain": [
       "array([ 0,  0,  5,  5, 10, 10, 15, 15, 20, 20, 25, 25, 30, 30, 35, 35, 40,\n",
       "       40, 45, 45, 50, 50])"
      ]
     },
     "execution_count": 15,
     "metadata": {},
     "output_type": "execute_result"
    }
   ],
   "source": [
    "np.repeat(t.flatten(), 2)"
   ]
  },
  {
   "cell_type": "code",
   "execution_count": 16,
   "metadata": {},
   "outputs": [],
   "source": [
    "config = {\"time\": [\"MinMax\", (0, 1)], \"space\": [\"minMax\"]}"
   ]
  },
  {
   "cell_type": "code",
   "execution_count": 17,
   "metadata": {},
   "outputs": [
    {
     "data": {
      "text/plain": [
       "{'time': ['MinMax', (-10, 10)],\n",
       " 'space': ['MinMax', (-1, 1)],\n",
       " 'pressure': ['MinMax', (-1, 1)],\n",
       " 'rate': [None, None]}"
      ]
     },
     "execution_count": 17,
     "metadata": {},
     "output_type": "execute_result"
    }
   ],
   "source": [
    "model.set_scalers({\"time\": [\"minmax\", (-10, 10)], \"rate\": [\"minmax\", None]})\n",
    "model.scalers_dict"
   ]
  },
  {
   "cell_type": "code",
   "execution_count": 18,
   "metadata": {},
   "outputs": [
    {
     "data": {
      "text/plain": [
       "array([0.41367714, 0.02714583, 0.37956372, 0.58787536, 0.41367714])"
      ]
     },
     "execution_count": 18,
     "metadata": {},
     "output_type": "execute_result"
    }
   ],
   "source": [
    "model.update_scalers(False)\n",
    "model.pressures_scaler.transform(model.pressures[1])\n",
    "# model.space_scaler.transform(model.get_centers(False)[0])"
   ]
  },
  {
   "cell_type": "code",
   "execution_count": 19,
   "metadata": {},
   "outputs": [
    {
     "data": {
      "text/html": [
       "<div>\n",
       "<style scoped>\n",
       "    .dataframe tbody tr th:only-of-type {\n",
       "        vertical-align: middle;\n",
       "    }\n",
       "\n",
       "    .dataframe tbody tr th {\n",
       "        vertical-align: top;\n",
       "    }\n",
       "\n",
       "    .dataframe thead th {\n",
       "        text-align: right;\n",
       "    }\n",
       "</style>\n",
       "<table border=\"1\" class=\"dataframe\">\n",
       "  <thead>\n",
       "    <tr style=\"text-align: right;\">\n",
       "      <th></th>\n",
       "      <th>id</th>\n",
       "      <th>Step</th>\n",
       "      <th>x</th>\n",
       "      <th>Time [Scaled]</th>\n",
       "      <th>Q [Scaled]</th>\n",
       "      <th>P [Scaled]</th>\n",
       "    </tr>\n",
       "  </thead>\n",
       "  <tbody>\n",
       "    <tr>\n",
       "      <th>0</th>\n",
       "      <td>1</td>\n",
       "      <td>0</td>\n",
       "      <td>-0.5</td>\n",
       "      <td>-10.0</td>\n",
       "      <td>0.000000</td>\n",
       "      <td>0.413677</td>\n",
       "    </tr>\n",
       "    <tr>\n",
       "      <th>1</th>\n",
       "      <td>2</td>\n",
       "      <td>0</td>\n",
       "      <td>0.0</td>\n",
       "      <td>-10.0</td>\n",
       "      <td>0.000000</td>\n",
       "      <td>0.413677</td>\n",
       "    </tr>\n",
       "    <tr>\n",
       "      <th>2</th>\n",
       "      <td>3</td>\n",
       "      <td>0</td>\n",
       "      <td>0.5</td>\n",
       "      <td>-10.0</td>\n",
       "      <td>0.000000</td>\n",
       "      <td>0.413677</td>\n",
       "    </tr>\n",
       "    <tr>\n",
       "      <th>3</th>\n",
       "      <td>1</td>\n",
       "      <td>1</td>\n",
       "      <td>-0.5</td>\n",
       "      <td>-8.0</td>\n",
       "      <td>-210.261660</td>\n",
       "      <td>0.027146</td>\n",
       "    </tr>\n",
       "    <tr>\n",
       "      <th>4</th>\n",
       "      <td>2</td>\n",
       "      <td>1</td>\n",
       "      <td>0.0</td>\n",
       "      <td>-8.0</td>\n",
       "      <td>0.000000</td>\n",
       "      <td>0.379564</td>\n",
       "    </tr>\n",
       "    <tr>\n",
       "      <th>5</th>\n",
       "      <td>3</td>\n",
       "      <td>1</td>\n",
       "      <td>0.5</td>\n",
       "      <td>-8.0</td>\n",
       "      <td>100.000000</td>\n",
       "      <td>0.587875</td>\n",
       "    </tr>\n",
       "    <tr>\n",
       "      <th>6</th>\n",
       "      <td>1</td>\n",
       "      <td>2</td>\n",
       "      <td>-0.5</td>\n",
       "      <td>-6.0</td>\n",
       "      <td>-187.135552</td>\n",
       "      <td>-0.252582</td>\n",
       "    </tr>\n",
       "    <tr>\n",
       "      <th>7</th>\n",
       "      <td>2</td>\n",
       "      <td>2</td>\n",
       "      <td>0.0</td>\n",
       "      <td>-6.0</td>\n",
       "      <td>0.000000</td>\n",
       "      <td>0.332658</td>\n",
       "    </tr>\n",
       "    <tr>\n",
       "      <th>8</th>\n",
       "      <td>3</td>\n",
       "      <td>2</td>\n",
       "      <td>0.5</td>\n",
       "      <td>-6.0</td>\n",
       "      <td>100.000000</td>\n",
       "      <td>0.719752</td>\n",
       "    </tr>\n",
       "    <tr>\n",
       "      <th>9</th>\n",
       "      <td>1</td>\n",
       "      <td>3</td>\n",
       "      <td>-0.5</td>\n",
       "      <td>-4.0</td>\n",
       "      <td>-170.190252</td>\n",
       "      <td>-0.457548</td>\n",
       "    </tr>\n",
       "    <tr>\n",
       "      <th>10</th>\n",
       "      <td>2</td>\n",
       "      <td>3</td>\n",
       "      <td>0.0</td>\n",
       "      <td>-4.0</td>\n",
       "      <td>0.000000</td>\n",
       "      <td>0.283514</td>\n",
       "    </tr>\n",
       "    <tr>\n",
       "      <th>11</th>\n",
       "      <td>3</td>\n",
       "      <td>3</td>\n",
       "      <td>0.5</td>\n",
       "      <td>-4.0</td>\n",
       "      <td>100.000000</td>\n",
       "      <td>0.816978</td>\n",
       "    </tr>\n",
       "    <tr>\n",
       "      <th>12</th>\n",
       "      <td>1</td>\n",
       "      <td>4</td>\n",
       "      <td>-0.5</td>\n",
       "      <td>-2.0</td>\n",
       "      <td>-157.628510</td>\n",
       "      <td>-0.609491</td>\n",
       "    </tr>\n",
       "    <tr>\n",
       "      <th>13</th>\n",
       "      <td>2</td>\n",
       "      <td>4</td>\n",
       "      <td>0.0</td>\n",
       "      <td>-2.0</td>\n",
       "      <td>0.000000</td>\n",
       "      <td>0.236949</td>\n",
       "    </tr>\n",
       "    <tr>\n",
       "      <th>14</th>\n",
       "      <td>3</td>\n",
       "      <td>4</td>\n",
       "      <td>0.5</td>\n",
       "      <td>-2.0</td>\n",
       "      <td>100.000000</td>\n",
       "      <td>0.886682</td>\n",
       "    </tr>\n",
       "    <tr>\n",
       "      <th>15</th>\n",
       "      <td>1</td>\n",
       "      <td>5</td>\n",
       "      <td>-0.5</td>\n",
       "      <td>0.0</td>\n",
       "      <td>-148.213227</td>\n",
       "      <td>-0.723376</td>\n",
       "    </tr>\n",
       "    <tr>\n",
       "      <th>16</th>\n",
       "      <td>2</td>\n",
       "      <td>5</td>\n",
       "      <td>0.0</td>\n",
       "      <td>0.0</td>\n",
       "      <td>0.000000</td>\n",
       "      <td>0.194812</td>\n",
       "    </tr>\n",
       "    <tr>\n",
       "      <th>17</th>\n",
       "      <td>3</td>\n",
       "      <td>5</td>\n",
       "      <td>0.5</td>\n",
       "      <td>0.0</td>\n",
       "      <td>100.000000</td>\n",
       "      <td>0.934958</td>\n",
       "    </tr>\n",
       "    <tr>\n",
       "      <th>18</th>\n",
       "      <td>1</td>\n",
       "      <td>6</td>\n",
       "      <td>-0.5</td>\n",
       "      <td>2.0</td>\n",
       "      <td>-141.073776</td>\n",
       "      <td>-0.809733</td>\n",
       "    </tr>\n",
       "    <tr>\n",
       "      <th>19</th>\n",
       "      <td>2</td>\n",
       "      <td>6</td>\n",
       "      <td>0.0</td>\n",
       "      <td>2.0</td>\n",
       "      <td>0.000000</td>\n",
       "      <td>0.157460</td>\n",
       "    </tr>\n",
       "    <tr>\n",
       "      <th>20</th>\n",
       "      <td>3</td>\n",
       "      <td>6</td>\n",
       "      <td>0.5</td>\n",
       "      <td>2.0</td>\n",
       "      <td>100.000000</td>\n",
       "      <td>0.966863</td>\n",
       "    </tr>\n",
       "    <tr>\n",
       "      <th>21</th>\n",
       "      <td>1</td>\n",
       "      <td>7</td>\n",
       "      <td>-0.5</td>\n",
       "      <td>4.0</td>\n",
       "      <td>-135.598989</td>\n",
       "      <td>-0.875955</td>\n",
       "    </tr>\n",
       "    <tr>\n",
       "      <th>22</th>\n",
       "      <td>2</td>\n",
       "      <td>7</td>\n",
       "      <td>0.0</td>\n",
       "      <td>4.0</td>\n",
       "      <td>0.000000</td>\n",
       "      <td>0.124604</td>\n",
       "    </tr>\n",
       "    <tr>\n",
       "      <th>23</th>\n",
       "      <td>3</td>\n",
       "      <td>7</td>\n",
       "      <td>0.5</td>\n",
       "      <td>4.0</td>\n",
       "      <td>100.000000</td>\n",
       "      <td>0.986372</td>\n",
       "    </tr>\n",
       "    <tr>\n",
       "      <th>24</th>\n",
       "      <td>1</td>\n",
       "      <td>8</td>\n",
       "      <td>-0.5</td>\n",
       "      <td>6.0</td>\n",
       "      <td>-131.349563</td>\n",
       "      <td>-0.927355</td>\n",
       "    </tr>\n",
       "    <tr>\n",
       "      <th>25</th>\n",
       "      <td>2</td>\n",
       "      <td>8</td>\n",
       "      <td>0.0</td>\n",
       "      <td>6.0</td>\n",
       "      <td>0.000000</td>\n",
       "      <td>0.095694</td>\n",
       "    </tr>\n",
       "    <tr>\n",
       "      <th>26</th>\n",
       "      <td>3</td>\n",
       "      <td>8</td>\n",
       "      <td>0.5</td>\n",
       "      <td>6.0</td>\n",
       "      <td>100.000000</td>\n",
       "      <td>0.996614</td>\n",
       "    </tr>\n",
       "    <tr>\n",
       "      <th>27</th>\n",
       "      <td>1</td>\n",
       "      <td>9</td>\n",
       "      <td>-0.5</td>\n",
       "      <td>8.0</td>\n",
       "      <td>-128.008139</td>\n",
       "      <td>-0.967772</td>\n",
       "    </tr>\n",
       "    <tr>\n",
       "      <th>28</th>\n",
       "      <td>2</td>\n",
       "      <td>9</td>\n",
       "      <td>0.0</td>\n",
       "      <td>8.0</td>\n",
       "      <td>0.000000</td>\n",
       "      <td>0.070123</td>\n",
       "    </tr>\n",
       "    <tr>\n",
       "      <th>29</th>\n",
       "      <td>3</td>\n",
       "      <td>9</td>\n",
       "      <td>0.5</td>\n",
       "      <td>8.0</td>\n",
       "      <td>100.000000</td>\n",
       "      <td>1.000000</td>\n",
       "    </tr>\n",
       "    <tr>\n",
       "      <th>30</th>\n",
       "      <td>1</td>\n",
       "      <td>10</td>\n",
       "      <td>-0.5</td>\n",
       "      <td>10.0</td>\n",
       "      <td>-125.343714</td>\n",
       "      <td>-1.000000</td>\n",
       "    </tr>\n",
       "    <tr>\n",
       "      <th>31</th>\n",
       "      <td>2</td>\n",
       "      <td>10</td>\n",
       "      <td>0.0</td>\n",
       "      <td>10.0</td>\n",
       "      <td>0.000000</td>\n",
       "      <td>0.047330</td>\n",
       "    </tr>\n",
       "    <tr>\n",
       "      <th>32</th>\n",
       "      <td>3</td>\n",
       "      <td>10</td>\n",
       "      <td>0.5</td>\n",
       "      <td>10.0</td>\n",
       "      <td>100.000000</td>\n",
       "      <td>0.998375</td>\n",
       "    </tr>\n",
       "  </tbody>\n",
       "</table>\n",
       "</div>"
      ],
      "text/plain": [
       "    id  Step    x  Time [Scaled]  Q [Scaled]  P [Scaled]\n",
       "0    1     0 -0.5          -10.0    0.000000    0.413677\n",
       "1    2     0  0.0          -10.0    0.000000    0.413677\n",
       "2    3     0  0.5          -10.0    0.000000    0.413677\n",
       "3    1     1 -0.5           -8.0 -210.261660    0.027146\n",
       "4    2     1  0.0           -8.0    0.000000    0.379564\n",
       "5    3     1  0.5           -8.0  100.000000    0.587875\n",
       "6    1     2 -0.5           -6.0 -187.135552   -0.252582\n",
       "7    2     2  0.0           -6.0    0.000000    0.332658\n",
       "8    3     2  0.5           -6.0  100.000000    0.719752\n",
       "9    1     3 -0.5           -4.0 -170.190252   -0.457548\n",
       "10   2     3  0.0           -4.0    0.000000    0.283514\n",
       "11   3     3  0.5           -4.0  100.000000    0.816978\n",
       "12   1     4 -0.5           -2.0 -157.628510   -0.609491\n",
       "13   2     4  0.0           -2.0    0.000000    0.236949\n",
       "14   3     4  0.5           -2.0  100.000000    0.886682\n",
       "15   1     5 -0.5            0.0 -148.213227   -0.723376\n",
       "16   2     5  0.0            0.0    0.000000    0.194812\n",
       "17   3     5  0.5            0.0  100.000000    0.934958\n",
       "18   1     6 -0.5            2.0 -141.073776   -0.809733\n",
       "19   2     6  0.0            2.0    0.000000    0.157460\n",
       "20   3     6  0.5            2.0  100.000000    0.966863\n",
       "21   1     7 -0.5            4.0 -135.598989   -0.875955\n",
       "22   2     7  0.0            4.0    0.000000    0.124604\n",
       "23   3     7  0.5            4.0  100.000000    0.986372\n",
       "24   1     8 -0.5            6.0 -131.349563   -0.927355\n",
       "25   2     8  0.0            6.0    0.000000    0.095694\n",
       "26   3     8  0.5            6.0  100.000000    0.996614\n",
       "27   1     9 -0.5            8.0 -128.008139   -0.967772\n",
       "28   2     9  0.0            8.0    0.000000    0.070123\n",
       "29   3     9  0.5            8.0  100.000000    1.000000\n",
       "30   1    10 -0.5           10.0 -125.343714   -1.000000\n",
       "31   2    10  0.0           10.0    0.000000    0.047330\n",
       "32   3    10  0.5           10.0  100.000000    0.998375"
      ]
     },
     "execution_count": 19,
     "metadata": {},
     "output_type": "execute_result"
    }
   ],
   "source": [
    "model.get_df(\n",
    "    scale=True,\n",
    "    melt=True,\n",
    "    boundary=False,\n",
    "    units=True,\n",
    "    columns=[\"time\", \"cells\", \"wells\"],\n",
    ")"
   ]
  }
 ],
 "metadata": {
  "kernelspec": {
   "display_name": ".venv",
   "language": "python",
   "name": "python3"
  },
  "language_info": {
   "codemirror_mode": {
    "name": "ipython",
    "version": 3
   },
   "file_extension": ".py",
   "mimetype": "text/x-python",
   "name": "python",
   "nbconvert_exporter": "python",
   "pygments_lexer": "ipython3",
   "version": "3.7.9"
  },
  "orig_nbformat": 4
 },
 "nbformat": 4,
 "nbformat_minor": 2
}
