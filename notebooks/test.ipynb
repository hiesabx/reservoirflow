{
 "cells": [
  {
   "cell_type": "code",
   "execution_count": 1,
   "metadata": {},
   "outputs": [],
   "source": [
    "import openresim as rs\n",
    "import numpy as np"
   ]
  },
  {
   "cell_type": "code",
   "execution_count": 2,
   "metadata": {},
   "outputs": [
    {
     "name": "stdout",
     "output_type": "stream",
     "text": [
      "[info] Simulation run started: 10 timesteps.\n"
     ]
    },
    {
     "name": "stderr",
     "output_type": "stream",
     "text": [
      "[step]: 10 - : 100%|\u001b[32m██████████\u001b[0m| 10/10 [00:00<00:00, 375.70steps/s]"
     ]
    },
    {
     "name": "stdout",
     "output_type": "stream",
     "text": [
      "[info] Simulation run of 10 steps finished in 0.03 seconds.\n",
      "[info] Material Balance Error: 2.55351295663786e-15.\n"
     ]
    },
    {
     "name": "stderr",
     "output_type": "stream",
     "text": [
      "\n"
     ]
    }
   ],
   "source": [
    "def create_model_example_7_1():\n",
    "    grid = rs.grids.Cartesian(\n",
    "        nx=4, ny=1, nz=1, dx=300, dy=350, dz=40, phi=0.27, kx=270, dtype=\"double\"\n",
    "    )\n",
    "    fluid = rs.fluids.SinglePhase(mu=0.5, B=1, dtype=\"double\")\n",
    "    model = rs.models.Model(grid, fluid, dtype=\"double\", verbose=False)\n",
    "    model.set_well(id=4, q=-600, s=1.5, r=3.5)\n",
    "    model.set_boundaries({0: (\"pressure\", 4000), 5: (\"rate\", 0)})\n",
    "    return model\n",
    "\n",
    "\n",
    "def create_model():\n",
    "    grid = rs.grids.Cartesian(\n",
    "        nx=3,\n",
    "        ny=1,\n",
    "        nz=1,\n",
    "        dx=300,\n",
    "        dy=350,\n",
    "        dz=20,\n",
    "        phi=0.27,\n",
    "        kx=1,\n",
    "        ky=1,\n",
    "        kz=0.1,\n",
    "        comp=1 * 10**-6,\n",
    "        dtype=\"double\",\n",
    "    )\n",
    "    fluid = rs.fluids.SinglePhase(\n",
    "        mu=0.5, B=1, rho=50, comp=1 * 10**-5, dtype=\"double\"\n",
    "    )\n",
    "    model = rs.models.Model(\n",
    "        grid, fluid, pi=6000, dt=5, start_date=\"10.10.2018\", dtype=\"double\"\n",
    "    )\n",
    "\n",
    "    n_samples = 1\n",
    "    cells_id = model.grid.get_cells_id(False, True)[-1].flatten()\n",
    "    wells = np.random.choice(cells_id, n_samples, False)\n",
    "    for id in wells:\n",
    "        model.set_well(id=id, q=-300, pwf=100, s=1.5, r=3.5)\n",
    "\n",
    "    wells = np.random.choice(cells_id, n_samples, False)\n",
    "    for id in wells:\n",
    "        model.set_well(id=id, q=100, s=0, r=3.5)\n",
    "\n",
    "    return model\n",
    "\n",
    "\n",
    "model = create_model()\n",
    "model.run(10, isolver=\"cgs\")"
   ]
  },
  {
   "cell_type": "code",
   "execution_count": 3,
   "metadata": {},
   "outputs": [
    {
     "name": "stdout",
     "output_type": "stream",
     "text": [
      "(5, 3)\n",
      "[150. 175.  10.]\n"
     ]
    },
    {
     "data": {
      "text/plain": [
       "array([[ 150.,  175.,   10.],\n",
       "       [ 450.,  175.,   10.],\n",
       "       [ 750.,  175.,   10.],\n",
       "       [1050.,  175.,   10.],\n",
       "       [1350.,  175.,   10.]])"
      ]
     },
     "execution_count": 3,
     "metadata": {},
     "output_type": "execute_result"
    }
   ],
   "source": [
    "arr = model.grid.get_cells_center(True, False)\n",
    "print(arr.shape)\n",
    "print(arr.min(axis=0))\n",
    "arr"
   ]
  },
  {
   "cell_type": "code",
   "execution_count": 4,
   "metadata": {},
   "outputs": [
    {
     "name": "stderr",
     "output_type": "stream",
     "text": [
      "c:\\users\\abugrzka\\projects\\openresim\\openresim\\scalers.py:60: RuntimeWarning: invalid value encountered in true_divide\n",
      "  self.vmax - self.vmin\n"
     ]
    },
    {
     "data": {
      "text/plain": [
       "array([[-1. ,  nan,  nan],\n",
       "       [-0.5,  nan,  nan],\n",
       "       [ 0. ,  nan,  nan],\n",
       "       [ 0.5,  nan,  nan],\n",
       "       [ 1. ,  nan,  nan]])"
      ]
     },
     "execution_count": 4,
     "metadata": {},
     "output_type": "execute_result"
    }
   ],
   "source": [
    "scaler = rs.scalers.MinMaxScaler((-1, 1)).fit(arr, axis=0)\n",
    "scaler.transform(arr)"
   ]
  },
  {
   "cell_type": "code",
   "execution_count": 5,
   "metadata": {},
   "outputs": [
    {
     "data": {
      "text/plain": [
       "array([[0. ],\n",
       "       [0.1],\n",
       "       [0.2],\n",
       "       [0.3],\n",
       "       [0.4],\n",
       "       [0.5],\n",
       "       [0.6],\n",
       "       [0.7],\n",
       "       [0.8],\n",
       "       [0.9],\n",
       "       [1. ]])"
      ]
     },
     "execution_count": 5,
     "metadata": {},
     "output_type": "execute_result"
    }
   ],
   "source": [
    "t = np.arange(0, (model.tstep + 1) * model.dt, model.dt)\n",
    "rs.scalers.MinMaxScaler((0, 1)).fit_transform(t.reshape(-1, 1), axis=0)"
   ]
  },
  {
   "cell_type": "code",
   "execution_count": 6,
   "metadata": {},
   "outputs": [
    {
     "data": {
      "text/plain": [
       "array([ 0,  5, 10, 15, 20, 25, 30, 35, 40, 45, 50])"
      ]
     },
     "execution_count": 6,
     "metadata": {},
     "output_type": "execute_result"
    }
   ],
   "source": [
    "t"
   ]
  },
  {
   "cell_type": "code",
   "execution_count": 7,
   "metadata": {},
   "outputs": [
    {
     "data": {
      "text/plain": [
       "(array([[ 0],\n",
       "        [ 5],\n",
       "        [10],\n",
       "        [15],\n",
       "        [20],\n",
       "        [25],\n",
       "        [30],\n",
       "        [35],\n",
       "        [40],\n",
       "        [45],\n",
       "        [50]]),\n",
       " array([[ 150.],\n",
       "        [ 450.],\n",
       "        [ 750.],\n",
       "        [1050.],\n",
       "        [1350.]]))"
      ]
     },
     "execution_count": 7,
     "metadata": {},
     "output_type": "execute_result"
    }
   ],
   "source": [
    "t, x = model.get_domain(False, True)\n",
    "t, x"
   ]
  },
  {
   "cell_type": "code",
   "execution_count": 8,
   "metadata": {},
   "outputs": [
    {
     "data": {
      "text/plain": [
       "array([[-1. ],\n",
       "       [-0.5],\n",
       "       [ 0. ],\n",
       "       [ 0.5],\n",
       "       [ 1. ]])"
      ]
     },
     "execution_count": 8,
     "metadata": {},
     "output_type": "execute_result"
    }
   ],
   "source": [
    "rs.scalers.MinMaxScaler((-1, 1)).fit_transform(x, axis=0)"
   ]
  },
  {
   "cell_type": "code",
   "execution_count": 9,
   "metadata": {},
   "outputs": [
    {
     "data": {
      "text/plain": [
       "array([[ 0],\n",
       "       [ 5],\n",
       "       [10],\n",
       "       [15],\n",
       "       [20],\n",
       "       [25],\n",
       "       [30],\n",
       "       [35],\n",
       "       [40],\n",
       "       [45],\n",
       "       [50]])"
      ]
     },
     "execution_count": 9,
     "metadata": {},
     "output_type": "execute_result"
    }
   ],
   "source": [
    "t"
   ]
  },
  {
   "cell_type": "code",
   "execution_count": 10,
   "metadata": {},
   "outputs": [
    {
     "data": {
      "text/plain": [
       "array([0. , 0.1, 0.2, 0.3, 0.4, 0.5, 0.6, 0.7, 0.8, 0.9, 1. ])"
      ]
     },
     "execution_count": 10,
     "metadata": {},
     "output_type": "execute_result"
    }
   ],
   "source": [
    "rs.scalers.MinMaxScaler((0, 1)).fit_transform(t.flatten(), axis=0)"
   ]
  },
  {
   "cell_type": "code",
   "execution_count": 11,
   "metadata": {},
   "outputs": [
    {
     "data": {
      "text/plain": [
       "(array([[ 150.],\n",
       "        [ 450.],\n",
       "        [ 750.],\n",
       "        [1050.],\n",
       "        [1350.]]),\n",
       " ['x'])"
      ]
     },
     "execution_count": 11,
     "metadata": {},
     "output_type": "execute_result"
    }
   ],
   "source": [
    "model.get_centers(False)"
   ]
  },
  {
   "cell_type": "code",
   "execution_count": 12,
   "metadata": {},
   "outputs": [
    {
     "data": {
      "text/plain": [
       "array([[ 0],\n",
       "       [ 5],\n",
       "       [10],\n",
       "       [15],\n",
       "       [20],\n",
       "       [25],\n",
       "       [30],\n",
       "       [35],\n",
       "       [40],\n",
       "       [45],\n",
       "       [50]])"
      ]
     },
     "execution_count": 12,
     "metadata": {},
     "output_type": "execute_result"
    }
   ],
   "source": [
    "t"
   ]
  },
  {
   "cell_type": "code",
   "execution_count": 13,
   "metadata": {},
   "outputs": [
    {
     "data": {
      "text/plain": [
       "array([ 0,  0,  5,  5, 10, 10, 15, 15, 20, 20, 25, 25, 30, 30, 35, 35, 40,\n",
       "       40, 45, 45, 50, 50])"
      ]
     },
     "execution_count": 13,
     "metadata": {},
     "output_type": "execute_result"
    }
   ],
   "source": [
    "np.repeat(t.flatten(), 2)"
   ]
  },
  {
   "cell_type": "code",
   "execution_count": 14,
   "metadata": {},
   "outputs": [],
   "source": [
    "config = {\"time\": [\"MinMax\", (0, 1)], \"space\": [\"minMax\"]}"
   ]
  },
  {
   "cell_type": "code",
   "execution_count": 18,
   "metadata": {},
   "outputs": [
    {
     "data": {
      "text/plain": [
       "{'time': ['MinMax', (-10, 10)],\n",
       " 'space': ['MinMax', (-1, 1)],\n",
       " 'pressure': ['MinMax', (-1, 1)],\n",
       " 'rate': [None, None]}"
      ]
     },
     "execution_count": 18,
     "metadata": {},
     "output_type": "execute_result"
    }
   ],
   "source": [
    "model.set_scalers({\"time\": [\"minmax\", (-10, 10)], \"rate\": [\"minmax\", None]})\n",
    "model.scalers_dict"
   ]
  },
  {
   "cell_type": "code",
   "execution_count": 16,
   "metadata": {},
   "outputs": [
    {
     "data": {
      "text/plain": [
       "array([-1.        , -0.69223375, -0.94898548, -0.9902352 , -1.        ])"
      ]
     },
     "execution_count": 16,
     "metadata": {},
     "output_type": "execute_result"
    }
   ],
   "source": [
    "model.update_scalers(False)\n",
    "model.pressures_scaler.transform(model.pressures[1])\n",
    "# model.space_scaler.transform(model.get_centers(False)[0])"
   ]
  },
  {
   "cell_type": "code",
   "execution_count": 17,
   "metadata": {},
   "outputs": [
    {
     "data": {
      "text/html": [
       "<div>\n",
       "<style scoped>\n",
       "    .dataframe tbody tr th:only-of-type {\n",
       "        vertical-align: middle;\n",
       "    }\n",
       "\n",
       "    .dataframe tbody tr th {\n",
       "        vertical-align: top;\n",
       "    }\n",
       "\n",
       "    .dataframe thead th {\n",
       "        text-align: right;\n",
       "    }\n",
       "</style>\n",
       "<table border=\"1\" class=\"dataframe\">\n",
       "  <thead>\n",
       "    <tr style=\"text-align: right;\">\n",
       "      <th></th>\n",
       "      <th>id</th>\n",
       "      <th>Step</th>\n",
       "      <th>x</th>\n",
       "      <th>Time [Scaled]</th>\n",
       "      <th>Q [Scaled]</th>\n",
       "      <th>P [Scaled]</th>\n",
       "    </tr>\n",
       "  </thead>\n",
       "  <tbody>\n",
       "    <tr>\n",
       "      <th>0</th>\n",
       "      <td>1</td>\n",
       "      <td>0</td>\n",
       "      <td>-0.5</td>\n",
       "      <td>-10.0</td>\n",
       "      <td>0.0</td>\n",
       "      <td>-1.000000</td>\n",
       "    </tr>\n",
       "    <tr>\n",
       "      <th>1</th>\n",
       "      <td>2</td>\n",
       "      <td>0</td>\n",
       "      <td>0.0</td>\n",
       "      <td>-10.0</td>\n",
       "      <td>0.0</td>\n",
       "      <td>-1.000000</td>\n",
       "    </tr>\n",
       "    <tr>\n",
       "      <th>2</th>\n",
       "      <td>3</td>\n",
       "      <td>0</td>\n",
       "      <td>0.5</td>\n",
       "      <td>-10.0</td>\n",
       "      <td>0.0</td>\n",
       "      <td>-1.000000</td>\n",
       "    </tr>\n",
       "    <tr>\n",
       "      <th>3</th>\n",
       "      <td>1</td>\n",
       "      <td>1</td>\n",
       "      <td>-0.5</td>\n",
       "      <td>-8.0</td>\n",
       "      <td>100.0</td>\n",
       "      <td>-0.692234</td>\n",
       "    </tr>\n",
       "    <tr>\n",
       "      <th>4</th>\n",
       "      <td>2</td>\n",
       "      <td>1</td>\n",
       "      <td>0.0</td>\n",
       "      <td>-8.0</td>\n",
       "      <td>0.0</td>\n",
       "      <td>-0.948985</td>\n",
       "    </tr>\n",
       "    <tr>\n",
       "      <th>5</th>\n",
       "      <td>3</td>\n",
       "      <td>1</td>\n",
       "      <td>0.5</td>\n",
       "      <td>-8.0</td>\n",
       "      <td>0.0</td>\n",
       "      <td>-0.990235</td>\n",
       "    </tr>\n",
       "    <tr>\n",
       "      <th>6</th>\n",
       "      <td>1</td>\n",
       "      <td>2</td>\n",
       "      <td>-0.5</td>\n",
       "      <td>-6.0</td>\n",
       "      <td>100.0</td>\n",
       "      <td>-0.427903</td>\n",
       "    </tr>\n",
       "    <tr>\n",
       "      <th>7</th>\n",
       "      <td>2</td>\n",
       "      <td>2</td>\n",
       "      <td>0.0</td>\n",
       "      <td>-6.0</td>\n",
       "      <td>0.0</td>\n",
       "      <td>-0.868141</td>\n",
       "    </tr>\n",
       "    <tr>\n",
       "      <th>8</th>\n",
       "      <td>3</td>\n",
       "      <td>2</td>\n",
       "      <td>0.5</td>\n",
       "      <td>-6.0</td>\n",
       "      <td>0.0</td>\n",
       "      <td>-0.966865</td>\n",
       "    </tr>\n",
       "    <tr>\n",
       "      <th>9</th>\n",
       "      <td>1</td>\n",
       "      <td>3</td>\n",
       "      <td>-0.5</td>\n",
       "      <td>-4.0</td>\n",
       "      <td>100.0</td>\n",
       "      <td>-0.195355</td>\n",
       "    </tr>\n",
       "    <tr>\n",
       "      <th>10</th>\n",
       "      <td>2</td>\n",
       "      <td>3</td>\n",
       "      <td>0.0</td>\n",
       "      <td>-4.0</td>\n",
       "      <td>0.0</td>\n",
       "      <td>-0.769854</td>\n",
       "    </tr>\n",
       "    <tr>\n",
       "      <th>11</th>\n",
       "      <td>3</td>\n",
       "      <td>3</td>\n",
       "      <td>0.5</td>\n",
       "      <td>-4.0</td>\n",
       "      <td>0.0</td>\n",
       "      <td>-0.929155</td>\n",
       "    </tr>\n",
       "    <tr>\n",
       "      <th>12</th>\n",
       "      <td>1</td>\n",
       "      <td>4</td>\n",
       "      <td>-0.5</td>\n",
       "      <td>-2.0</td>\n",
       "      <td>100.0</td>\n",
       "      <td>0.013446</td>\n",
       "    </tr>\n",
       "    <tr>\n",
       "      <th>13</th>\n",
       "      <td>2</td>\n",
       "      <td>4</td>\n",
       "      <td>0.0</td>\n",
       "      <td>-2.0</td>\n",
       "      <td>0.0</td>\n",
       "      <td>-0.661367</td>\n",
       "    </tr>\n",
       "    <tr>\n",
       "      <th>14</th>\n",
       "      <td>3</td>\n",
       "      <td>4</td>\n",
       "      <td>0.5</td>\n",
       "      <td>-2.0</td>\n",
       "      <td>0.0</td>\n",
       "      <td>-0.877897</td>\n",
       "    </tr>\n",
       "    <tr>\n",
       "      <th>15</th>\n",
       "      <td>1</td>\n",
       "      <td>5</td>\n",
       "      <td>-0.5</td>\n",
       "      <td>0.0</td>\n",
       "      <td>100.0</td>\n",
       "      <td>0.204187</td>\n",
       "    </tr>\n",
       "    <tr>\n",
       "      <th>16</th>\n",
       "      <td>2</td>\n",
       "      <td>5</td>\n",
       "      <td>0.0</td>\n",
       "      <td>0.0</td>\n",
       "      <td>0.0</td>\n",
       "      <td>-0.546916</td>\n",
       "    </tr>\n",
       "    <tr>\n",
       "      <th>17</th>\n",
       "      <td>3</td>\n",
       "      <td>5</td>\n",
       "      <td>0.5</td>\n",
       "      <td>0.0</td>\n",
       "      <td>0.0</td>\n",
       "      <td>-0.814543</td>\n",
       "    </tr>\n",
       "    <tr>\n",
       "      <th>18</th>\n",
       "      <td>1</td>\n",
       "      <td>6</td>\n",
       "      <td>-0.5</td>\n",
       "      <td>2.0</td>\n",
       "      <td>100.0</td>\n",
       "      <td>0.380993</td>\n",
       "    </tr>\n",
       "    <tr>\n",
       "      <th>19</th>\n",
       "      <td>2</td>\n",
       "      <td>6</td>\n",
       "      <td>0.0</td>\n",
       "      <td>2.0</td>\n",
       "      <td>0.0</td>\n",
       "      <td>-0.428978</td>\n",
       "    </tr>\n",
       "    <tr>\n",
       "      <th>20</th>\n",
       "      <td>3</td>\n",
       "      <td>6</td>\n",
       "      <td>0.5</td>\n",
       "      <td>2.0</td>\n",
       "      <td>0.0</td>\n",
       "      <td>-0.740741</td>\n",
       "    </tr>\n",
       "    <tr>\n",
       "      <th>21</th>\n",
       "      <td>1</td>\n",
       "      <td>7</td>\n",
       "      <td>-0.5</td>\n",
       "      <td>4.0</td>\n",
       "      <td>100.0</td>\n",
       "      <td>0.546921</td>\n",
       "    </tr>\n",
       "    <tr>\n",
       "      <th>22</th>\n",
       "      <td>2</td>\n",
       "      <td>7</td>\n",
       "      <td>0.0</td>\n",
       "      <td>4.0</td>\n",
       "      <td>0.0</td>\n",
       "      <td>-0.309001</td>\n",
       "    </tr>\n",
       "    <tr>\n",
       "      <th>23</th>\n",
       "      <td>3</td>\n",
       "      <td>7</td>\n",
       "      <td>0.5</td>\n",
       "      <td>4.0</td>\n",
       "      <td>0.0</td>\n",
       "      <td>-0.658101</td>\n",
       "    </tr>\n",
       "    <tr>\n",
       "      <th>24</th>\n",
       "      <td>1</td>\n",
       "      <td>8</td>\n",
       "      <td>-0.5</td>\n",
       "      <td>6.0</td>\n",
       "      <td>100.0</td>\n",
       "      <td>0.704282</td>\n",
       "    </tr>\n",
       "    <tr>\n",
       "      <th>25</th>\n",
       "      <td>2</td>\n",
       "      <td>8</td>\n",
       "      <td>0.0</td>\n",
       "      <td>6.0</td>\n",
       "      <td>0.0</td>\n",
       "      <td>-0.187832</td>\n",
       "    </tr>\n",
       "    <tr>\n",
       "      <th>26</th>\n",
       "      <td>3</td>\n",
       "      <td>8</td>\n",
       "      <td>0.5</td>\n",
       "      <td>6.0</td>\n",
       "      <td>0.0</td>\n",
       "      <td>-0.568086</td>\n",
       "    </tr>\n",
       "    <tr>\n",
       "      <th>27</th>\n",
       "      <td>1</td>\n",
       "      <td>9</td>\n",
       "      <td>-0.5</td>\n",
       "      <td>8.0</td>\n",
       "      <td>100.0</td>\n",
       "      <td>0.854849</td>\n",
       "    </tr>\n",
       "    <tr>\n",
       "      <th>28</th>\n",
       "      <td>2</td>\n",
       "      <td>9</td>\n",
       "      <td>0.0</td>\n",
       "      <td>8.0</td>\n",
       "      <td>0.0</td>\n",
       "      <td>-0.065965</td>\n",
       "    </tr>\n",
       "    <tr>\n",
       "      <th>29</th>\n",
       "      <td>3</td>\n",
       "      <td>9</td>\n",
       "      <td>0.5</td>\n",
       "      <td>8.0</td>\n",
       "      <td>0.0</td>\n",
       "      <td>-0.471974</td>\n",
       "    </tr>\n",
       "    <tr>\n",
       "      <th>30</th>\n",
       "      <td>1</td>\n",
       "      <td>10</td>\n",
       "      <td>-0.5</td>\n",
       "      <td>10.0</td>\n",
       "      <td>100.0</td>\n",
       "      <td>1.000000</td>\n",
       "    </tr>\n",
       "    <tr>\n",
       "      <th>31</th>\n",
       "      <td>2</td>\n",
       "      <td>10</td>\n",
       "      <td>0.0</td>\n",
       "      <td>10.0</td>\n",
       "      <td>0.0</td>\n",
       "      <td>0.056309</td>\n",
       "    </tr>\n",
       "    <tr>\n",
       "      <th>32</th>\n",
       "      <td>3</td>\n",
       "      <td>10</td>\n",
       "      <td>0.5</td>\n",
       "      <td>10.0</td>\n",
       "      <td>0.0</td>\n",
       "      <td>-0.370854</td>\n",
       "    </tr>\n",
       "  </tbody>\n",
       "</table>\n",
       "</div>"
      ],
      "text/plain": [
       "    id  Step    x  Time [Scaled]  Q [Scaled]  P [Scaled]\n",
       "0    1     0 -0.5          -10.0         0.0   -1.000000\n",
       "1    2     0  0.0          -10.0         0.0   -1.000000\n",
       "2    3     0  0.5          -10.0         0.0   -1.000000\n",
       "3    1     1 -0.5           -8.0       100.0   -0.692234\n",
       "4    2     1  0.0           -8.0         0.0   -0.948985\n",
       "5    3     1  0.5           -8.0         0.0   -0.990235\n",
       "6    1     2 -0.5           -6.0       100.0   -0.427903\n",
       "7    2     2  0.0           -6.0         0.0   -0.868141\n",
       "8    3     2  0.5           -6.0         0.0   -0.966865\n",
       "9    1     3 -0.5           -4.0       100.0   -0.195355\n",
       "10   2     3  0.0           -4.0         0.0   -0.769854\n",
       "11   3     3  0.5           -4.0         0.0   -0.929155\n",
       "12   1     4 -0.5           -2.0       100.0    0.013446\n",
       "13   2     4  0.0           -2.0         0.0   -0.661367\n",
       "14   3     4  0.5           -2.0         0.0   -0.877897\n",
       "15   1     5 -0.5            0.0       100.0    0.204187\n",
       "16   2     5  0.0            0.0         0.0   -0.546916\n",
       "17   3     5  0.5            0.0         0.0   -0.814543\n",
       "18   1     6 -0.5            2.0       100.0    0.380993\n",
       "19   2     6  0.0            2.0         0.0   -0.428978\n",
       "20   3     6  0.5            2.0         0.0   -0.740741\n",
       "21   1     7 -0.5            4.0       100.0    0.546921\n",
       "22   2     7  0.0            4.0         0.0   -0.309001\n",
       "23   3     7  0.5            4.0         0.0   -0.658101\n",
       "24   1     8 -0.5            6.0       100.0    0.704282\n",
       "25   2     8  0.0            6.0         0.0   -0.187832\n",
       "26   3     8  0.5            6.0         0.0   -0.568086\n",
       "27   1     9 -0.5            8.0       100.0    0.854849\n",
       "28   2     9  0.0            8.0         0.0   -0.065965\n",
       "29   3     9  0.5            8.0         0.0   -0.471974\n",
       "30   1    10 -0.5           10.0       100.0    1.000000\n",
       "31   2    10  0.0           10.0         0.0    0.056309\n",
       "32   3    10  0.5           10.0         0.0   -0.370854"
      ]
     },
     "execution_count": 17,
     "metadata": {},
     "output_type": "execute_result"
    }
   ],
   "source": [
    "model.get_df(\n",
    "    scale=True,\n",
    "    melt=True,\n",
    "    boundary=False,\n",
    "    units=True,\n",
    "    columns=[\"time\", \"cells\", \"wells\"],\n",
    ")"
   ]
  }
 ],
 "metadata": {
  "kernelspec": {
   "display_name": ".venv",
   "language": "python",
   "name": "python3"
  },
  "language_info": {
   "codemirror_mode": {
    "name": "ipython",
    "version": 3
   },
   "file_extension": ".py",
   "mimetype": "text/x-python",
   "name": "python",
   "nbconvert_exporter": "python",
   "pygments_lexer": "ipython3",
   "version": "3.7.9"
  },
  "orig_nbformat": 4
 },
 "nbformat": 4,
 "nbformat_minor": 2
}
