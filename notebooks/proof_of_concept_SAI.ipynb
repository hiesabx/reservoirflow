{
 "cells": [
  {
   "cell_type": "markdown",
   "metadata": {},
   "source": [
    "Ideas 1:\n",
    "1. first we need to convert our sparse matrix to dense matrix where each row is an example by keeping only the diagonals.\n",
    "2. Change in Shapes:\n",
    "   1. for 1D models: \n",
    "      1. the shape will change from (nxn) to (nx3) since each cell has 3 terms (i.e. 2 neighbors and the cell itself). \n",
    "      2. Formulation:\n",
    "         1.  b, c1, c2 x x1 > b1\n",
    "         2. c1, c2, c3 x x2 > b2\n",
    "         3. c2, c3, c4 x x3 > b3\n",
    "         4. c3, c4, b  x x4 > b4\n",
    "   2. for 2D models: \n",
    "      1. the shape will change from (nxn) to (nx5) since each cell has 5 terms (i.e. 4 neighbors and the cell itself).  \n",
    "   3. for 3D models:\n",
    "      1. the shape will change from (nxn) to (nx7) since each cell has 7 terms (i.e. 6 neighbors and the cell itself).\n",
    "\n",
    "Idea 2: Train neural network to calc A^-1 then use that to get x: A^-1.b = x"
   ]
  },
  {
   "cell_type": "code",
   "execution_count": 10,
   "metadata": {},
   "outputs": [],
   "source": [
    "import openresim as ors\n",
    "import tensorflow as tf"
   ]
  },
  {
   "cell_type": "code",
   "execution_count": 11,
   "metadata": {},
   "outputs": [],
   "source": [
    "def create_model():\n",
    "    grid = ors.grids.Cartesian(\n",
    "        nx=4, ny=1, nz=1, dx=300, dy=350, dz=40, phi=0.27, kx=270, dtype=\"double\"\n",
    "    )\n",
    "    fluid = ors.fluids.SinglePhase(mu=0.5, B=1, dtype=\"double\")\n",
    "    model = ors.models.Model(grid, fluid, dtype=\"double\", verbose=False)\n",
    "    model.set_well(id=4, q=-600, s=1.5, r=3.5)\n",
    "    model.set_boundaries({0: (\"pressure\", 4000), 5: (\"rate\", 0)})\n",
    "    return model\n",
    "\n",
    "model = create_model()"
   ]
  },
  {
   "cell_type": "code",
   "execution_count": 19,
   "metadata": {},
   "outputs": [
    {
     "name": "stdout",
     "output_type": "stream",
     "text": [
      "cell 1: {p1: 85.2012000000000, p2: -28.4004000000000}\n",
      "cell 2: {p1: 28.4004000000000, p3: 28.4004000000000, p2: -56.8008000000000}\n",
      "cell 3: {p2: 28.4004000000000, p4: 28.4004000000000, p3: -56.8008000000000}\n",
      "cell 4: {p3: 28.4004000000000, p4: -28.4004000000000}\n"
     ]
    },
    {
     "data": {
      "text/plain": [
       "[None, None, None, None]"
      ]
     },
     "execution_count": 19,
     "metadata": {},
     "output_type": "execute_result"
    }
   ],
   "source": [
    "[print(f\"cell {k}: {dict(v[0])}\") for k, v in model.get_cells_eq().items()]"
   ]
  },
  {
   "cell_type": "code",
   "execution_count": 20,
   "metadata": {},
   "outputs": [
    {
     "data": {
      "text/plain": [
       "(array([[-85.2012,  28.4004,   0.    ,   0.    ],\n",
       "        [ 28.4004, -56.8008,  28.4004,   0.    ],\n",
       "        [  0.    ,  28.4004, -56.8008,  28.4004],\n",
       "        [  0.    ,   0.    ,  28.4004, -28.4004]]),\n",
       " array([[-227203.2],\n",
       "        [      0. ],\n",
       "        [      0. ],\n",
       "        [    600. ]]))"
      ]
     },
     "execution_count": 20,
     "metadata": {},
     "output_type": "execute_result"
    }
   ],
   "source": [
    "model.get_matrices_vectorized()"
   ]
  },
  {
   "cell_type": "code",
   "execution_count": 28,
   "metadata": {},
   "outputs": [
    {
     "data": {
      "text/plain": [
       "[4000.0, nan, nan, nan, nan, nan]"
      ]
     },
     "execution_count": 28,
     "metadata": {},
     "output_type": "execute_result"
    }
   ],
   "source": [
    "list(model.pressures[0])"
   ]
  },
  {
   "cell_type": "code",
   "execution_count": 23,
   "metadata": {},
   "outputs": [
    {
     "name": "stdout",
     "output_type": "stream",
     "text": [
      "[info] Simulation run started: 1 timesteps.\n"
     ]
    },
    {
     "name": "stderr",
     "output_type": "stream",
     "text": [
      "100%|\u001b[32m██████████\u001b[0m| 1/1 [00:00<00:00,  5.94steps/s]"
     ]
    },
    {
     "name": "stdout",
     "output_type": "stream",
     "text": [
      "step: 0\n",
      "[[ 85.2012 -28.4004   0.       0.    ]\n",
      " [ 28.4004 -56.8008  28.4004   0.    ]\n",
      " [  0.      28.4004 -56.8008  28.4004]\n",
      " [  0.       0.      28.4004 -28.4004]\n",
      " [-85.2012  28.4004   0.       0.    ]\n",
      " [ 28.4004 -56.8008  28.4004   0.    ]\n",
      " [  0.      28.4004 -56.8008  28.4004]\n",
      " [  0.       0.      28.4004 -28.4004]\n",
      " [170.4024 -56.8008   0.       0.    ]\n",
      " [  0.       0.       0.       0.    ]\n",
      " [  0.       0.       0.       0.    ]\n",
      " [  0.       0.       0.       0.    ]]\n",
      "[[ 227203.2 -227203.2  454406.4]\n",
      " [      0.        0.        0. ]\n",
      " [      0.        0.        0. ]\n",
      " [    600.      600.        0. ]]\n",
      "\n",
      "[info] Simulation run of 1 steps finished in 0.17 seconds.\n",
      "\n",
      "[info] Material Balance Error: -1.4909971923771081e-07.\n"
     ]
    },
    {
     "name": "stderr",
     "output_type": "stream",
     "text": [
      "\n"
     ]
    }
   ],
   "source": [
    "model.run(\n",
    "        nsteps=1,\n",
    "        sparse=True,\n",
    "        threading=True,\n",
    "        vectorize=True,\n",
    "        check_MB=True,\n",
    "        print_arrays=True,\n",
    "        isolver=\"cgs\")"
   ]
  },
  {
   "cell_type": "code",
   "execution_count": 27,
   "metadata": {},
   "outputs": [
    {
     "data": {
      "text/plain": [
       "[4000.0,\n",
       " 3989.4367684988433,\n",
       " 3968.310305489209,\n",
       " 3947.1838424812486,\n",
       " 3926.057379473549,\n",
       " nan]"
      ]
     },
     "execution_count": 27,
     "metadata": {},
     "output_type": "execute_result"
    }
   ],
   "source": [
    "list(model.pressures[1])"
   ]
  }
 ],
 "metadata": {
  "kernelspec": {
   "display_name": "Python 3.7.9 ('.venv': venv)",
   "language": "python",
   "name": "python3"
  },
  "language_info": {
   "codemirror_mode": {
    "name": "ipython",
    "version": 3
   },
   "file_extension": ".py",
   "mimetype": "text/x-python",
   "name": "python",
   "nbconvert_exporter": "python",
   "pygments_lexer": "ipython3",
   "version": "3.7.9"
  },
  "orig_nbformat": 4,
  "vscode": {
   "interpreter": {
    "hash": "2116d95755a7ead68517cc9ba299794c4bd48974193acd37c3254ab5a44c419e"
   }
  }
 },
 "nbformat": 4,
 "nbformat_minor": 2
}
