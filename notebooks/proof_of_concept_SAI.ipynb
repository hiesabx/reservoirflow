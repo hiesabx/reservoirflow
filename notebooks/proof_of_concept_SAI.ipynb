{
 "cells": [
  {
   "cell_type": "markdown",
   "metadata": {},
   "source": [
    "Ideas 1:\n",
    "1. first we need to convert our sparse matrix to dense matrix where each row is an example by keeping only the diagonals.\n",
    "2. Change in Shapes:\n",
    "   1. for 1D models: \n",
    "      1. the shape will change from (nxn) to (nx3) since each cell has 3 terms (i.e. 2 neighbors and the cell itself). \n",
    "      2. Formulation:\n",
    "         1.  b, c1, c2 x x1 > b1\n",
    "         2. c1, c2, c3 x x2 > b2\n",
    "         3. c2, c3, c4 x x3 > b3\n",
    "         4. c3, c4, b  x x4 > b4\n",
    "   2. for 2D models: \n",
    "      1. the shape will change from (nxn) to (nx5) since each cell has 5 terms (i.e. 4 neighbors and the cell itself).  \n",
    "   3. for 3D models:\n",
    "      1. the shape will change from (nxn) to (nx7) since each cell has 7 terms (i.e. 6 neighbors and the cell itself).\n",
    "\n",
    "Idea 2: Train neural network to calc A^-1 then use that to get x: A^-1.b = x"
   ]
  },
  {
   "cell_type": "code",
   "execution_count": 1,
   "metadata": {},
   "outputs": [],
   "source": [
    "import openresim as ors\n",
    "import numpy as np\n",
    "import pandas as pd\n",
    "import tensorflow as tf\n",
    "import keras"
   ]
  },
  {
   "cell_type": "code",
   "execution_count": 18,
   "metadata": {},
   "outputs": [],
   "source": [
    "def create_model():\n",
    "    grid = ors.grids.Cartesian(\n",
    "        nx=4, ny=1, nz=1, dx=300, dy=350, dz=40, phi=0.27, kx=270, dtype=\"double\"\n",
    "    )\n",
    "    fluid = ors.fluids.SinglePhase(mu=0.5, B=1, dtype=\"double\")\n",
    "    model = ors.models.Model(grid, fluid, dtype=\"double\", verbose=False)\n",
    "    model.set_well(id=4, q=-600, s=1.5, r=3.5)\n",
    "    model.set_boundaries({0: (\"pressure\", 4000), 5: (\"rate\", 0)})\n",
    "    return model\n",
    "\n",
    "model = create_model()"
   ]
  },
  {
   "cell_type": "code",
   "execution_count": 19,
   "metadata": {},
   "outputs": [
    {
     "name": "stdout",
     "output_type": "stream",
     "text": [
      "cell 1: {p1: 85.2012000000000, p2: -28.4004000000000}\n",
      "cell 2: {p1: 28.4004000000000, p3: 28.4004000000000, p2: -56.8008000000000}\n",
      "cell 3: {p2: 28.4004000000000, p4: 28.4004000000000, p3: -56.8008000000000}\n",
      "cell 4: {p3: 28.4004000000000, p4: -28.4004000000000}\n"
     ]
    },
    {
     "data": {
      "text/plain": [
       "[None, None, None, None]"
      ]
     },
     "execution_count": 19,
     "metadata": {},
     "output_type": "execute_result"
    }
   ],
   "source": [
    "[print(f\"cell {k}: {dict(v[0])}\") for k, v in model.get_cells_eq().items()]"
   ]
  },
  {
   "cell_type": "code",
   "execution_count": 20,
   "metadata": {},
   "outputs": [],
   "source": [
    "A, d = model.get_matrices_vectorized(sparse=False)"
   ]
  },
  {
   "cell_type": "code",
   "execution_count": 21,
   "metadata": {},
   "outputs": [
    {
     "data": {
      "text/plain": [
       "[4000.0, nan, nan, nan, nan, nan]"
      ]
     },
     "execution_count": 21,
     "metadata": {},
     "output_type": "execute_result"
    }
   ],
   "source": [
    "list(model.pressures[0])"
   ]
  },
  {
   "cell_type": "code",
   "execution_count": 22,
   "metadata": {},
   "outputs": [
    {
     "name": "stdout",
     "output_type": "stream",
     "text": [
      "[info] Simulation run started: 3 timesteps.\n"
     ]
    },
    {
     "name": "stderr",
     "output_type": "stream",
     "text": [
      " 33%|\u001b[32m███▎      \u001b[0m| 1/3 [00:00<00:00,  3.47steps/s]"
     ]
    },
    {
     "name": "stdout",
     "output_type": "stream",
     "text": [
      "step: 0\n",
      "[[ 85.2012 -28.4004   0.       0.    ]\n",
      " [ 28.4004 -56.8008  28.4004   0.    ]\n",
      " [  0.      28.4004 -56.8008  28.4004]\n",
      " [  0.       0.      28.4004 -28.4004]\n",
      " [-85.2012  28.4004   0.       0.    ]\n",
      " [ 28.4004 -56.8008  28.4004   0.    ]\n",
      " [  0.      28.4004 -56.8008  28.4004]\n",
      " [  0.       0.      28.4004 -28.4004]\n",
      " [170.4024 -56.8008   0.       0.    ]\n",
      " [  0.       0.       0.       0.    ]\n",
      " [  0.       0.       0.       0.    ]\n",
      " [  0.       0.       0.       0.    ]]\n",
      "[[ 227203.2 -227203.2  454406.4]\n",
      " [      0.        0.        0. ]\n",
      " [      0.        0.        0. ]\n",
      " [    600.      600.        0. ]]\n",
      "\n",
      "step: 1\n",
      "[[ 85.2012 -28.4004   0.       0.    ]\n",
      " [ 28.4004 -56.8008  28.4004   0.    ]\n",
      " [  0.      28.4004 -56.8008  28.4004]\n",
      " [  0.       0.      28.4004 -28.4004]\n",
      " [-85.2012  28.4004   0.       0.    ]\n",
      " [ 28.4004 -56.8008  28.4004   0.    ]\n",
      " [  0.      28.4004 -56.8008  28.4004]\n",
      " [  0.       0.      28.4004 -28.4004]\n",
      " [170.4024 -56.8008   0.       0.    ]\n",
      " [  0.       0.       0.       0.    ]\n",
      " [  0.       0.       0.       0.    ]\n",
      " [  0.       0.       0.       0.    ]]\n",
      "[[ 227203.2 -227203.2  454406.4]\n",
      " [      0.        0.        0. ]\n",
      " [      0.        0.        0. ]\n",
      " [    600.      600.        0. ]]\n",
      "\n"
     ]
    },
    {
     "name": "stderr",
     "output_type": "stream",
     "text": [
      "100%|\u001b[32m██████████\u001b[0m| 3/3 [00:00<00:00,  3.87steps/s]"
     ]
    },
    {
     "name": "stdout",
     "output_type": "stream",
     "text": [
      "step: 2\n",
      "[[ 85.2012 -28.4004   0.       0.    ]\n",
      " [ 28.4004 -56.8008  28.4004   0.    ]\n",
      " [  0.      28.4004 -56.8008  28.4004]\n",
      " [  0.       0.      28.4004 -28.4004]\n",
      " [-85.2012  28.4004   0.       0.    ]\n",
      " [ 28.4004 -56.8008  28.4004   0.    ]\n",
      " [  0.      28.4004 -56.8008  28.4004]\n",
      " [  0.       0.      28.4004 -28.4004]\n",
      " [170.4024 -56.8008   0.       0.    ]\n",
      " [  0.       0.       0.       0.    ]\n",
      " [  0.       0.       0.       0.    ]\n",
      " [  0.       0.       0.       0.    ]]\n",
      "[[ 227203.2 -227203.2  454406.4]\n",
      " [      0.        0.        0. ]\n",
      " [      0.        0.        0. ]\n",
      " [    600.      600.        0. ]]\n",
      "\n",
      "[info] Simulation run of 3 steps finished in 0.78 seconds.\n",
      "\n",
      "[info] Material Balance Error: -1.4909971923771081e-07.\n"
     ]
    },
    {
     "name": "stderr",
     "output_type": "stream",
     "text": [
      "\n"
     ]
    }
   ],
   "source": [
    "model.run(\n",
    "        nsteps=3,\n",
    "        sparse=True,\n",
    "        threading=True,\n",
    "        vectorize=True,\n",
    "        check_MB=True,\n",
    "        print_arrays=True,\n",
    "        isolver=\"cgs\")"
   ]
  },
  {
   "cell_type": "code",
   "execution_count": 23,
   "metadata": {},
   "outputs": [
    {
     "data": {
      "text/plain": [
       "[array([4000.,   nan,   nan,   nan,   nan,   nan]),\n",
       " array([4000.        , 3989.4367685 , 3968.31030549, 3947.18384248,\n",
       "        3926.05737947,           nan]),\n",
       " array([4000.        , 3989.4367685 , 3968.31030549, 3947.18384248,\n",
       "        3926.05737947,           nan]),\n",
       " array([4000.        , 3989.4367685 , 3968.31030549, 3947.18384248,\n",
       "        3926.05737947,           nan])]"
      ]
     },
     "execution_count": 23,
     "metadata": {},
     "output_type": "execute_result"
    }
   ],
   "source": [
    "list(model.pressures)"
   ]
  },
  {
   "cell_type": "code",
   "execution_count": 24,
   "metadata": {},
   "outputs": [
    {
     "data": {
      "text/plain": [
       "array([[-85.2012,  28.4004,   0.    ,   0.    ],\n",
       "       [ 28.4004, -56.8008,  28.4004,   0.    ],\n",
       "       [  0.    ,  28.4004, -56.8008,  28.4004],\n",
       "       [  0.    ,   0.    ,  28.4004, -28.4004]])"
      ]
     },
     "execution_count": 24,
     "metadata": {},
     "output_type": "execute_result"
    }
   ],
   "source": [
    "A"
   ]
  },
  {
   "cell_type": "code",
   "execution_count": 25,
   "metadata": {},
   "outputs": [
    {
     "data": {
      "text/plain": [
       "array([[-227203.2],\n",
       "       [      0. ],\n",
       "       [      0. ],\n",
       "       [    600. ]])"
      ]
     },
     "execution_count": 25,
     "metadata": {},
     "output_type": "execute_result"
    }
   ],
   "source": [
    "d"
   ]
  },
  {
   "cell_type": "code",
   "execution_count": 123,
   "metadata": {},
   "outputs": [
    {
     "data": {
      "text/html": [
       "<div>\n",
       "<style scoped>\n",
       "    .dataframe tbody tr th:only-of-type {\n",
       "        vertical-align: middle;\n",
       "    }\n",
       "\n",
       "    .dataframe tbody tr th {\n",
       "        vertical-align: top;\n",
       "    }\n",
       "\n",
       "    .dataframe thead th {\n",
       "        text-align: right;\n",
       "    }\n",
       "</style>\n",
       "<table border=\"1\" class=\"dataframe\">\n",
       "  <thead>\n",
       "    <tr style=\"text-align: right;\">\n",
       "      <th></th>\n",
       "      <th>L</th>\n",
       "      <th>C</th>\n",
       "      <th>R</th>\n",
       "      <th>B</th>\n",
       "      <th>P_L</th>\n",
       "      <th>P_C</th>\n",
       "      <th>P_R</th>\n",
       "    </tr>\n",
       "  </thead>\n",
       "  <tbody>\n",
       "    <tr>\n",
       "      <th>0</th>\n",
       "      <td>0.0000</td>\n",
       "      <td>-85.2012</td>\n",
       "      <td>28.4004</td>\n",
       "      <td>227203.2</td>\n",
       "      <td>4000.000000</td>\n",
       "      <td>3989.436768</td>\n",
       "      <td>3968.310305</td>\n",
       "    </tr>\n",
       "    <tr>\n",
       "      <th>1</th>\n",
       "      <td>28.4004</td>\n",
       "      <td>-56.8008</td>\n",
       "      <td>28.4004</td>\n",
       "      <td>-0.0</td>\n",
       "      <td>3989.436768</td>\n",
       "      <td>3968.310305</td>\n",
       "      <td>3947.183842</td>\n",
       "    </tr>\n",
       "    <tr>\n",
       "      <th>2</th>\n",
       "      <td>28.4004</td>\n",
       "      <td>-56.8008</td>\n",
       "      <td>28.4004</td>\n",
       "      <td>-0.0</td>\n",
       "      <td>3968.310305</td>\n",
       "      <td>3947.183842</td>\n",
       "      <td>3926.057379</td>\n",
       "    </tr>\n",
       "    <tr>\n",
       "      <th>3</th>\n",
       "      <td>28.4004</td>\n",
       "      <td>-28.4004</td>\n",
       "      <td>0.0000</td>\n",
       "      <td>-600.0</td>\n",
       "      <td>3947.183842</td>\n",
       "      <td>3926.057379</td>\n",
       "      <td>0.000000</td>\n",
       "    </tr>\n",
       "  </tbody>\n",
       "</table>\n",
       "</div>"
      ],
      "text/plain": [
       "         L        C        R         B          P_L          P_C          P_R\n",
       "0   0.0000 -85.2012  28.4004  227203.2  4000.000000  3989.436768  3968.310305\n",
       "1  28.4004 -56.8008  28.4004      -0.0  3989.436768  3968.310305  3947.183842\n",
       "2  28.4004 -56.8008  28.4004      -0.0  3968.310305  3947.183842  3926.057379\n",
       "3  28.4004 -28.4004   0.0000    -600.0  3947.183842  3926.057379     0.000000"
      ]
     },
     "execution_count": 123,
     "metadata": {},
     "output_type": "execute_result"
    }
   ],
   "source": [
    "np.concatenate([\n",
    "    np.concatenate([[0], np.diag(A, -1)]).reshape(-1,1),\n",
    "    np.diag(A, 0).reshape(-1,1),\n",
    "    np.concatenate([np.diag(A, 1), [0]]).reshape(-1,1)],\n",
    "    axis=1\n",
    ")\n",
    "df = pd.DataFrame()\n",
    "df['L'] = np.concatenate([[0], np.diag(A, -1)])\n",
    "df['C'] = np.diag(A, 0)\n",
    "df['R'] = np.concatenate([np.diag(A, 1), [0]])\n",
    "df['B'] = -d\n",
    "# df['P_t0'] = model.pressures[0, 1:-1]\n",
    "# df['P_t1'] = model.pressures[1, 1:-1]\n",
    "df['P_L'] = model.pressures[1, 0:-2]\n",
    "df['P_C'] = model.pressures[1, 1:-1]\n",
    "df['P_R'] = model.pressures[1, 2:]\n",
    "df.replace(np.nan, 0, inplace=True)\n",
    "df\n"
   ]
  },
  {
   "cell_type": "code",
   "execution_count": 124,
   "metadata": {},
   "outputs": [
    {
     "data": {
      "text/plain": [
       "array([[[  0.    , -85.2012,  28.4004],\n",
       "        [ 28.4004, -56.8008,  28.4004],\n",
       "        [ 28.4004, -56.8008,  28.4004],\n",
       "        [ 28.4004, -28.4004,   0.    ]]])"
      ]
     },
     "execution_count": 124,
     "metadata": {},
     "output_type": "execute_result"
    }
   ],
   "source": [
    "df.iloc[:, 0:3].values[np.newaxis]"
   ]
  },
  {
   "cell_type": "code",
   "execution_count": 128,
   "metadata": {},
   "outputs": [
    {
     "data": {
      "text/plain": [
       "[<tf.Variable 'layer_1/kernel:0' shape=(3, 1) dtype=float32, numpy=\n",
       " array([[ 0.9246787 ],\n",
       "        [-1.0246596 ],\n",
       "        [-0.95987284]], dtype=float32)>,\n",
       " <tf.Variable 'layer_1/bias:0' shape=(1,) dtype=float32, numpy=array([0.], dtype=float32)>]"
      ]
     },
     "execution_count": 128,
     "metadata": {},
     "output_type": "execute_result"
    }
   ],
   "source": [
    "r = 0\n",
    "x0 = keras.Input(shape=(3,), name='input')\n",
    "x1 = keras.layers.Dense(1, name='layer_1')(x0)\n",
    "nn_model = keras.Model(inputs=x0, outputs=x1)\n",
    "nn_model.weights"
   ]
  },
  {
   "cell_type": "code",
   "execution_count": 129,
   "metadata": {},
   "outputs": [
    {
     "ename": "ValueError",
     "evalue": "Layer layer_1 weight shape (3, 1) is not compatible with provided weight shape (3, 2).",
     "output_type": "error",
     "traceback": [
      "\u001b[1;31m---------------------------------------------------------------------------\u001b[0m",
      "\u001b[1;31mValueError\u001b[0m                                Traceback (most recent call last)",
      "\u001b[1;32m~\\AppData\\Local\\Temp\\ipykernel_9520\\3191989003.py\u001b[0m in \u001b[0;36m<module>\u001b[1;34m\u001b[0m\n\u001b[0;32m      1\u001b[0m nn_model.get_layer('layer_1').set_weights([\n\u001b[0;32m      2\u001b[0m     \u001b[0mdf\u001b[0m\u001b[1;33m.\u001b[0m\u001b[0miloc\u001b[0m\u001b[1;33m[\u001b[0m\u001b[1;33m:\u001b[0m\u001b[1;36m2\u001b[0m\u001b[1;33m,\u001b[0m \u001b[1;33m:\u001b[0m\u001b[1;36m3\u001b[0m\u001b[1;33m]\u001b[0m\u001b[1;33m.\u001b[0m\u001b[0mvalues\u001b[0m\u001b[1;33m.\u001b[0m\u001b[0mreshape\u001b[0m\u001b[1;33m(\u001b[0m\u001b[1;36m3\u001b[0m\u001b[1;33m,\u001b[0m\u001b[1;33m-\u001b[0m\u001b[1;36m1\u001b[0m\u001b[1;33m)\u001b[0m\u001b[1;33m,\u001b[0m\u001b[1;33m\u001b[0m\u001b[1;33m\u001b[0m\u001b[0m\n\u001b[1;32m----> 3\u001b[1;33m     \u001b[0mnp\u001b[0m\u001b[1;33m.\u001b[0m\u001b[0marray\u001b[0m\u001b[1;33m(\u001b[0m\u001b[0mdf\u001b[0m\u001b[1;33m.\u001b[0m\u001b[0mloc\u001b[0m\u001b[1;33m[\u001b[0m\u001b[1;33m:\u001b[0m\u001b[1;36m2\u001b[0m\u001b[1;33m,\u001b[0m \u001b[1;34m'B'\u001b[0m\u001b[1;33m]\u001b[0m\u001b[1;33m)\u001b[0m\u001b[1;33m[\u001b[0m\u001b[0mnp\u001b[0m\u001b[1;33m.\u001b[0m\u001b[0mnewaxis\u001b[0m\u001b[1;33m]\u001b[0m\u001b[1;33m,\u001b[0m\u001b[1;33m\u001b[0m\u001b[1;33m\u001b[0m\u001b[0m\n\u001b[0m\u001b[0;32m      4\u001b[0m ])\n\u001b[0;32m      5\u001b[0m \u001b[0mnn_model\u001b[0m\u001b[1;33m.\u001b[0m\u001b[0mweights\u001b[0m\u001b[1;33m\u001b[0m\u001b[1;33m\u001b[0m\u001b[0m\n",
      "\u001b[1;32md:\\Projects\\openresim\\.venv\\lib\\site-packages\\keras\\engine\\base_layer.py\u001b[0m in \u001b[0;36mset_weights\u001b[1;34m(self, weights)\u001b[0m\n\u001b[0;32m   1771\u001b[0m                 \u001b[1;32mif\u001b[0m \u001b[1;32mnot\u001b[0m \u001b[0mref_shape\u001b[0m\u001b[1;33m.\u001b[0m\u001b[0mis_compatible_with\u001b[0m\u001b[1;33m(\u001b[0m\u001b[0mweight_shape\u001b[0m\u001b[1;33m)\u001b[0m\u001b[1;33m:\u001b[0m\u001b[1;33m\u001b[0m\u001b[1;33m\u001b[0m\u001b[0m\n\u001b[0;32m   1772\u001b[0m                     raise ValueError(\n\u001b[1;32m-> 1773\u001b[1;33m                         \u001b[1;34mf\"Layer {self.name} weight shape {ref_shape} \"\u001b[0m\u001b[1;33m\u001b[0m\u001b[1;33m\u001b[0m\u001b[0m\n\u001b[0m\u001b[0;32m   1774\u001b[0m                         \u001b[1;34m\"is not compatible with provided weight \"\u001b[0m\u001b[1;33m\u001b[0m\u001b[1;33m\u001b[0m\u001b[0m\n\u001b[0;32m   1775\u001b[0m                         \u001b[1;34mf\"shape {weight_shape}.\"\u001b[0m\u001b[1;33m\u001b[0m\u001b[1;33m\u001b[0m\u001b[0m\n",
      "\u001b[1;31mValueError\u001b[0m: Layer layer_1 weight shape (3, 1) is not compatible with provided weight shape (3, 2)."
     ]
    }
   ],
   "source": [
    "nn_model.get_layer('layer_1').set_weights([\n",
    "    df.iloc[:2, :3].values.reshape(3,-1),\n",
    "    np.array(df.loc[:2, 'B'])[np.newaxis],\n",
    "])\n",
    "nn_model.weights"
   ]
  },
  {
   "cell_type": "code",
   "execution_count": 126,
   "metadata": {},
   "outputs": [
    {
     "name": "stdout",
     "output_type": "stream",
     "text": [
      "1/1 [==============================] - 0s 110ms/step\n"
     ]
    },
    {
     "data": {
      "text/plain": [
       "array([[-0.015625]], dtype=float32)"
      ]
     },
     "execution_count": 126,
     "metadata": {},
     "output_type": "execute_result"
    }
   ],
   "source": [
    "nn_model.predict(df.loc[r, ['P_L','P_C','P_R']].values[np.newaxis])"
   ]
  },
  {
   "cell_type": "code",
   "execution_count": 77,
   "metadata": {},
   "outputs": [],
   "source": [
    "x0 = keras.Input(shape=(3,), name='input')\n",
    "x1 = keras.layers.Dense(4, name='layer_1')(x0)\n",
    "x2 = keras.layers.Dense(1, name='layer_2')(x1)\n",
    "nn_model = keras.Model(inputs=x0, outputs=x2)\n",
    "# nn_model.predict(df.iloc[:, :4].values)\n",
    "# nn_model.predict(df[['P_L','P_C','P_R']])"
   ]
  },
  {
   "cell_type": "code",
   "execution_count": 82,
   "metadata": {},
   "outputs": [
    {
     "data": {
      "text/plain": [
       "[<tf.Variable 'layer_1/kernel:0' shape=(3, 4) dtype=float32, numpy=\n",
       " array([[  0.    ,  28.4004,  28.4004,  28.4004],\n",
       "        [-85.2012, -56.8008, -56.8008, -28.4004],\n",
       "        [ 28.4004,  28.4004,  28.4004,   0.    ]], dtype=float32)>,\n",
       " <tf.Variable 'layer_1/bias:0' shape=(4,) dtype=float32, numpy=array([0., 0., 0., 0.], dtype=float32)>,\n",
       " <tf.Variable 'layer_2/kernel:0' shape=(4, 1) dtype=float32, numpy=\n",
       " array([[-1.0167873 ],\n",
       "        [ 0.7982335 ],\n",
       "        [-0.26296145],\n",
       "        [ 0.09138703]], dtype=float32)>,\n",
       " <tf.Variable 'layer_2/bias:0' shape=(1,) dtype=float32, numpy=array([0.], dtype=float32)>]"
      ]
     },
     "execution_count": 82,
     "metadata": {},
     "output_type": "execute_result"
    }
   ],
   "source": [
    "nn_model.weights"
   ]
  },
  {
   "cell_type": "code",
   "execution_count": 84,
   "metadata": {},
   "outputs": [],
   "source": [
    "nn_model.get_layer('layer_1').set_weights([\n",
    "    df.iloc[:, :3].values.transpose(),\n",
    "    df['B'].values,\n",
    "]\n",
    "    )#set_weights()"
   ]
  },
  {
   "cell_type": "code",
   "execution_count": 86,
   "metadata": {},
   "outputs": [
    {
     "name": "stdout",
     "output_type": "stream",
     "text": [
      "1/1 [==============================] - 0s 72ms/step\n"
     ]
    },
    {
     "data": {
      "text/plain": [
       "array([[ -187.98238],\n",
       "       [-1220.1295 ],\n",
       "       [-2440.2744 ],\n",
       "       [49740.383  ]], dtype=float32)"
      ]
     },
     "execution_count": 86,
     "metadata": {},
     "output_type": "execute_result"
    }
   ],
   "source": [
    "nn_model.predict(df[['P_L','P_C','P_R']])"
   ]
  },
  {
   "cell_type": "code",
   "execution_count": null,
   "metadata": {},
   "outputs": [],
   "source": [
    "x0 = keras.Input(shape=(4,3), name='input')\n",
    "x1 = keras.layers.Dense(2, name='layer_1')(x0)\n",
    "x2 = keras.layers.Dense(1, name='layer_2')(x1)\n",
    "model = keras.Model(inputs=x0, outputs=x2)\n",
    "model.predict(df.iloc[:, 0:3].values[np.newaxis])"
   ]
  },
  {
   "cell_type": "code",
   "execution_count": null,
   "metadata": {},
   "outputs": [],
   "source": [
    "model.weights"
   ]
  },
  {
   "cell_type": "code",
   "execution_count": null,
   "metadata": {},
   "outputs": [],
   "source": []
  },
  {
   "cell_type": "code",
   "execution_count": null,
   "metadata": {},
   "outputs": [],
   "source": []
  }
 ],
 "metadata": {
  "kernelspec": {
   "display_name": "Python 3.7.9 ('.venv': venv)",
   "language": "python",
   "name": "python3"
  },
  "language_info": {
   "codemirror_mode": {
    "name": "ipython",
    "version": 3
   },
   "file_extension": ".py",
   "mimetype": "text/x-python",
   "name": "python",
   "nbconvert_exporter": "python",
   "pygments_lexer": "ipython3",
   "version": "3.7.9"
  },
  "orig_nbformat": 4,
  "vscode": {
   "interpreter": {
    "hash": "bd377deb377d80092ebe0ed5856061b5e99f1c7a655e532d6b85d8e88008d671"
   }
  }
 },
 "nbformat": 4,
 "nbformat_minor": 2
}
