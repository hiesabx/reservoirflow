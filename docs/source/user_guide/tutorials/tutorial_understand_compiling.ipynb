{
 "cells": [
  {
   "cell_type": "markdown",
   "metadata": {},
   "source": [
    "# Understand Compiling\n",
    "\n",
    "[![Open in Colab](https://colab.research.google.com/assets/colab-badge.svg)](https://drive.google.com/file/d/1l5wLmnIiH1DBJqo5vjPHLa9-WPaX8ZAv/view?usp=drive_link)\n",
    "\n",
    "*Author: Zakariya Abugrin | Date: December 2023*"
   ]
  },
  {
   "cell_type": "markdown",
   "metadata": {},
   "source": [
    "## Introduction\n",
    "\n",
    "In this tutorial, we see how a model can be compiled to calculate different types of solutions such as: `analytical`, `numerical`, and `neurical` which is one of the main research topics in `reservoirflow`. \n",
    "\n",
    "```{hint}\n",
    "Compiling solutions is the most interesting idea introduced in ``reservoirflow`` which allows to solve the same model using different solutions so we can compare them with each other and/or combine them together.\n",
    "```\n",
    "\n",
    "```{image}  tutorial_understand_compiling_solutions_diagram_dark.svg\n",
    ":class: only-dark\n",
    "```\n",
    "\n",
    "```{image}  tutorial_understand_compiling_solutions_diagram_light.svg\n",
    ":class: only-light\n",
    "```\n",
    "\\\\\n",
    "\n",
    "The following points are important to understand the compiling concept in `reservoirflow`:\n",
    "1. Every model from [`models`](/api/reservoirflow.models.html) module has a [`compile()`](/api/reservoirflow.models.Model.compile.html#reservoirflow.models.Model.compile) method which can be used to select a solution.\n",
    "2. Every model come with an empty dictionary of solutions and compilers accessed by `model.solutions` and `model.compilers`.\n",
    "3. Every model must be compiled before the solution can be computed.\n",
    "4. After compiling a model, a new attribute called `model.solution` is added.\n",
    "5. Every model can be solved using different solutions where `model.set_solution()` can be used to switch to previous solutions.\n",
    "6. Solutions can be computed using `model.solution.solve()` for a single time step and `model.solution.run()` for multiple time steps. \n",
    "7. Solution functions are mapped directly to the corresponding model and can be accessed directly using `model.solve()` and `model.run()`.\n",
    "8. Specifically, `neurical` solutions (i.e. based on neural networks) have `model.solution.fit()` to train based on physics-loss and `model.solution.predict()`.\n",
    "9. Specifically, `neurical` solution functions are mapped directly to the corresponding model and can be accessed directly using `model.train()` and `model.predict()`.\n",
    "\n",
    "Now, let's see how we can apply this concept. "
   ]
  },
  {
   "cell_type": "markdown",
   "metadata": {},
   "source": [
    "## Import `reservoirflow`\n",
    "\n",
    "We start with importing `reservoirflow` as `rf`. The abbreviation `rf` refers to `reservoirflow` where all modules under this library can be accessed. `rf` is also used throughout the [API](/api/API.html) documentation. We recommend our users to stick with this convention."
   ]
  },
  {
   "cell_type": "code",
   "execution_count": 43,
   "metadata": {},
   "outputs": [
    {
     "name": "stdout",
     "output_type": "stream",
     "text": [
      "0.1.0\n"
     ]
    }
   ],
   "source": [
    "import reservoirflow as rf\n",
    "\n",
    "print(rf.__version__)"
   ]
  },
  {
   "cell_type": "code",
   "execution_count": 44,
   "metadata": {},
   "outputs": [
    {
     "data": {
      "text/plain": [
       "['Compiler',\n",
       " 'Solution',\n",
       " '__all__',\n",
       " '__builtins__',\n",
       " '__cached__',\n",
       " '__doc__',\n",
       " '__file__',\n",
       " '__loader__',\n",
       " '__name__',\n",
       " '__package__',\n",
       " '__path__',\n",
       " '__spec__',\n",
       " 'compiler',\n",
       " 'numerical',\n",
       " 'solution']"
      ]
     },
     "execution_count": 44,
     "metadata": {},
     "output_type": "execute_result"
    }
   ],
   "source": [
    "# Check what is available in solutions:\n",
    "dir(rf.solutions)"
   ]
  },
  {
   "cell_type": "markdown",
   "metadata": {},
   "source": [
    "```{warning}\n",
    "Modules under ``solutions`` are not loaded by default in `reservoirflow`. As a result, ``rf.solutions.numerical.FDM`` will fail. As can be seen below, only classes ``Compiler`` and ``Solution`` are loaded by default. \n",
    "```"
   ]
  },
  {
   "cell_type": "code",
   "execution_count": 45,
   "metadata": {},
   "outputs": [],
   "source": [
    "# rf.solutions.numerical.fdm.FDM # this will not work\n",
    "# rf.solutions.numerical.FDM # this will not work\n",
    "\n",
    "# But, we can load these modules or classes explicitly:\n",
    "# from reservoirflow.solutions import numerical\n",
    "# from reservoirflow.solutions.numerical import FDM"
   ]
  },
  {
   "cell_type": "markdown",
   "metadata": {},
   "source": [
    "```{note}\n",
    "By default, modules ``numerical``, ``analytical``, and ``neurical`` are not available under ``solutions``.\n",
    "```\n",
    "```{tip}\n",
    "Specific solutions modules such as ``rf.solutions.numerical`` will only be available once a solution for that module (e.g. ``rf.solutions.numerical.FDM``) was used to compile a model. Of course, this does not prevent loading these modules explicitly (e.g. `from reservoirflow.solutions import numerical`, or `from reservoirflow.solutions.numerical import FDM`).\n",
    "```"
   ]
  },
  {
   "cell_type": "markdown",
   "metadata": {},
   "source": [
    "## Build a model\n",
    "\n",
    "A reservoir simulation model requires two objects: `Grid` and `Fluid`. The function below `create_model()` starts by creating these objects which are used to initiate a `Model` object using [`BlackOil`](/api/reservoirflow.models.BlackOil.html) class. "
   ]
  },
  {
   "cell_type": "code",
   "execution_count": 46,
   "metadata": {},
   "outputs": [],
   "source": [
    "def create_model():\n",
    "    # Grid:\n",
    "    grid = rf.grids.RegularCartesian(\n",
    "        nx=4,\n",
    "        ny=1,\n",
    "        nz=1,\n",
    "        dx=300,\n",
    "        dy=350,\n",
    "        dz=40,\n",
    "        phi=0.27,\n",
    "        kx=270,\n",
    "        dtype=\"double\",\n",
    "    )\n",
    "\n",
    "    # Fluid:\n",
    "    fluid = rf.fluids.SinglePhase(mu=0.5, B=1, dtype=\"double\")\n",
    "\n",
    "    # Model:\n",
    "    model = rf.models.BlackOil(\n",
    "        grid,\n",
    "        fluid,\n",
    "        pi=4000,\n",
    "        dt=1,\n",
    "        start_date=\"10.10.2018\",\n",
    "        verbose=False,\n",
    "        dtype=\"double\",\n",
    "    )\n",
    "\n",
    "    # Production well:\n",
    "    model.set_well(cell_id=4, q=-600, s=1.5, r=3.5)\n",
    "\n",
    "    # Boundaries:\n",
    "    model.set_boundaries({0: (\"pressure\", 4000), 5: (\"rate\", 0)})\n",
    "\n",
    "    return model\n",
    "\n",
    "\n",
    "model = create_model()"
   ]
  },
  {
   "cell_type": "markdown",
   "metadata": {},
   "source": [
    "## Simulation Run\n",
    "\n",
    "To perform the simulation run, method [model.run()](/api/reservoirflow.models.BlackOil.run.html#reservoirflow.models.BlackOil.run) can be used. The code below performs a simulation run for `nsteps=10` (i.e. number of steps) and using `isolver=cgs`: "
   ]
  },
  {
   "cell_type": "code",
   "execution_count": 47,
   "metadata": {},
   "outputs": [
    {
     "data": {
      "text/plain": [
       "{}"
      ]
     },
     "execution_count": 47,
     "metadata": {},
     "output_type": "execute_result"
    }
   ],
   "source": [
    "model.solutions"
   ]
  },
  {
   "cell_type": "code",
   "execution_count": 48,
   "metadata": {},
   "outputs": [
    {
     "name": "stdout",
     "output_type": "stream",
     "text": [
      "The model is not compiled. Use model.compile() to add solve() and run() methods.\n"
     ]
    }
   ],
   "source": [
    "model.solve()  # same as: model.run()"
   ]
  },
  {
   "cell_type": "code",
   "execution_count": 49,
   "metadata": {},
   "outputs": [
    {
     "name": "stdout",
     "output_type": "stream",
     "text": [
      "Help on method solve in module reservoirflow.models.model:\n",
      "\n",
      "solve(**kwargs) method of reservoirflow.models.black_oil.BlackOil instance\n",
      "    Solve a single timestep.\n",
      "    \n",
      "    .. attention::\n",
      "        This method is not available until the model is compiled\n",
      "        using ``model.compile()``.\n",
      "    \n",
      "    Once the model is compiled, the documentation of the assigned\n",
      "    solution can be accessed using one of the following methods:\n",
      "    \n",
      "    >>> help(model.solve) # or help(model.solution.solve)\n",
      "    >>> print(model.solve.__doc__) # or print(model.solution.solve.__doc__)\n",
      "\n"
     ]
    }
   ],
   "source": [
    "help(model.solve)  # same as: help(model.run)"
   ]
  },
  {
   "cell_type": "code",
   "execution_count": 50,
   "metadata": {},
   "outputs": [
    {
     "name": "stdout",
     "output_type": "stream",
     "text": [
      "[info] FDM was assigned as model.solution.\n"
     ]
    }
   ],
   "source": [
    "model.compile(stype=\"numerical\", method=\"FDM\", sparse=False)\n",
    "# model.compile(stype=\"analytical\", method=\"1D1P\", sparse=False)"
   ]
  },
  {
   "cell_type": "code",
   "execution_count": 51,
   "metadata": {},
   "outputs": [
    {
     "data": {
      "text/plain": [
       "Compiler(model='BlackOil', stype='numerical', method='FDM', sparse=False)"
      ]
     },
     "execution_count": 51,
     "metadata": {},
     "output_type": "execute_result"
    }
   ],
   "source": [
    "model.compiler"
   ]
  },
  {
   "cell_type": "code",
   "execution_count": 52,
   "metadata": {},
   "outputs": [
    {
     "name": "stdout",
     "output_type": "stream",
     "text": [
      "Perform a simulation run for nsteps.\n",
      "\n",
      "        Parameters\n",
      "        ----------\n",
      "        nsteps : int, optional\n",
      "            _description_\n",
      "        threading : bool, optional\n",
      "            _description_\n",
      "        check_MB : bool, optional\n",
      "            _description_\n",
      "        isolver : str, optional\n",
      "            iterative solver for sparse matrices. Available solvers are\n",
      "            [\"bicg\", \"bicgstab\", \"cg\", \"cgs\", \"gmres\", \"lgmres\",\n",
      "            \"minres\", \"qmr\", \"gcrotmk\", \"tfqmr\"].\n",
      "            If None, direct solver is used. Only relevant when argument\n",
      "            sparse=True. Direct solver is recommended for more accurate\n",
      "            calculations. To improve performance, \"cgs\" is recommended\n",
      "            to increase performance while option \"minres\" is not recommended due to\n",
      "            high MB error. For more information check [1][2].\n",
      "\n",
      "        References\n",
      "        ----------\n",
      "        - SciPy: `Solving Linear Problems <https://docs.scipy.org/doc/scipy/reference/sparse.linalg.html#solving-linear-problems>`_.\n",
      "        - SciPy: `Iterative Solvers <https://scipy-lectures.org/advanced/scipy_sparse/solvers.html#iterative-solvers>`_.\n",
      "        \n"
     ]
    }
   ],
   "source": [
    "print(model.run.__doc__)"
   ]
  },
  {
   "cell_type": "code",
   "execution_count": 53,
   "metadata": {},
   "outputs": [
    {
     "name": "stdout",
     "output_type": "stream",
     "text": [
      "Help on method run in module reservoirflow.solutions.numerical.fdm:\n",
      "\n",
      "run(nsteps=10, threading=True, vectorize=True, check_MB=True, print_arrays=False, isolver=None) method of reservoirflow.solutions.numerical.fdm.FDM instance\n",
      "    Perform a simulation run for nsteps.\n",
      "    \n",
      "    Parameters\n",
      "    ----------\n",
      "    nsteps : int, optional\n",
      "        _description_\n",
      "    threading : bool, optional\n",
      "        _description_\n",
      "    check_MB : bool, optional\n",
      "        _description_\n",
      "    isolver : str, optional\n",
      "        iterative solver for sparse matrices. Available solvers are\n",
      "        [\"bicg\", \"bicgstab\", \"cg\", \"cgs\", \"gmres\", \"lgmres\",\n",
      "        \"minres\", \"qmr\", \"gcrotmk\", \"tfqmr\"].\n",
      "        If None, direct solver is used. Only relevant when argument\n",
      "        sparse=True. Direct solver is recommended for more accurate\n",
      "        calculations. To improve performance, \"cgs\" is recommended\n",
      "        to increase performance while option \"minres\" is not recommended due to\n",
      "        high MB error. For more information check [1][2].\n",
      "    \n",
      "    References\n",
      "    ----------\n",
      "    - SciPy: `Solving Linear Problems <https://docs.scipy.org/doc/scipy/reference/sparse.linalg.html#solving-linear-problems>`_.\n",
      "    - SciPy: `Iterative Solvers <https://scipy-lectures.org/advanced/scipy_sparse/solvers.html#iterative-solvers>`_.\n",
      "\n"
     ]
    }
   ],
   "source": [
    "help(model.run)"
   ]
  },
  {
   "cell_type": "code",
   "execution_count": 54,
   "metadata": {},
   "outputs": [
    {
     "name": "stdout",
     "output_type": "stream",
     "text": [
      "Perform a simulation run for nsteps.\n",
      "\n",
      "        Parameters\n",
      "        ----------\n",
      "        nsteps : int, optional\n",
      "            _description_\n",
      "        threading : bool, optional\n",
      "            _description_\n",
      "        check_MB : bool, optional\n",
      "            _description_\n",
      "        isolver : str, optional\n",
      "            iterative solver for sparse matrices. Available solvers are\n",
      "            [\"bicg\", \"bicgstab\", \"cg\", \"cgs\", \"gmres\", \"lgmres\",\n",
      "            \"minres\", \"qmr\", \"gcrotmk\", \"tfqmr\"].\n",
      "            If None, direct solver is used. Only relevant when argument\n",
      "            sparse=True. Direct solver is recommended for more accurate\n",
      "            calculations. To improve performance, \"cgs\" is recommended\n",
      "            to increase performance while option \"minres\" is not recommended due to\n",
      "            high MB error. For more information check [1][2].\n",
      "\n",
      "        References\n",
      "        ----------\n",
      "        - SciPy: `Solving Linear Problems <https://docs.scipy.org/doc/scipy/reference/sparse.linalg.html#solving-linear-problems>`_.\n",
      "        - SciPy: `Iterative Solvers <https://scipy-lectures.org/advanced/scipy_sparse/solvers.html#iterative-solvers>`_.\n",
      "        \n"
     ]
    }
   ],
   "source": [
    "# print(rf.solutions.numerical.fdm.FDM.run.__doc__)\n",
    "# print(rf.solutions.numerical.FDM.run.__doc__)\n",
    "# print(model.solution.run.__doc__)\n",
    "print(model.run.__doc__)"
   ]
  },
  {
   "cell_type": "code",
   "execution_count": 55,
   "metadata": {},
   "outputs": [
    {
     "data": {
      "text/plain": [
       "['Compiler',\n",
       " 'Solution',\n",
       " '__all__',\n",
       " '__builtins__',\n",
       " '__cached__',\n",
       " '__doc__',\n",
       " '__file__',\n",
       " '__loader__',\n",
       " '__name__',\n",
       " '__package__',\n",
       " '__path__',\n",
       " '__spec__',\n",
       " 'compiler',\n",
       " 'numerical',\n",
       " 'solution']"
      ]
     },
     "execution_count": 55,
     "metadata": {},
     "output_type": "execute_result"
    }
   ],
   "source": [
    "dir(rf.solutions)"
   ]
  },
  {
   "cell_type": "code",
   "execution_count": 56,
   "metadata": {},
   "outputs": [
    {
     "data": {
      "text/plain": [
       "['FDM',\n",
       " 'FEM',\n",
       " 'FVM',\n",
       " '__all__',\n",
       " '__builtins__',\n",
       " '__cached__',\n",
       " '__doc__',\n",
       " '__file__',\n",
       " '__loader__',\n",
       " '__name__',\n",
       " '__package__',\n",
       " '__path__',\n",
       " '__spec__',\n",
       " 'fdm',\n",
       " 'fem',\n",
       " 'fvm',\n",
       " 'solvers']"
      ]
     },
     "execution_count": 56,
     "metadata": {},
     "output_type": "execute_result"
    }
   ],
   "source": [
    "dir(rf.solutions.numerical)"
   ]
  },
  {
   "cell_type": "code",
   "execution_count": 57,
   "metadata": {},
   "outputs": [
    {
     "name": "stdout",
     "output_type": "stream",
     "text": [
      " stype: numerical \n",
      " method: FDM \n",
      " solution: <reservoirflow.solutions.numerical.fdm.FDM object at 0x00000282D7A4BA90> BlackOil \n",
      " {'FDM': <reservoirflow.solutions.numerical.fdm.FDM object at 0x00000282D7A4BA90>}\n"
     ]
    }
   ],
   "source": [
    "print(\n",
    "    \" stype:\",\n",
    "    model.compiler.stype,\n",
    "    \"\\n\",\n",
    "    \"method:\",\n",
    "    model.compiler.method,\n",
    "    # \"\\n\",\n",
    "    # \"mode:\",\n",
    "    # model.compiler.mode,\n",
    "    # \"\\n\",\n",
    "    # \"solver:\",\n",
    "    # model.compiler.solver,\n",
    "    \"\\n\",\n",
    "    \"solution:\",\n",
    "    # model.compiler.solution,\n",
    "    model.compiler.model.solution,\n",
    "    model.compiler.model.name,\n",
    "    \"\\n\",\n",
    "    model.solutions,\n",
    ")"
   ]
  },
  {
   "cell_type": "code",
   "execution_count": 58,
   "metadata": {},
   "outputs": [
    {
     "name": "stdout",
     "output_type": "stream",
     "text": [
      "[info] Simulation run started: 10 timesteps.\n"
     ]
    },
    {
     "name": "stderr",
     "output_type": "stream",
     "text": [
      "[step] 10: 100%|\u001b[32m██████████\u001b[0m| 10/10 [00:00<00:00, 832.95steps/s]"
     ]
    },
    {
     "name": "stdout",
     "output_type": "stream",
     "text": [
      "[info] Simulation run of 10 steps finished in 0.02 seconds.\n",
      "[info] Material Balance Error: 1.693933882052079e-11.\n"
     ]
    },
    {
     "name": "stderr",
     "output_type": "stream",
     "text": [
      "\n"
     ]
    }
   ],
   "source": [
    "model.run(\n",
    "    nsteps=10,\n",
    "    vectorize=True,\n",
    "    threading=True,\n",
    "    isolver=\"cgs\",\n",
    ")"
   ]
  },
  {
   "cell_type": "code",
   "execution_count": 59,
   "metadata": {},
   "outputs": [
    {
     "data": {
      "text/html": [
       "<div>\n",
       "<style scoped>\n",
       "    .dataframe tbody tr th:only-of-type {\n",
       "        vertical-align: middle;\n",
       "    }\n",
       "\n",
       "    .dataframe tbody tr th {\n",
       "        vertical-align: top;\n",
       "    }\n",
       "\n",
       "    .dataframe thead th {\n",
       "        text-align: right;\n",
       "    }\n",
       "</style>\n",
       "<table border=\"1\" class=\"dataframe\">\n",
       "  <thead>\n",
       "    <tr style=\"text-align: right;\">\n",
       "      <th></th>\n",
       "      <th>Time</th>\n",
       "      <th>Q0</th>\n",
       "      <th>Q4</th>\n",
       "      <th>P0</th>\n",
       "      <th>P1</th>\n",
       "      <th>P2</th>\n",
       "      <th>P3</th>\n",
       "      <th>P4</th>\n",
       "      <th>Qw4</th>\n",
       "      <th>Pwf4</th>\n",
       "    </tr>\n",
       "    <tr>\n",
       "      <th>Step</th>\n",
       "      <th></th>\n",
       "      <th></th>\n",
       "      <th></th>\n",
       "      <th></th>\n",
       "      <th></th>\n",
       "      <th></th>\n",
       "      <th></th>\n",
       "      <th></th>\n",
       "      <th></th>\n",
       "      <th></th>\n",
       "    </tr>\n",
       "  </thead>\n",
       "  <tbody>\n",
       "    <tr>\n",
       "      <th>0</th>\n",
       "      <td>0</td>\n",
       "      <td>0.0</td>\n",
       "      <td>0.0</td>\n",
       "      <td>4000.0</td>\n",
       "      <td>4000.000000</td>\n",
       "      <td>4000.000000</td>\n",
       "      <td>4000.000000</td>\n",
       "      <td>4000.000000</td>\n",
       "      <td>0.0</td>\n",
       "      <td>4000.000000</td>\n",
       "    </tr>\n",
       "    <tr>\n",
       "      <th>1</th>\n",
       "      <td>1</td>\n",
       "      <td>600.0</td>\n",
       "      <td>-600.0</td>\n",
       "      <td>4000.0</td>\n",
       "      <td>3989.436768</td>\n",
       "      <td>3968.310305</td>\n",
       "      <td>3947.183842</td>\n",
       "      <td>3926.057379</td>\n",
       "      <td>-600.0</td>\n",
       "      <td>3898.992647</td>\n",
       "    </tr>\n",
       "    <tr>\n",
       "      <th>2</th>\n",
       "      <td>2</td>\n",
       "      <td>600.0</td>\n",
       "      <td>-600.0</td>\n",
       "      <td>4000.0</td>\n",
       "      <td>3989.436768</td>\n",
       "      <td>3968.310305</td>\n",
       "      <td>3947.183842</td>\n",
       "      <td>3926.057379</td>\n",
       "      <td>-600.0</td>\n",
       "      <td>3898.992647</td>\n",
       "    </tr>\n",
       "    <tr>\n",
       "      <th>3</th>\n",
       "      <td>3</td>\n",
       "      <td>600.0</td>\n",
       "      <td>-600.0</td>\n",
       "      <td>4000.0</td>\n",
       "      <td>3989.436768</td>\n",
       "      <td>3968.310305</td>\n",
       "      <td>3947.183842</td>\n",
       "      <td>3926.057379</td>\n",
       "      <td>-600.0</td>\n",
       "      <td>3898.992647</td>\n",
       "    </tr>\n",
       "    <tr>\n",
       "      <th>4</th>\n",
       "      <td>4</td>\n",
       "      <td>600.0</td>\n",
       "      <td>-600.0</td>\n",
       "      <td>4000.0</td>\n",
       "      <td>3989.436768</td>\n",
       "      <td>3968.310305</td>\n",
       "      <td>3947.183842</td>\n",
       "      <td>3926.057379</td>\n",
       "      <td>-600.0</td>\n",
       "      <td>3898.992647</td>\n",
       "    </tr>\n",
       "    <tr>\n",
       "      <th>5</th>\n",
       "      <td>5</td>\n",
       "      <td>600.0</td>\n",
       "      <td>-600.0</td>\n",
       "      <td>4000.0</td>\n",
       "      <td>3989.436768</td>\n",
       "      <td>3968.310305</td>\n",
       "      <td>3947.183842</td>\n",
       "      <td>3926.057379</td>\n",
       "      <td>-600.0</td>\n",
       "      <td>3898.992647</td>\n",
       "    </tr>\n",
       "    <tr>\n",
       "      <th>6</th>\n",
       "      <td>6</td>\n",
       "      <td>600.0</td>\n",
       "      <td>-600.0</td>\n",
       "      <td>4000.0</td>\n",
       "      <td>3989.436768</td>\n",
       "      <td>3968.310305</td>\n",
       "      <td>3947.183842</td>\n",
       "      <td>3926.057379</td>\n",
       "      <td>-600.0</td>\n",
       "      <td>3898.992647</td>\n",
       "    </tr>\n",
       "    <tr>\n",
       "      <th>7</th>\n",
       "      <td>7</td>\n",
       "      <td>600.0</td>\n",
       "      <td>-600.0</td>\n",
       "      <td>4000.0</td>\n",
       "      <td>3989.436768</td>\n",
       "      <td>3968.310305</td>\n",
       "      <td>3947.183842</td>\n",
       "      <td>3926.057379</td>\n",
       "      <td>-600.0</td>\n",
       "      <td>3898.992647</td>\n",
       "    </tr>\n",
       "    <tr>\n",
       "      <th>8</th>\n",
       "      <td>8</td>\n",
       "      <td>600.0</td>\n",
       "      <td>-600.0</td>\n",
       "      <td>4000.0</td>\n",
       "      <td>3989.436768</td>\n",
       "      <td>3968.310305</td>\n",
       "      <td>3947.183842</td>\n",
       "      <td>3926.057379</td>\n",
       "      <td>-600.0</td>\n",
       "      <td>3898.992647</td>\n",
       "    </tr>\n",
       "    <tr>\n",
       "      <th>9</th>\n",
       "      <td>9</td>\n",
       "      <td>600.0</td>\n",
       "      <td>-600.0</td>\n",
       "      <td>4000.0</td>\n",
       "      <td>3989.436768</td>\n",
       "      <td>3968.310305</td>\n",
       "      <td>3947.183842</td>\n",
       "      <td>3926.057379</td>\n",
       "      <td>-600.0</td>\n",
       "      <td>3898.992647</td>\n",
       "    </tr>\n",
       "    <tr>\n",
       "      <th>10</th>\n",
       "      <td>10</td>\n",
       "      <td>600.0</td>\n",
       "      <td>-600.0</td>\n",
       "      <td>4000.0</td>\n",
       "      <td>3989.436768</td>\n",
       "      <td>3968.310305</td>\n",
       "      <td>3947.183842</td>\n",
       "      <td>3926.057379</td>\n",
       "      <td>-600.0</td>\n",
       "      <td>3898.992647</td>\n",
       "    </tr>\n",
       "  </tbody>\n",
       "</table>\n",
       "</div>"
      ],
      "text/plain": [
       "      Time     Q0     Q4      P0           P1           P2           P3  \\\n",
       "Step                                                                      \n",
       "0        0    0.0    0.0  4000.0  4000.000000  4000.000000  4000.000000   \n",
       "1        1  600.0 -600.0  4000.0  3989.436768  3968.310305  3947.183842   \n",
       "2        2  600.0 -600.0  4000.0  3989.436768  3968.310305  3947.183842   \n",
       "3        3  600.0 -600.0  4000.0  3989.436768  3968.310305  3947.183842   \n",
       "4        4  600.0 -600.0  4000.0  3989.436768  3968.310305  3947.183842   \n",
       "5        5  600.0 -600.0  4000.0  3989.436768  3968.310305  3947.183842   \n",
       "6        6  600.0 -600.0  4000.0  3989.436768  3968.310305  3947.183842   \n",
       "7        7  600.0 -600.0  4000.0  3989.436768  3968.310305  3947.183842   \n",
       "8        8  600.0 -600.0  4000.0  3989.436768  3968.310305  3947.183842   \n",
       "9        9  600.0 -600.0  4000.0  3989.436768  3968.310305  3947.183842   \n",
       "10      10  600.0 -600.0  4000.0  3989.436768  3968.310305  3947.183842   \n",
       "\n",
       "               P4    Qw4         Pwf4  \n",
       "Step                                   \n",
       "0     4000.000000    0.0  4000.000000  \n",
       "1     3926.057379 -600.0  3898.992647  \n",
       "2     3926.057379 -600.0  3898.992647  \n",
       "3     3926.057379 -600.0  3898.992647  \n",
       "4     3926.057379 -600.0  3898.992647  \n",
       "5     3926.057379 -600.0  3898.992647  \n",
       "6     3926.057379 -600.0  3898.992647  \n",
       "7     3926.057379 -600.0  3898.992647  \n",
       "8     3926.057379 -600.0  3898.992647  \n",
       "9     3926.057379 -600.0  3898.992647  \n",
       "10    3926.057379 -600.0  3898.992647  "
      ]
     },
     "execution_count": 59,
     "metadata": {},
     "output_type": "execute_result"
    }
   ],
   "source": [
    "model.get_df()"
   ]
  },
  {
   "cell_type": "code",
   "execution_count": 60,
   "metadata": {},
   "outputs": [
    {
     "data": {
      "text/plain": [
       "{1: (defaultdict(int, {p1: 85.2012000000000, p2: -28.4004000000000}),\n",
       "  227203.200000000),\n",
       " 2: (defaultdict(int,\n",
       "              {p1: 28.4004000000000,\n",
       "               p3: 28.4004000000000,\n",
       "               p2: -56.8008000000000}),\n",
       "  0.0),\n",
       " 3: (defaultdict(int,\n",
       "              {p2: 28.4004000000000,\n",
       "               p4: 28.4004000000000,\n",
       "               p3: -56.8008000000000}),\n",
       "  0.0),\n",
       " 4: (defaultdict(int, {p3: 28.4004000000000, p4: -28.4004000000000}),\n",
       "  600.000000000000)}"
      ]
     },
     "execution_count": 60,
     "metadata": {},
     "output_type": "execute_result"
    }
   ],
   "source": [
    "model.solution.get_cells_eq()"
   ]
  },
  {
   "cell_type": "code",
   "execution_count": 61,
   "metadata": {},
   "outputs": [
    {
     "data": {
      "text/plain": [
       "(array([[ 85.2012, -28.4004,   0.    ,   0.    ],\n",
       "        [ 28.4004, -56.8008,  28.4004,   0.    ],\n",
       "        [  0.    ,  28.4004, -56.8008,  28.4004],\n",
       "        [  0.    ,   0.    ,  28.4004, -28.4004]]),\n",
       " array([[227203.2],\n",
       "        [     0. ],\n",
       "        [     0. ],\n",
       "        [   600. ]]))"
      ]
     },
     "execution_count": 61,
     "metadata": {},
     "output_type": "execute_result"
    }
   ],
   "source": [
    "model.solution.get_matrices_symb(True)"
   ]
  },
  {
   "cell_type": "code",
   "execution_count": 62,
   "metadata": {},
   "outputs": [
    {
     "data": {
      "text/plain": [
       "(array([[-85.2012,  28.4004,   0.    ,   0.    ],\n",
       "        [ 28.4004, -56.8008,  28.4004,   0.    ],\n",
       "        [  0.    ,  28.4004, -56.8008,  28.4004],\n",
       "        [  0.    ,   0.    ,  28.4004, -28.4004]]),\n",
       " array([[-227203.2],\n",
       "        [      0. ],\n",
       "        [      0. ],\n",
       "        [    600. ]]))"
      ]
     },
     "execution_count": 62,
     "metadata": {},
     "output_type": "execute_result"
    }
   ],
   "source": [
    "model.solution.get_matrices_vect(True)"
   ]
  },
  {
   "cell_type": "code",
   "execution_count": 63,
   "metadata": {},
   "outputs": [
    {
     "name": "stdout",
     "output_type": "stream",
     "text": [
      "step: 10\n",
      "[[ 85.2012 -28.4004   0.       0.    ]\n",
      " [ 28.4004 -56.8008  28.4004   0.    ]\n",
      " [  0.      28.4004 -56.8008  28.4004]\n",
      " [  0.       0.      28.4004 -28.4004]\n",
      " [-85.2012  28.4004   0.       0.    ]\n",
      " [ 28.4004 -56.8008  28.4004   0.    ]\n",
      " [  0.      28.4004 -56.8008  28.4004]\n",
      " [  0.       0.      28.4004 -28.4004]\n",
      " [  0.       0.       0.       0.    ]\n",
      " [  0.       0.       0.       0.    ]\n",
      " [  0.       0.       0.       0.    ]\n",
      " [  0.       0.       0.       0.    ]]\n",
      "[[ 227203.2 -227203.2       0. ]\n",
      " [      0.        0.        0. ]\n",
      " [      0.        0.        0. ]\n",
      " [    600.      600.        0. ]]\n",
      "\n"
     ]
    }
   ],
   "source": [
    "model.solve(print_arrays=True)"
   ]
  },
  {
   "cell_type": "code",
   "execution_count": null,
   "metadata": {},
   "outputs": [],
   "source": []
  },
  {
   "cell_type": "code",
   "execution_count": null,
   "metadata": {},
   "outputs": [],
   "source": []
  },
  {
   "cell_type": "markdown",
   "metadata": {},
   "source": [
    "```{include} /_static/comments_section.md\n",
    "```"
   ]
  }
 ],
 "metadata": {
  "kernelspec": {
   "display_name": ".venv",
   "language": "python",
   "name": "python3"
  },
  "language_info": {
   "codemirror_mode": {
    "name": "ipython",
    "version": 3
   },
   "file_extension": ".py",
   "mimetype": "text/x-python",
   "name": "python",
   "nbconvert_exporter": "python",
   "pygments_lexer": "ipython3",
   "version": "3.11.9"
  }
 },
 "nbformat": 4,
 "nbformat_minor": 2
}
