{
    "cells": [
        {
            "cell_type": "markdown",
            "metadata": {},
            "source": [
                "# Different Solutions for 1-Dimensional-1-Phase Problem\n",
                "\n",
                "[![Open in Colab](https://colab.research.google.com/assets/colab-badge.svg)](https://drive.google.com/file/d/1-5ztISn_pEuNjBWLEckyimFk1pDJf9wc/view?usp=drive_link&target=_blank)\n",
                "\n",
                "*Author: Zakariya Abugrin | Date: May 2025*"
            ]
        },
        {
            "cell_type": "code",
            "execution_count": 1,
            "metadata": {
                "tags": [
                    "remove-input"
                ]
            },
            "outputs": [],
            "source": [
                "# Colab only:\n",
                "try:\n",
                "    # Install reservoirflow in Colab\n",
                "    import os\n",
                "    import google.colab\n",
                "    !pip install reservoirflow\n",
                "    # Restart session after installation\n",
                "    os.kill(os.getpid(), 9)\n",
                "    print(\"Session was restarted.\")\n",
                "    print(\"Now you can run to the following cells.\")\n",
                "except ImportError:\n",
                "    pass"
            ]
        },
        {
            "cell_type": "markdown",
            "metadata": {},
            "source": [
                "## Introduction\n",
                "\n",
                "The solution for a simple 1-dimensional-1-phase (1D1P) problem is available in all solutions which includes: `analytical`, `numerical`, `neurical`. In tutorial, we will see how we can build all solutions and compare them together. \n",
                "\n",
                "## Prerequisites:\n",
                "Before you can follow this tutorial, you need to understand the following tutorials:\n",
                "1. [Understand scalers Module](/user_guide/tutorials/tutorial_understand_scalers_module.html).\n",
                "2. [Understand Compiling](/user_guide/tutorials/tutorial_understand_compiling.html)."
            ]
        },
        {
            "cell_type": "markdown",
            "metadata": {},
            "source": [
                "## Import `reservoirflow`\n",
                "\n",
                "We start with importing `reservoirflow` as `rf`. The abbreviation `rf` refers to `reservoirflow` where all modules under this library can be accessed. `rf` is also used throughout the [API](/api/API.html) documentation. We recommend our users to stick with this convention."
            ]
        },
        {
            "cell_type": "code",
            "execution_count": 2,
            "metadata": {},
            "outputs": [
                {
                    "name": "stdout",
                    "output_type": "stream",
                    "text": [
                        "0.1.0b3\n"
                    ]
                }
            ],
            "source": [
                "import reservoirflow as rf\n",
                "import numpy as np\n",
                "\n",
                "print(rf.__version__)"
            ]
        },
        {
            "cell_type": "markdown",
            "metadata": {},
            "source": [
                "## Build a model\n",
                "\n",
                "A reservoir simulation model requires two objects: `Grid` and `Fluid`. The function below `create_model()` starts by creating these objects which are used to initiate a `Model` object using [`BlackOil`](/api/reservoirflow.models.BlackOil.html) class. "
            ]
        },
        {
            "cell_type": "code",
            "execution_count": 3,
            "metadata": {},
            "outputs": [],
            "source": [
                "def create_model(nx=101, n_w=2, comp=False):\n",
                "    # Compressibility:\n",
                "    if comp:\n",
                "        g_comp = 1 * 10**-6\n",
                "        f_comp = 1 * 10**-5\n",
                "    else:\n",
                "        g_comp = None\n",
                "        f_comp = None\n",
                "    # Grid:\n",
                "    grid = rf.grids.RegularCartesian(\n",
                "        nx=nx,\n",
                "        ny=1,\n",
                "        nz=1,\n",
                "        dx=300,\n",
                "        dy=350,\n",
                "        dz=40,\n",
                "        phi=0.27,\n",
                "        kx=270,\n",
                "        comp=g_comp,\n",
                "        dtype=\"double\",\n",
                "    )\n",
                "    # Fluid:\n",
                "    fluid = rf.fluids.SinglePhase(\n",
                "        mu=0.5,\n",
                "        B=1,\n",
                "        comp=f_comp,\n",
                "        dtype=\"double\",\n",
                "    )\n",
                "    # Model:\n",
                "    model = rf.models.BlackOil(\n",
                "        grid, fluid, pi=4000, dtype=\"double\", dt=1, verbose=False\n",
                "    )\n",
                "    # Wells:\n",
                "    if n_w > 0:\n",
                "        well_ids = np.cumsum([nx // (n_w + 1) for i in range(n_w)])\n",
                "        print(\"Wells_ids:\", well_ids)\n",
                "        for well_id in well_ids:\n",
                "            # model.set_well(id=well_id, q=-600, s=1.5, r=3.5)\n",
                "            model.set_well(id=well_id, pwf=1000, s=1.5, r=3.5)\n",
                "        # Boundaries:\n",
                "        model.set_boundaries({\n",
                "            0: (\"pressure\", 4000),  # left boundary\n",
                "            nx + 1: (\"pressure\", 4000), # right boundary\n",
                "            })\n",
                "    else:\n",
                "        # Boundaries:\n",
                "        model.set_boundaries({\n",
                "            0: (\"pressure\", 4000), # left boundary\n",
                "            nx + 1: (\"pressure\", 1000), # right boundary\n",
                "            })\n",
                "\n",
                "    return model"
            ]
        },
        {
            "cell_type": "markdown",
            "metadata": {},
            "source": [
                "Lets create the model:"
            ]
        },
        {
            "cell_type": "code",
            "execution_count": 4,
            "metadata": {},
            "outputs": [
                {
                    "name": "stdout",
                    "output_type": "stream",
                    "text": [
                        "Current solutions: {}\n"
                    ]
                }
            ],
            "source": [
                "model = create_model(n_w=0, comp=True)\n",
                "print(\"Current solutions:\", model.solutions)"
            ]
        },
        {
            "cell_type": "markdown",
            "metadata": {},
            "source": [
                "```{note}\n",
                "When a model is created, compiled solutions are made available under the dictionary ``model.solutions`` after executed (i.e. ``model.run()``). The model always switches to the latest compiled solution. To change to previous solutions, ``model.set_solution()`` can be used with the solution names same as shown in the dictionary ``model.solutions``.\n",
                "```"
            ]
        },
        {
            "cell_type": "markdown",
            "metadata": {},
            "source": [
                "## Define Scalers\n",
                "\n",
                "Scaling is an important feature in `reservoirflow` and has many applications. Most important: to allow bringing different solutions to the same domains.\n",
                "\n",
                "Before we compile the model to different solutions, we can show and setup the scaling for different features as shown in [Understand scalers Module](/user_guide/tutorials/tutorial_understand_scalers_module.html). Scalers are defined by default and can be accessed using `model.scalers_dict` as following: "
            ]
        },
        {
            "cell_type": "code",
            "execution_count": 5,
            "metadata": {},
            "outputs": [
                {
                    "data": {
                        "text/plain": [
                            "{'time': ['MinMax', (0, 1)],\n",
                            " 'space': ['MinMax', (-1, 1)],\n",
                            " 'pressure': ['MinMax', (-1, 1)],\n",
                            " 'rate': [None, None]}"
                        ]
                    },
                    "execution_count": 5,
                    "metadata": {},
                    "output_type": "execute_result"
                }
            ],
            "source": [
                "model.scalers_dict  # model.get_scalers()"
            ]
        },
        {
            "cell_type": "markdown",
            "metadata": {},
            "source": [
                "We can use `model.set_scalers()` to change the scaling for one or several variables as following:"
            ]
        },
        {
            "cell_type": "code",
            "execution_count": 6,
            "metadata": {},
            "outputs": [
                {
                    "data": {
                        "text/plain": [
                            "{'time': ['MinMax', (0, 1000)],\n",
                            " 'space': ['MinMax', (-1, 1)],\n",
                            " 'pressure': ['MinMax', (-1, 1)],\n",
                            " 'rate': [None, None]}"
                        ]
                    },
                    "execution_count": 6,
                    "metadata": {},
                    "output_type": "execute_result"
                }
            ],
            "source": [
                "model.set_scalers({\"time\":(\"MinMax\", (0,1000))})\n",
                "model.scalers_dict"
            ]
        },
        {
            "cell_type": "markdown",
            "metadata": {},
            "source": [
                "```{note}\n",
                "To exclude variables from scaling, `None` value is used which is the case for `rate` in the example above. \n",
                "```"
            ]
        },
        {
            "cell_type": "markdown",
            "metadata": {},
            "source": [
                "## Compile the model\n",
                "\n",
                "Before you can run the model, you need to compile a solution for it. By compiling a solution, you actually decide the solution you want to use for your model. Interestingly, `reservoirflow` provides multiple solutions for the same model based on your configuration, see [Understand Compiling](/user_guide/tutorials/tutorial_understand_compiling.html).\n",
                "\n",
                "After the model is compiled, method `model.run()` will be available. Solutions might have different configurations available under this method. However, we can define common configuration for all solutions as a dictionary:\n"
            ]
        },
        {
            "cell_type": "code",
            "execution_count": null,
            "metadata": {},
            "outputs": [],
            "source": [
                "common_run_config = dict(\n",
                "    nsteps=100,\n",
                "    vectorize=True,\n",
                ")"
            ]
        },
        {
            "cell_type": "markdown",
            "metadata": {},
            "source": [
                "```{tip}\n",
                "In common run configuration, you would include parameters that are shared by all models such as `nsteps`.\n",
                "```"
            ]
        },
        {
            "cell_type": "markdown",
            "metadata": {},
            "source": [
                "### Numerical Solution\n",
                "\n",
                "We can compile the model using the numerical solution based on Finite-Difference-Method (FDM). This solution can be obtained as following:"
            ]
        },
        {
            "cell_type": "code",
            "execution_count": 8,
            "metadata": {},
            "outputs": [
                {
                    "name": "stdout",
                    "output_type": "stream",
                    "text": [
                        "[info] FDM was assigned as model.solution.\n"
                    ]
                }
            ],
            "source": [
                "model.compile(\n",
                "    stype=\"numerical\", # solution typle\n",
                "    method=\"FDM\", # solution method\n",
                "    sparse=True, # sparse matrix\n",
                "    name=f\"Numerical (Nx=101)\", # name of the solution\n",
                ")"
            ]
        },
        {
            "cell_type": "markdown",
            "metadata": {},
            "source": [
                "Now that the solution was compiled without issues, the model can be run for the number of `nsteps`: "
            ]
        },
        {
            "cell_type": "code",
            "execution_count": null,
            "metadata": {},
            "outputs": [
                {
                    "name": "stdout",
                    "output_type": "stream",
                    "text": [
                        "[info] Simulation run started: 100 timesteps.\n"
                    ]
                },
                {
                    "name": "stderr",
                    "output_type": "stream",
                    "text": [
                        "[step] 51:  50%|\u001b[32m█████     \u001b[0m| 50/100 [04:58<05:06,  6.12s/steps]"
                    ]
                }
            ],
            "source": [
                "model.run(**common_run_config)"
            ]
        },
        {
            "cell_type": "markdown",
            "metadata": {},
            "source": [
                "Results can be shown for the complied solutions as following: "
            ]
        },
        {
            "cell_type": "code",
            "execution_count": null,
            "metadata": {},
            "outputs": [],
            "source": [
                "model.plot(False, True)"
            ]
        },
        {
            "cell_type": "markdown",
            "metadata": {},
            "source": [
                "```{note}\n",
                "Values are shown with scaling `scaling=False` and boundaries `boundaries=True`.\n",
                "```"
            ]
        },
        {
            "cell_type": "markdown",
            "metadata": {},
            "source": [
                "### Analytical Solution\n",
                "\n",
                "This is a single phase fluid flow in 1D with a defined boundaries. The analytical solution of this problem is characterized as homogeneous PDE with nonhomogeneous BC and can be obtained as following:\n",
                "\n",
                "[](reference) <!-- (ch04_homogeneousPDE_nonhomogeneousBC_12) -->\n",
                "\n",
                "$\n",
                "u(x,t) = u_0 + \\frac{u_L - u_0}{L}x +\n",
                "\\frac{2}{\\pi} \\, \\sum_{n=1}^{\\infty}\n",
                "\\biggr[(u_i - u_0)\\frac{1}{n} + (u_L-u_i)\\frac{(-1)^n}{n} \\biggr ] \\,\n",
                "\\sin(\\frac{n \\pi x}{L}) \\, e^{-{\\frac{n^2 \\pi^2}{L^2}} \\alpha t} \n",
                "\\qquad \\text{where} \\quad n \\in \\mathbb{N}\n",
                "$\n",
                "\n",
                "The exact solution is approached as $N \\to \\infty$ (i.e. Lower N values give poor results).\n",
                "\n",
                "This solution can be selected by compiling the model as following: "
            ]
        },
        {
            "cell_type": "code",
            "execution_count": null,
            "metadata": {},
            "outputs": [],
            "source": [
                "N = 2  # Number of terms in the analytical solution\n",
                "model.compile(\n",
                "    stype=\"analytical\", \n",
                "    method=\"1D1P\", \n",
                "    sparse=True, \n",
                "    name=f'Analytical (N={N})',\n",
                ")"
            ]
        },
        {
            "cell_type": "markdown",
            "metadata": {},
            "source": [
                "Now that the solution was compiled without issues, the model can be run for the number of `nsteps` and the provided `N`: "
            ]
        },
        {
            "cell_type": "code",
            "execution_count": null,
            "metadata": {},
            "outputs": [],
            "source": [
                "model.run(**common_run_config | {\"N\": N, \"clean\": False})"
            ]
        },
        {
            "cell_type": "markdown",
            "metadata": {},
            "source": [
                "Results can be shown for the complied solutions as following: "
            ]
        },
        {
            "cell_type": "code",
            "execution_count": null,
            "metadata": {},
            "outputs": [],
            "source": [
                "model.plot(scale=False, boundary=True)"
            ]
        },
        {
            "cell_type": "markdown",
            "metadata": {},
            "source": [
                "```{note}\n",
                "Values are shown without scaling `scaling=False` but with boundaries `boundaries=True`.\n",
                "```"
            ]
        },
        {
            "cell_type": "markdown",
            "metadata": {},
            "source": [
                "We can improve the analytical solution by using `N=200` and `clean=True` which will exclude values outside of the defined range. "
            ]
        },
        {
            "cell_type": "code",
            "execution_count": null,
            "metadata": {},
            "outputs": [],
            "source": [
                "N = 20000  # Number of terms in the analytical solution\n",
                "model.compile(\n",
                "    stype=\"analytical\",\n",
                "    method=\"1D1P\",\n",
                "    sparse=True,\n",
                "    name=f\"Analytical (N={N})\",\n",
                ")"
            ]
        },
        {
            "cell_type": "code",
            "execution_count": null,
            "metadata": {},
            "outputs": [],
            "source": [
                "model.run(**common_run_config | {\"N\": N, \"clean\": True})"
            ]
        },
        {
            "cell_type": "code",
            "execution_count": null,
            "metadata": {},
            "outputs": [],
            "source": [
                "model.plot(scale=True, boundary=True)"
            ]
        },
        {
            "cell_type": "markdown",
            "metadata": {},
            "source": [
                "```{note}\n",
                "Values are shown with scaling `scaling=True` but with boundaries `boundaries=True`. Scaled values should match what we defined earlier in `model.set_scalers()` method.\n",
                "```"
            ]
        },
        {
            "cell_type": "markdown",
            "metadata": {},
            "source": [
                "## Comparing Solutions"
            ]
        },
        {
            "cell_type": "markdown",
            "metadata": {},
            "source": [
                "Method `model.plot()` takes the last complied solution. You can use `model.set_solution(name)` to switch to another solution. Or use `model.plot(solution)` to explicitly define the solution name you want to plot. For example: "
            ]
        },
        {
            "cell_type": "code",
            "execution_count": null,
            "metadata": {},
            "outputs": [],
            "source": [
                "model.plot(solution=\"Analytical (N=2)\")  # model.plot(solution=\"Numerical (Nx=101)\")"
            ]
        },
        {
            "cell_type": "markdown",
            "metadata": {},
            "source": [
                "Another feature is to plot `all` solutions together for comparison as follows: "
            ]
        },
        {
            "cell_type": "code",
            "execution_count": null,
            "metadata": {},
            "outputs": [],
            "source": [
                "model.plot(solution=\"all\")  # or model.plot_solutions()"
            ]
        },
        {
            "cell_type": "markdown",
            "metadata": {},
            "source": [
                "## Comparing Solutions (Contour Plot)"
            ]
        },
        {
            "cell_type": "code",
            "execution_count": null,
            "metadata": {},
            "outputs": [],
            "source": [
                "model.solutions"
            ]
        },
        {
            "cell_type": "code",
            "execution_count": null,
            "metadata": {},
            "outputs": [],
            "source": [
                "for name, solution in model.solutions.items():\n",
                "    print(name, solution.tstep, solution.nsteps)\n",
                "    "
            ]
        },
        {
            "cell_type": "code",
            "execution_count": null,
            "metadata": {},
            "outputs": [],
            "source": [
                "model.get_df(\n",
                "    melt=True,\n",
                "    columns=[\"time\", \"cells_pressure\"],\n",
                "    scale=False,\n",
                "    boundary=True,\n",
                "    drop_nan=False,\n",
                ")"
            ]
        },
        {
            "cell_type": "code",
            "execution_count": null,
            "metadata": {},
            "outputs": [],
            "source": [
                "import numpy as np\n",
                "\n",
                "\n",
                "def logarithmic_scaling(x, min_range, max_range, c=1):\n",
                "    scaled_value = (\n",
                "        (np.log(x + c) - np.log(X.min() + c))\n",
                "        / (np.log(X.max() + c) - np.log(X.min() + c))\n",
                "    ) * (max_range - min_range) + min_range\n",
                "    return scaled_value\n",
                "\n",
                "\n",
                "# Example usage\n",
                "X = np.array([1, 10, 100, 1000])\n",
                "\n",
                "min_range = 0  # Replace with your desired minimum range\n",
                "max_range = 1  # Replace with your desired maximum range\n",
                "\n",
                "scaled_X = logarithmic_scaling(X, min_range, max_range)\n",
                "\n",
                "print(scaled_X)\n",
                "\n",
                "\n",
                "def inverse_logarithmic_scaling(scaled_value, min_range, max_range, c=1):\n",
                "    original_value = (\n",
                "        np.exp(\n",
                "            (\n",
                "                (scaled_value - min_range)\n",
                "                * (np.log(X.max() + c) - np.log(X.min() + c))\n",
                "                / (max_range - min_range)\n",
                "            )\n",
                "            + np.log(X.min() + c)\n",
                "        )\n",
                "        - c\n",
                "    )\n",
                "    return original_value\n",
                "\n",
                "\n",
                "# Example usage\n",
                "scaled_X = np.array([0, 0.5, 0.8, 1])  # Replace with your scaled values\n",
                "min_range = 0  # Replace with your specified minimum range\n",
                "max_range = 1  # Replace with your specified maximum range\n",
                "\n",
                "original_X = inverse_logarithmic_scaling(scaled_X, min_range, max_range)\n",
                "\n",
                "print(original_X)"
            ]
        },
        {
            "cell_type": "markdown",
            "metadata": {
                "tags": [
                    "remove-input"
                ]
            },
            "source": [
                "```{include} /_static/comments_section.md\n",
                "```"
            ]
        }
    ],
    "metadata": {
        "kernelspec": {
            "display_name": ".venv",
            "language": "python",
            "name": "python3"
        },
        "language_info": {
            "codemirror_mode": {
                "name": "ipython",
                "version": 3
            },
            "file_extension": ".py",
            "mimetype": "text/x-python",
            "name": "python",
            "nbconvert_exporter": "python",
            "pygments_lexer": "ipython3",
            "version": "3.11.9"
        },
        "orig_nbformat": 4
    },
    "nbformat": 4,
    "nbformat_minor": 2
}
