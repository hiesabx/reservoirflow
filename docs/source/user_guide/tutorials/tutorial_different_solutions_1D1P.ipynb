{
    "cells": [
        {
            "cell_type": "markdown",
            "metadata": {},
            "source": [
                "# Different Solutions for 1-Dimensional-1-Phase Problem\n",
                "\n",
                "[![Open in Colab](https://colab.research.google.com/assets/colab-badge.svg)](https://drive.google.com/file/d/1VsPyLcLGSQwQD8EHkY-UdUPreWSPvy9Y/view?usp=drive_link)\n",
                "\n",
                "*Author: Zakariya Abugrin | Date: November 2023*"
            ]
        },
        {
            "cell_type": "markdown",
            "metadata": {},
            "source": [
                "## Introduction\n",
                "\n",
                "The solution for a simple 1-dimensional-1-phase (1D1P) problem is available in all solutions which includes: `analytical`, `numerical`, `neurical`. In tutorial, we will see how we can build all solutions and compare them together. \n",
                "\n",
                "## Prerequisites:\n",
                "Before you can follow this tutorial, you need to understand the following tutorials:\n",
                "1. [Understand scalers Module](/user_guide/tutorials/tutorial_understand_scalers_module.html).\n",
                "2. [Understand Compiling](/user_guide/tutorials/tutorial_understand_compiling.html)."
            ]
        },
        {
            "cell_type": "markdown",
            "metadata": {},
            "source": [
                "## Import `reservoirflow`\n",
                "\n",
                "We start with importing `reservoirflow` as `rf`. The abbreviation `rf` refers to `reservoirflow` where all modules under this library can be accessed. `rf` is also used throughout the [documentation](/api/API.html). We recommend our users to stick with this convention."
            ]
        },
        {
            "cell_type": "code",
            "execution_count": 1,
            "metadata": {},
            "outputs": [
                {
                    "name": "stdout",
                    "output_type": "stream",
                    "text": [
                        "0.1.0\n"
                    ]
                }
            ],
            "source": [
                "import reservoirflow as rf\n",
                "import numpy as np\n",
                "\n",
                "print(rf.__version__)"
            ]
        },
        {
            "cell_type": "markdown",
            "metadata": {},
            "source": [
                "## Create a Model"
            ]
        },
        {
            "cell_type": "code",
            "execution_count": 2,
            "metadata": {},
            "outputs": [],
            "source": [
                "run_config = dict(\n",
                "    nsteps=100,\n",
                "    threading=True,\n",
                "    vectorize=True,\n",
                "    check_MB=True,\n",
                "    print_arrays=False,\n",
                "    isolver=None,  #'cgs',\n",
                ")"
            ]
        },
        {
            "cell_type": "code",
            "execution_count": 3,
            "metadata": {},
            "outputs": [],
            "source": [
                "def create_model(nx=101, n_w=2, comp=False):\n",
                "    if comp:\n",
                "        g_comp = 1 * 10**-6\n",
                "        f_comp = 1 * 10**-5\n",
                "    else:\n",
                "        g_comp = None\n",
                "        f_comp = None\n",
                "\n",
                "    grid = rf.grids.RegularCartesian(\n",
                "        nx=nx,\n",
                "        ny=1,\n",
                "        nz=1,\n",
                "        dx=300,\n",
                "        dy=350,\n",
                "        dz=40,\n",
                "        phi=0.27,\n",
                "        kx=270,\n",
                "        comp=g_comp,\n",
                "        dtype=\"double\",\n",
                "    )\n",
                "\n",
                "    fluid = rf.fluids.SinglePhase(\n",
                "        mu=0.5,\n",
                "        B=1,\n",
                "        comp=f_comp,\n",
                "        dtype=\"double\",\n",
                "    )\n",
                "\n",
                "    model = rf.models.BlackOil(\n",
                "        grid, fluid, pi=4000, dtype=\"double\", dt=1, verbose=False, sparse=True\n",
                "    )\n",
                "    if n_w > 0:\n",
                "        well_ids = np.cumsum([nx // (n_w + 1) for i in range(n_w)])\n",
                "        print(\"Wells_ids:\", well_ids)\n",
                "        for well_id in well_ids:\n",
                "            # model.set_well(id=well_id, q=-600, s=1.5, r=3.5)\n",
                "            model.set_well(id=well_id, pwf=1000, s=1.5, r=3.5)\n",
                "        model.set_boundaries({0: (\"pressure\", 4000), nx + 1: (\"pressure\", 4000)})\n",
                "    else:\n",
                "        model.set_boundaries({0: (\"pressure\", 4000), nx + 1: (\"pressure\", 1000)})\n",
                "        # model.set_boundaries({0: (\"pressure\", 1000), nx+1: (\"pressure\", 4000)})\n",
                "\n",
                "    return model"
            ]
        },
        {
            "cell_type": "code",
            "execution_count": 4,
            "metadata": {},
            "outputs": [],
            "source": [
                "model = create_model(n_w=0, comp=True)"
            ]
        },
        {
            "cell_type": "code",
            "execution_count": 5,
            "metadata": {},
            "outputs": [
                {
                    "name": "stdout",
                    "output_type": "stream",
                    "text": [
                        "[info] FDM was assigned as model.solution.\n"
                    ]
                }
            ],
            "source": [
                "model.compile(\"numerical\", \"FDM\")"
            ]
        },
        {
            "cell_type": "code",
            "execution_count": null,
            "metadata": {},
            "outputs": [],
            "source": []
        },
        {
            "cell_type": "code",
            "execution_count": null,
            "metadata": {},
            "outputs": [],
            "source": []
        },
        {
            "cell_type": "code",
            "execution_count": null,
            "metadata": {},
            "outputs": [],
            "source": []
        },
        {
            "cell_type": "code",
            "execution_count": 6,
            "metadata": {},
            "outputs": [
                {
                    "name": "stdout",
                    "output_type": "stream",
                    "text": [
                        "Help on method run in module reservoirflow.solutions.numerical.fdm:\n",
                        "\n",
                        "run(nsteps=10, threading=True, vectorize=True, check_MB=True, print_arrays=False, isolver=None) method of reservoirflow.solutions.numerical.fdm.FDM instance\n",
                        "    Perform a simulation run for nsteps.\n",
                        "    \n",
                        "    Parameters\n",
                        "    ----------\n",
                        "    nsteps : int, optional\n",
                        "        _description_\n",
                        "    threading : bool, optional\n",
                        "        _description_\n",
                        "    check_MB : bool, optional\n",
                        "        _description_\n",
                        "    isolver : str, optional\n",
                        "        iterative solver for sparse matrices. Available solvers are\n",
                        "        [\"bicg\", \"bicgstab\", \"cg\", \"cgs\", \"gmres\", \"lgmres\",\n",
                        "        \"minres\", \"qmr\", \"gcrotmk\", \"tfqmr\"].\n",
                        "        If None, direct solver is used. Only relevant when argument\n",
                        "        sparse=True. Direct solver is recommended for more accurate\n",
                        "        calculations. To improve performance, \"cgs\" is recommended\n",
                        "        to increase performance while option \"minres\" is not recommended due to\n",
                        "        high MB error. For more information check [1][2].\n",
                        "    \n",
                        "    References\n",
                        "    ----------\n",
                        "    - SciPy: `Solving Linear Problems <https://docs.scipy.org/doc/scipy/reference/sparse.linalg.html#solving-linear-problems>`_.\n",
                        "    - SciPy: `Iterative Solvers <https://scipy-lectures.org/advanced/scipy_sparse/solvers.html#iterative-solvers>`_.\n",
                        "\n"
                    ]
                }
            ],
            "source": [
                "help(model.run)"
            ]
        },
        {
            "cell_type": "code",
            "execution_count": 7,
            "metadata": {},
            "outputs": [
                {
                    "name": "stdout",
                    "output_type": "stream",
                    "text": [
                        "[info] Simulation run started: 100 timesteps.\n"
                    ]
                },
                {
                    "name": "stderr",
                    "output_type": "stream",
                    "text": [
                        "  0%|\u001b[32m          \u001b[0m| 0/100 [00:00<?, ?steps/s]\n"
                    ]
                },
                {
                    "ename": "ValueError",
                    "evalue": "Property kx is not defined. ",
                    "output_type": "error",
                    "traceback": [
                        "\u001b[1;31m---------------------------------------------------------------------------\u001b[0m",
                        "\u001b[1;31mValueError\u001b[0m                                Traceback (most recent call last)",
                        "Cell \u001b[1;32mIn[7], line 1\u001b[0m\n\u001b[1;32m----> 1\u001b[0m model\u001b[38;5;241m.\u001b[39mrun(\u001b[38;5;241m*\u001b[39m\u001b[38;5;241m*\u001b[39mrun_config)\n",
                        "File \u001b[1;32m~\\Projects\\reservoirflow\\reservoirflow\\solutions\\numerical\\fdm.py:819\u001b[0m, in \u001b[0;36mFDM.run\u001b[1;34m(self, nsteps, threading, vectorize, check_MB, print_arrays, isolver)\u001b[0m\n\u001b[0;32m    810\u001b[0m pbar \u001b[38;5;241m=\u001b[39m tqdm(\n\u001b[0;32m    811\u001b[0m     \u001b[38;5;28mrange\u001b[39m(\u001b[38;5;241m1\u001b[39m, nsteps \u001b[38;5;241m+\u001b[39m \u001b[38;5;241m1\u001b[39m),\n\u001b[0;32m    812\u001b[0m     unit\u001b[38;5;241m=\u001b[39m\u001b[38;5;124m\"\u001b[39m\u001b[38;5;124msteps\u001b[39m\u001b[38;5;124m\"\u001b[39m,\n\u001b[1;32m   (...)\u001b[0m\n\u001b[0;32m    815\u001b[0m     leave\u001b[38;5;241m=\u001b[39m\u001b[38;5;28;01mTrue\u001b[39;00m,\n\u001b[0;32m    816\u001b[0m )\n\u001b[0;32m    818\u001b[0m \u001b[38;5;28;01mfor\u001b[39;00m step \u001b[38;5;129;01min\u001b[39;00m pbar:\n\u001b[1;32m--> 819\u001b[0m     \u001b[38;5;28;43mself\u001b[39;49m\u001b[38;5;241;43m.\u001b[39;49m\u001b[43msolve\u001b[49m\u001b[43m(\u001b[49m\n\u001b[0;32m    820\u001b[0m \u001b[43m        \u001b[49m\u001b[38;5;66;43;03m# sparse,\u001b[39;49;00m\n\u001b[0;32m    821\u001b[0m \u001b[43m        \u001b[49m\u001b[43mthreading\u001b[49m\u001b[43m,\u001b[49m\n\u001b[0;32m    822\u001b[0m \u001b[43m        \u001b[49m\u001b[43mvectorize\u001b[49m\u001b[43m,\u001b[49m\n\u001b[0;32m    823\u001b[0m \u001b[43m        \u001b[49m\u001b[43mcheck_MB\u001b[49m\u001b[43m,\u001b[49m\n\u001b[0;32m    824\u001b[0m \u001b[43m        \u001b[49m\u001b[38;5;28;43;01mTrue\u001b[39;49;00m\u001b[43m,\u001b[49m\n\u001b[0;32m    825\u001b[0m \u001b[43m        \u001b[49m\u001b[43mprint_arrays\u001b[49m\u001b[43m,\u001b[49m\n\u001b[0;32m    826\u001b[0m \u001b[43m        \u001b[49m\u001b[43misolver\u001b[49m\u001b[43m,\u001b[49m\n\u001b[0;32m    827\u001b[0m \u001b[43m    \u001b[49m\u001b[43m)\u001b[49m\n\u001b[0;32m    828\u001b[0m     pbar\u001b[38;5;241m.\u001b[39mset_description(\u001b[38;5;124mf\u001b[39m\u001b[38;5;124m\"\u001b[39m\u001b[38;5;124m[step] \u001b[39m\u001b[38;5;132;01m{\u001b[39;00mstep\u001b[38;5;132;01m}\u001b[39;00m\u001b[38;5;124m\"\u001b[39m)\n\u001b[0;32m    830\u001b[0m \u001b[38;5;28mself\u001b[39m\u001b[38;5;241m.\u001b[39mrun_ctime \u001b[38;5;241m=\u001b[39m \u001b[38;5;28mround\u001b[39m(time\u001b[38;5;241m.\u001b[39mtime() \u001b[38;5;241m-\u001b[39m start_time, \u001b[38;5;241m2\u001b[39m)\n",
                        "File \u001b[1;32m~\\Projects\\reservoirflow\\reservoirflow\\solutions\\numerical\\fdm.py:720\u001b[0m, in \u001b[0;36mFDM.solve\u001b[1;34m(self, threading, vectorize, check_MB, update, print_arrays, isolver)\u001b[0m\n\u001b[0;32m    718\u001b[0m \u001b[38;5;28;01melse\u001b[39;00m:\n\u001b[0;32m    719\u001b[0m     \u001b[38;5;28;01mif\u001b[39;00m vectorize:\n\u001b[1;32m--> 720\u001b[0m         A, d \u001b[38;5;241m=\u001b[39m \u001b[38;5;28;43mself\u001b[39;49m\u001b[38;5;241;43m.\u001b[39;49m\u001b[43mget_matrices_vect\u001b[49m\u001b[43m(\u001b[49m\u001b[43mthreading\u001b[49m\u001b[43m)\u001b[49m\n\u001b[0;32m    721\u001b[0m     \u001b[38;5;28;01melse\u001b[39;00m:\n\u001b[0;32m    722\u001b[0m         A, d \u001b[38;5;241m=\u001b[39m \u001b[38;5;28mself\u001b[39m\u001b[38;5;241m.\u001b[39mget_matrices_symb(threading)\n",
                        "File \u001b[1;32m~\\Projects\\reservoirflow\\reservoirflow\\solutions\\numerical\\fdm.py:519\u001b[0m, in \u001b[0;36mFDM.get_matrices_vect\u001b[1;34m(self, threading)\u001b[0m\n\u001b[0;32m    515\u001b[0m \u001b[38;5;28;01mif\u001b[39;00m \u001b[38;5;28mself\u001b[39m\u001b[38;5;241m.\u001b[39mmodel\u001b[38;5;241m.\u001b[39mtstep \u001b[38;5;241m==\u001b[39m \u001b[38;5;241m0\u001b[39m \u001b[38;5;129;01mor\u001b[39;00m \u001b[38;5;129;01mnot\u001b[39;00m \u001b[38;5;28mhasattr\u001b[39m(\u001b[38;5;28mself\u001b[39m, \u001b[38;5;124m\"\u001b[39m\u001b[38;5;124mA_\u001b[39m\u001b[38;5;124m\"\u001b[39m):\n\u001b[0;32m    516\u001b[0m     \u001b[38;5;66;03m# second condition allow switching vectorize True/False after\u001b[39;00m\n\u001b[0;32m    517\u001b[0m     \u001b[38;5;66;03m# timestep=0.\u001b[39;00m\n\u001b[0;32m    518\u001b[0m     \u001b[38;5;28mself\u001b[39m\u001b[38;5;241m.\u001b[39mresolve \u001b[38;5;241m=\u001b[39m defaultdict(\u001b[38;5;28;01mlambda\u001b[39;00m: \u001b[38;5;28;01mFalse\u001b[39;00m)\n\u001b[1;32m--> 519\u001b[0m     \u001b[38;5;28;43mself\u001b[39;49m\u001b[38;5;241;43m.\u001b[39;49m\u001b[43m__init_A\u001b[49m\u001b[43m(\u001b[49m\u001b[43m)\u001b[49m\n\u001b[0;32m    520\u001b[0m     \u001b[38;5;28mself\u001b[39m\u001b[38;5;241m.\u001b[39mbdict_v \u001b[38;5;241m=\u001b[39m {}\n\u001b[0;32m    521\u001b[0m     \u001b[38;5;28;01mfor\u001b[39;00m id_b \u001b[38;5;129;01min\u001b[39;00m \u001b[38;5;28mself\u001b[39m\u001b[38;5;241m.\u001b[39mmodel\u001b[38;5;241m.\u001b[39mbdict_update:\n",
                        "File \u001b[1;32m~\\Projects\\reservoirflow\\reservoirflow\\solutions\\numerical\\fdm.py:432\u001b[0m, in \u001b[0;36mFDM.__init_A\u001b[1;34m(self)\u001b[0m\n\u001b[0;32m    408\u001b[0m \u001b[38;5;250m\u001b[39m\u001b[38;5;124;03m\"\"\"Initialize ceofficient matrix (`A`).\u001b[39;00m\n\u001b[0;32m    409\u001b[0m \n\u001b[0;32m    410\u001b[0m \u001b[38;5;124;03mFor a system of linear equations `Au=d`, `A` is the\u001b[39;00m\n\u001b[1;32m   (...)\u001b[0m\n\u001b[0;32m    420\u001b[0m \u001b[38;5;124;03m    ceofficient A is initialized in place.\u001b[39;00m\n\u001b[0;32m    421\u001b[0m \u001b[38;5;124;03m\"\"\"\u001b[39;00m\n\u001b[0;32m    422\u001b[0m \u001b[38;5;66;03m# T = self.get_cells_T_array(True).toarray()\u001b[39;00m\n\u001b[0;32m    423\u001b[0m \u001b[38;5;66;03m# self.A_ = T[:, self.model.cells_id][self.model.cells_id]\u001b[39;00m\n\u001b[0;32m    424\u001b[0m \u001b[38;5;66;03m# self.A_[self.model.cells_i, self.model.cells_i] = (\u001b[39;00m\n\u001b[1;32m   (...)\u001b[0m\n\u001b[0;32m    430\u001b[0m \u001b[38;5;66;03m# return self.A_\u001b[39;00m\n\u001b[0;32m    431\u001b[0m \u001b[38;5;66;03m# self.A_ = self.get_cells_T_array(False, True).toarray()\u001b[39;00m\n\u001b[1;32m--> 432\u001b[0m \u001b[38;5;28mself\u001b[39m\u001b[38;5;241m.\u001b[39mA_ \u001b[38;5;241m=\u001b[39m \u001b[38;5;28;43mself\u001b[39;49m\u001b[38;5;241;43m.\u001b[39;49m\u001b[43mmodel\u001b[49m\u001b[38;5;241;43m.\u001b[39;49m\u001b[43mget_cells_trans\u001b[49m\u001b[43m(\u001b[49m\u001b[38;5;28;43;01mFalse\u001b[39;49;00m\u001b[43m,\u001b[49m\u001b[43m \u001b[49m\u001b[38;5;28;43mself\u001b[39;49m\u001b[38;5;241;43m.\u001b[39;49m\u001b[43mmodel\u001b[49m\u001b[38;5;241;43m.\u001b[39;49m\u001b[43msparse\u001b[49m\u001b[43m,\u001b[49m\u001b[43m \u001b[49m\u001b[38;5;28;43;01mTrue\u001b[39;49;00m\u001b[43m)\u001b[49m\n\u001b[0;32m    433\u001b[0m v1 \u001b[38;5;241m=\u001b[39m \u001b[38;5;241m-\u001b[39m\u001b[38;5;28mself\u001b[39m\u001b[38;5;241m.\u001b[39mA_[\u001b[38;5;28mself\u001b[39m\u001b[38;5;241m.\u001b[39mmodel\u001b[38;5;241m.\u001b[39mcells_i, :]\u001b[38;5;241m.\u001b[39msum(axis\u001b[38;5;241m=\u001b[39m\u001b[38;5;241m1\u001b[39m)\u001b[38;5;241m.\u001b[39mflatten()\n\u001b[0;32m    434\u001b[0m v2 \u001b[38;5;241m=\u001b[39m \u001b[38;5;28mself\u001b[39m\u001b[38;5;241m.\u001b[39mmodel\u001b[38;5;241m.\u001b[39mRHS[\u001b[38;5;28mself\u001b[39m\u001b[38;5;241m.\u001b[39mmodel\u001b[38;5;241m.\u001b[39mcells_id]\u001b[38;5;241m.\u001b[39mflatten()\n",
                        "File \u001b[1;32m~\\Projects\\reservoirflow\\reservoirflow\\models\\black_oil.py:265\u001b[0m, in \u001b[0;36mBlackOil.get_cells_trans\u001b[1;34m(self, boundary, sparse, vectorize)\u001b[0m\n\u001b[0;32m    250\u001b[0m \u001b[38;5;250m\u001b[39m\u001b[38;5;124;03m\"\"\"_summary_\u001b[39;00m\n\u001b[0;32m    251\u001b[0m \n\u001b[0;32m    252\u001b[0m \u001b[38;5;124;03mParameters\u001b[39;00m\n\u001b[1;32m   (...)\u001b[0m\n\u001b[0;32m    262\u001b[0m \u001b[38;5;124;03m    _description_\u001b[39;00m\n\u001b[0;32m    263\u001b[0m \u001b[38;5;124;03m\"\"\"\u001b[39;00m\n\u001b[0;32m    264\u001b[0m \u001b[38;5;28;01mif\u001b[39;00m vectorize:\n\u001b[1;32m--> 265\u001b[0m     \u001b[38;5;28;01mreturn\u001b[39;00m \u001b[38;5;28;43mself\u001b[39;49m\u001b[38;5;241;43m.\u001b[39;49m\u001b[43mgrid\u001b[49m\u001b[38;5;241;43m.\u001b[39;49m\u001b[43mget_cells_G\u001b[49m\u001b[43m(\u001b[49m\u001b[43mboundary\u001b[49m\u001b[43m,\u001b[49m\u001b[43m \u001b[49m\u001b[43msparse\u001b[49m\u001b[43m)\u001b[49m \u001b[38;5;241m/\u001b[39m (\n\u001b[0;32m    266\u001b[0m         \u001b[38;5;28mself\u001b[39m\u001b[38;5;241m.\u001b[39mfluid\u001b[38;5;241m.\u001b[39mmu \u001b[38;5;241m*\u001b[39m \u001b[38;5;28mself\u001b[39m\u001b[38;5;241m.\u001b[39mfluid\u001b[38;5;241m.\u001b[39mB\n\u001b[0;32m    267\u001b[0m     )\n\u001b[0;32m    269\u001b[0m n \u001b[38;5;241m=\u001b[39m \u001b[38;5;28mself\u001b[39m\u001b[38;5;241m.\u001b[39mgrid\u001b[38;5;241m.\u001b[39mget_n(boundary)\n\u001b[0;32m    270\u001b[0m \u001b[38;5;28;01mif\u001b[39;00m sparse:\n",
                        "File \u001b[1;32m~\\Projects\\reservoirflow\\reservoirflow\\grids\\regular_cartesian.py:2900\u001b[0m, in \u001b[0;36mRegularCartesian.get_cells_G\u001b[1;34m(self, boundary, sparse)\u001b[0m\n\u001b[0;32m   2882\u001b[0m \u001b[38;5;250m\u001b[39m\u001b[38;5;124;03m\"\"\"Returns cells geometric factor (G) Matrix.\u001b[39;00m\n\u001b[0;32m   2883\u001b[0m \n\u001b[0;32m   2884\u001b[0m \u001b[38;5;124;03mThis matrix is essential to build the coefficient matrix (A).\u001b[39;00m\n\u001b[1;32m   (...)\u001b[0m\n\u001b[0;32m   2896\u001b[0m \u001b[38;5;124;03m    G matrix for the entire grid model without boundary.\u001b[39;00m\n\u001b[0;32m   2897\u001b[0m \u001b[38;5;124;03m\"\"\"\u001b[39;00m\n\u001b[0;32m   2899\u001b[0m \u001b[38;5;28;01mif\u001b[39;00m \u001b[38;5;28mself\u001b[39m\u001b[38;5;241m.\u001b[39mD \u001b[38;5;241m>\u001b[39m\u001b[38;5;241m=\u001b[39m \u001b[38;5;241m1\u001b[39m:\n\u001b[1;32m-> 2900\u001b[0m     diag_1 \u001b[38;5;241m=\u001b[39m \u001b[38;5;28;43mself\u001b[39;49m\u001b[38;5;241;43m.\u001b[39;49m\u001b[43mget_cells_G_diag_1\u001b[49m\u001b[43m(\u001b[49m\u001b[43mboundary\u001b[49m\u001b[43m)\u001b[49m\n\u001b[0;32m   2902\u001b[0m \u001b[38;5;28;01mif\u001b[39;00m \u001b[38;5;28mself\u001b[39m\u001b[38;5;241m.\u001b[39mD \u001b[38;5;241m>\u001b[39m\u001b[38;5;241m=\u001b[39m \u001b[38;5;241m2\u001b[39m:\n\u001b[0;32m   2903\u001b[0m     diag_2, n2 \u001b[38;5;241m=\u001b[39m \u001b[38;5;28mself\u001b[39m\u001b[38;5;241m.\u001b[39mget_cells_G_diag_2(boundary, diag_1)\n",
                        "File \u001b[1;32m~\\Projects\\reservoirflow\\reservoirflow\\grids\\regular_cartesian.py:2780\u001b[0m, in \u001b[0;36mRegularCartesian.get_cells_G_diag_1\u001b[1;34m(self, boundary)\u001b[0m\n\u001b[0;32m   2778\u001b[0m \u001b[38;5;28;01melse\u001b[39;00m:\n\u001b[0;32m   2779\u001b[0m     \u001b[38;5;28mdir\u001b[39m \u001b[38;5;241m=\u001b[39m \u001b[38;5;28mself\u001b[39m\u001b[38;5;241m.\u001b[39mfdir[\u001b[38;5;241m0\u001b[39m]\n\u001b[1;32m-> 2780\u001b[0m k \u001b[38;5;241m=\u001b[39m \u001b[38;5;28;43mself\u001b[39;49m\u001b[38;5;241;43m.\u001b[39;49m\u001b[43mget_cells_k\u001b[49m\u001b[43m(\u001b[49m\u001b[38;5;28;43mdir\u001b[39;49m\u001b[43m,\u001b[49m\u001b[43m \u001b[49m\u001b[43mboundary\u001b[49m\u001b[43m,\u001b[49m\u001b[43m \u001b[49m\u001b[38;5;28;43;01mFalse\u001b[39;49;00m\u001b[43m,\u001b[49m\u001b[43m \u001b[49m\u001b[38;5;124;43m\"\u001b[39;49m\u001b[38;5;124;43marray\u001b[39;49m\u001b[38;5;124;43m\"\u001b[39;49m\u001b[43m)\u001b[49m\n\u001b[0;32m   2781\u001b[0m A \u001b[38;5;241m=\u001b[39m \u001b[38;5;28mself\u001b[39m\u001b[38;5;241m.\u001b[39mget_cells_A(\u001b[38;5;28mdir\u001b[39m, boundary, \u001b[38;5;28;01mFalse\u001b[39;00m)\n\u001b[0;32m   2782\u001b[0m d \u001b[38;5;241m=\u001b[39m \u001b[38;5;28mself\u001b[39m\u001b[38;5;241m.\u001b[39mget_cells_d(\u001b[38;5;28mdir\u001b[39m, boundary, \u001b[38;5;28;01mFalse\u001b[39;00m)\n",
                        "File \u001b[1;32m~\\Projects\\reservoirflow\\reservoirflow\\grids\\regular_cartesian.py:2527\u001b[0m, in \u001b[0;36mRegularCartesian.get_cells_k\u001b[1;34m(self, dir, boundary, fshape, fmt)\u001b[0m\n\u001b[0;32m   2524\u001b[0m \u001b[38;5;28;01melse\u001b[39;00m:\n\u001b[0;32m   2525\u001b[0m     \u001b[38;5;28;01mraise\u001b[39;00m \u001b[38;5;167;01mValueError\u001b[39;00m(\u001b[38;5;124m\"\u001b[39m\u001b[38;5;124mdir must be in [\u001b[39m\u001b[38;5;124m'\u001b[39m\u001b[38;5;124mx\u001b[39m\u001b[38;5;124m'\u001b[39m\u001b[38;5;124m, \u001b[39m\u001b[38;5;124m'\u001b[39m\u001b[38;5;124my\u001b[39m\u001b[38;5;124m'\u001b[39m\u001b[38;5;124m, \u001b[39m\u001b[38;5;124m'\u001b[39m\u001b[38;5;124mz\u001b[39m\u001b[38;5;124m'\u001b[39m\u001b[38;5;124m].\u001b[39m\u001b[38;5;124m\"\u001b[39m)\n\u001b[1;32m-> 2527\u001b[0m \u001b[38;5;28;01mreturn\u001b[39;00m \u001b[38;5;28;43mself\u001b[39;49m\u001b[38;5;241;43m.\u001b[39;49m\u001b[43mget_prop\u001b[49m\u001b[43m(\u001b[49m\u001b[43mname\u001b[49m\u001b[43m,\u001b[49m\u001b[43m \u001b[49m\u001b[43mboundary\u001b[49m\u001b[43m,\u001b[49m\u001b[43m \u001b[49m\u001b[43mfshape\u001b[49m\u001b[43m,\u001b[49m\u001b[43m \u001b[49m\u001b[43mfmt\u001b[49m\u001b[43m)\u001b[49m\n",
                        "File \u001b[1;32m~\\Projects\\reservoirflow\\reservoirflow\\grids\\regular_cartesian.py:2484\u001b[0m, in \u001b[0;36mRegularCartesian.get_prop\u001b[1;34m(self, name, boundary, fshape, fmt)\u001b[0m\n\u001b[0;32m   2479\u001b[0m \u001b[38;5;28;01melse\u001b[39;00m:\n\u001b[0;32m   2480\u001b[0m     msg \u001b[38;5;241m=\u001b[39m (\n\u001b[0;32m   2481\u001b[0m         \u001b[38;5;124mf\u001b[39m\u001b[38;5;124m\"\u001b[39m\u001b[38;5;124mProperty \u001b[39m\u001b[38;5;132;01m{\u001b[39;00mname\u001b[38;5;132;01m}\u001b[39;00m\u001b[38;5;124m is not defined. \u001b[39m\u001b[38;5;124m\"\u001b[39m\n\u001b[0;32m   2482\u001b[0m         \u001b[38;5;66;03m# f\"Known properties are: {list(self.__props__.keys())}.\"\u001b[39;00m\n\u001b[0;32m   2483\u001b[0m     )\n\u001b[1;32m-> 2484\u001b[0m     \u001b[38;5;28;01mraise\u001b[39;00m \u001b[38;5;167;01mValueError\u001b[39;00m(msg)\n",
                        "\u001b[1;31mValueError\u001b[0m: Property kx is not defined. "
                    ]
                }
            ],
            "source": [
                "model.run(**run_config)"
            ]
        },
        {
            "cell_type": "markdown",
            "metadata": {
                "tags": [
                    "remove-input"
                ]
            },
            "source": [
                "```{include} /_static/comments_section.md\n",
                "```"
            ]
        }
    ],
    "metadata": {
        "kernelspec": {
            "display_name": ".venv",
            "language": "python",
            "name": "python3"
        },
        "language_info": {
            "codemirror_mode": {
                "name": "ipython",
                "version": 3
            },
            "file_extension": ".py",
            "mimetype": "text/x-python",
            "name": "python",
            "nbconvert_exporter": "python",
            "pygments_lexer": "ipython3",
            "version": "3.10.11"
        },
        "orig_nbformat": 4
    },
    "nbformat": 4,
    "nbformat_minor": 2
}
