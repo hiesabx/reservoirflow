{
    "cells": [
        {
            "cell_type": "markdown",
            "metadata": {},
            "source": [
                "# Different Solutions for 1-Dimensional-1-Phase Problem\n",
                "\n",
                "[![Open in Colab](https://colab.research.google.com/assets/colab-badge.svg)](https://drive.google.com/file/d/1VsPyLcLGSQwQD8EHkY-UdUPreWSPvy9Y/view?usp=drive_link)\n",
                "\n",
                "*Author: Zakariya Abugrin | Date: November 2023*"
            ]
        },
        {
            "cell_type": "markdown",
            "metadata": {},
            "source": [
                "## Introduction\n",
                "\n",
                "The solution for a simple 1-dimensional-1-phase (1D1P) problem is available in all solutions which includes: `analytical`, `numerical`, `neurical`. In tutorial, we will see how we can build all solutions and compare them together. \n",
                "\n",
                "## Prerequisites:\n",
                "Before you can follow this tutorial, you need to understand the following tutorials:\n",
                "1. [Understand scalers Module](/user_guide/tutorials/tutorial_understand_scalers_module.html).\n",
                "2. [Understand Compiling](/user_guide/tutorials/tutorial_understand_compiling.html)."
            ]
        },
        {
            "cell_type": "markdown",
            "metadata": {},
            "source": [
                "## Import `reservoirflow`\n",
                "\n",
                "We start with importing `reservoirflow` as `rf`. The abbreviation `rf` refers to `reservoirflow` where all modules under this library can be accessed. `rf` is also used throughout the [documentation](/api/API.html). We recommend our users to stick with this convention."
            ]
        },
        {
            "cell_type": "code",
            "execution_count": 1,
            "metadata": {},
            "outputs": [
                {
                    "name": "stdout",
                    "output_type": "stream",
                    "text": [
                        "0.1.0\n"
                    ]
                }
            ],
            "source": [
                "import reservoirflow as rf\n",
                "import numpy as np\n",
                "\n",
                "print(rf.__version__)"
            ]
        },
        {
            "cell_type": "markdown",
            "metadata": {},
            "source": [
                "## Create a Model"
            ]
        },
        {
            "cell_type": "code",
            "execution_count": 2,
            "metadata": {},
            "outputs": [],
            "source": [
                "run_config = dict(\n",
                "    nsteps=100,\n",
                "    threading=True,\n",
                "    vectorize=True,\n",
                "    check_MB=True,\n",
                "    print_arrays=False,\n",
                "    isolver=None,  #'cgs',\n",
                ")"
            ]
        },
        {
            "cell_type": "code",
            "execution_count": 3,
            "metadata": {},
            "outputs": [],
            "source": [
                "def create_model(nx=101, n_w=2, comp=False):\n",
                "    if comp:\n",
                "        g_comp = 1 * 10**-6\n",
                "        f_comp = 1 * 10**-5\n",
                "    else:\n",
                "        g_comp = None\n",
                "        f_comp = None\n",
                "\n",
                "    grid = rf.grids.RegularCartesian(\n",
                "        nx=nx,\n",
                "        ny=1,\n",
                "        nz=1,\n",
                "        dx=300,\n",
                "        dy=350,\n",
                "        dz=40,\n",
                "        phi=0.27,\n",
                "        kx=270,\n",
                "        comp=g_comp,\n",
                "        dtype=\"double\",\n",
                "    )\n",
                "\n",
                "    fluid = rf.fluids.SinglePhase(\n",
                "        mu=0.5,\n",
                "        B=1,\n",
                "        comp=f_comp,\n",
                "        dtype=\"double\",\n",
                "    )\n",
                "\n",
                "    model = rf.models.BlackOil(\n",
                "        grid, fluid, pi=4000, dtype=\"double\", dt=1, verbose=False, sparse=True\n",
                "    )\n",
                "    if n_w > 0:\n",
                "        well_ids = np.cumsum([nx // (n_w + 1) for i in range(n_w)])\n",
                "        print(\"Wells_ids:\", well_ids)\n",
                "        for well_id in well_ids:\n",
                "            # model.set_well(id=well_id, q=-600, s=1.5, r=3.5)\n",
                "            model.set_well(id=well_id, pwf=1000, s=1.5, r=3.5)\n",
                "        model.set_boundaries({0: (\"pressure\", 4000), nx + 1: (\"pressure\", 4000)})\n",
                "    else:\n",
                "        model.set_boundaries({0: (\"pressure\", 4000), nx + 1: (\"pressure\", 1000)})\n",
                "        # model.set_boundaries({0: (\"pressure\", 1000), nx+1: (\"pressure\", 4000)})\n",
                "\n",
                "    return model"
            ]
        },
        {
            "cell_type": "code",
            "execution_count": 4,
            "metadata": {},
            "outputs": [],
            "source": [
                "model = create_model(n_w=0, comp=True)"
            ]
        },
        {
            "cell_type": "code",
            "execution_count": 5,
            "metadata": {},
            "outputs": [
                {
                    "name": "stdout",
                    "output_type": "stream",
                    "text": [
                        "[info] FDM was assigned as model.solution.\n",
                        "[info] Simulation run started: 100 timesteps.\n"
                    ]
                },
                {
                    "name": "stderr",
                    "output_type": "stream",
                    "text": [
                        "[step] 100: 100%|\u001b[32m██████████\u001b[0m| 100/100 [00:00<00:00, 187.83steps/s]"
                    ]
                },
                {
                    "name": "stdout",
                    "output_type": "stream",
                    "text": [
                        "[info] Simulation run of 100 steps finished in 0.54 seconds.\n",
                        "[info] Material Balance Error: 7.602807272633072e-13.\n"
                    ]
                },
                {
                    "name": "stderr",
                    "output_type": "stream",
                    "text": [
                        "\n"
                    ]
                }
            ],
            "source": [
                "model.compile(\"numerical\", \"FDM\")\n",
                "model.run(**run_config)"
            ]
        },
        {
            "cell_type": "code",
            "execution_count": 6,
            "metadata": {},
            "outputs": [
                {
                    "name": "stdout",
                    "output_type": "stream",
                    "text": [
                        "[info] D1P1 was assigned as model.solution.\n"
                    ]
                }
            ],
            "source": [
                "model.compile(\"analytical\", \"1D1P\")"
            ]
        },
        {
            "cell_type": "code",
            "execution_count": 7,
            "metadata": {},
            "outputs": [
                {
                    "name": "stdout",
                    "output_type": "stream",
                    "text": [
                        "\n",
                        "\n",
                        "     ncalls  tottime  percall  cumtime  percall.1  \\\n",
                        "0        1   65.029   65.029   65.049     65.049   \n",
                        "1        1    0.011    0.011    0.011      0.011   \n",
                        "2        7    0.006    0.001    0.006      0.001   \n",
                        "3        1    0.002    0.002    0.002      0.002   \n",
                        "4        7    0.000    0.000    0.000      0.000   \n",
                        "..     ...      ...      ...      ...        ...   \n",
                        "62       3    0.000    0.000    0.000      0.000   \n",
                        "63       2    0.000    0.000    0.000      0.000   \n",
                        "64       1    0.000    0.000    0.000      0.000   \n",
                        "65       1    0.000    0.000    0.000      0.000   \n",
                        "66       1    0.000    0.000    0.000      0.000   \n",
                        "\n",
                        "                            filename:lineno(function)  \n",
                        "0   C:\\Users\\abugrzka\\Projects\\hiesab\\reservoirflo...  \n",
                        "1   C:\\Users\\abugrzka\\Projects\\hiesab\\reservoirflo...  \n",
                        "2          {method 'copy' of 'numpy.ndarray' objects}  \n",
                        "3   c:\\Users\\abugrzka\\Projects\\hiesab\\reservoirflo...  \n",
                        "4   c:\\Users\\abugrzka\\Projects\\hiesab\\reservoirflo...  \n",
                        "..                                                ...  \n",
                        "62  c:\\Users\\abugrzka\\Projects\\hiesab\\reservoirflo...  \n",
                        "63  c:\\Users\\abugrzka\\Projects\\hiesab\\reservoirflo...  \n",
                        "64  c:\\Users\\abugrzka\\Projects\\hiesab\\reservoirflo...  \n",
                        "65  c:\\Users\\abugrzka\\Projects\\hiesab\\reservoirflo...  \n",
                        "66  c:\\Users\\abugrzka\\Projects\\hiesab\\reservoirflo...  \n",
                        "\n",
                        "[67 rows x 6 columns]\n"
                    ]
                },
                {
                    "data": {
                        "text/plain": [
                            "(array([[[0.000e+00, 1.500e+02],\n",
                            "         [0.000e+00, 4.500e+02],\n",
                            "         [0.000e+00, 7.500e+02],\n",
                            "         ...,\n",
                            "         [0.000e+00, 3.015e+04],\n",
                            "         [0.000e+00, 3.045e+04],\n",
                            "         [0.000e+00, 3.075e+04]],\n",
                            " \n",
                            "        [[1.000e+00, 1.500e+02],\n",
                            "         [1.000e+00, 4.500e+02],\n",
                            "         [1.000e+00, 7.500e+02],\n",
                            "         ...,\n",
                            "         [1.000e+00, 3.015e+04],\n",
                            "         [1.000e+00, 3.045e+04],\n",
                            "         [1.000e+00, 3.075e+04]],\n",
                            " \n",
                            "        [[2.000e+00, 1.500e+02],\n",
                            "         [2.000e+00, 4.500e+02],\n",
                            "         [2.000e+00, 7.500e+02],\n",
                            "         ...,\n",
                            "         [2.000e+00, 3.015e+04],\n",
                            "         [2.000e+00, 3.045e+04],\n",
                            "         [2.000e+00, 3.075e+04]],\n",
                            " \n",
                            "        ...,\n",
                            " \n",
                            "        [[9.800e+01, 1.500e+02],\n",
                            "         [9.800e+01, 4.500e+02],\n",
                            "         [9.800e+01, 7.500e+02],\n",
                            "         ...,\n",
                            "         [9.800e+01, 3.015e+04],\n",
                            "         [9.800e+01, 3.045e+04],\n",
                            "         [9.800e+01, 3.075e+04]],\n",
                            " \n",
                            "        [[9.900e+01, 1.500e+02],\n",
                            "         [9.900e+01, 4.500e+02],\n",
                            "         [9.900e+01, 7.500e+02],\n",
                            "         ...,\n",
                            "         [9.900e+01, 3.015e+04],\n",
                            "         [9.900e+01, 3.045e+04],\n",
                            "         [9.900e+01, 3.075e+04]],\n",
                            " \n",
                            "        [[1.000e+02, 1.500e+02],\n",
                            "         [1.000e+02, 4.500e+02],\n",
                            "         [1.000e+02, 7.500e+02],\n",
                            "         ...,\n",
                            "         [1.000e+02, 3.015e+04],\n",
                            "         [1.000e+02, 3.045e+04],\n",
                            "         [1.000e+02, 3.075e+04]]]),\n",
                            " array([[4000.        , 4000.        , 4000.        , ..., 3989.27771411,\n",
                            "         3950.1025607 , 1000.        ],\n",
                            "        [4000.        , 4000.        , 4000.        , ..., 3989.27771411,\n",
                            "         3950.1025607 , 1000.        ],\n",
                            "        [4000.        , 4000.        , 4000.        , ..., 3989.27771411,\n",
                            "         3950.1025607 , 1000.        ],\n",
                            "        ...,\n",
                            "        [4000.        , 3987.62120047, 3975.22754443, ..., 1094.710814  ,\n",
                            "         1047.36457992, 1000.        ],\n",
                            "        [4000.        , 3987.62120047, 3975.22754443, ..., 1094.710814  ,\n",
                            "         1047.36457992, 1000.        ],\n",
                            "        [4000.        , 3987.62120047, 3975.22754443, ..., 1094.710814  ,\n",
                            "         1047.36457992, 1000.        ]]))"
                        ]
                    },
                    "execution_count": 7,
                    "metadata": {},
                    "output_type": "execute_result"
                }
            ],
            "source": [
                "model.solution.calc_solution()"
            ]
        },
        {
            "cell_type": "code",
            "execution_count": null,
            "metadata": {},
            "outputs": [],
            "source": []
        },
        {
            "cell_type": "code",
            "execution_count": null,
            "metadata": {},
            "outputs": [],
            "source": []
        },
        {
            "cell_type": "code",
            "execution_count": 8,
            "metadata": {},
            "outputs": [
                {
                    "name": "stdout",
                    "output_type": "stream",
                    "text": [
                        "Help on method run in module reservoirflow.solutions.analytical.d1p1:\n",
                        "\n",
                        "run(nsteps=10, threading=True, vectorize=True, check_MB=True, print_arrays=False, isolver=None) method of reservoirflow.solutions.analytical.d1p1.D1P1 instance\n",
                        "    Solve multiple timesteps.\n",
                        "    \n",
                        "    .. attention::\n",
                        "        This is an abstract method.\n",
                        "\n"
                    ]
                }
            ],
            "source": [
                "help(model.run)"
            ]
        },
        {
            "cell_type": "code",
            "execution_count": 9,
            "metadata": {},
            "outputs": [
                {
                    "name": "stdout",
                    "output_type": "stream",
                    "text": [
                        "[info] Simulation run started: 100 timesteps.\n"
                    ]
                },
                {
                    "name": "stderr",
                    "output_type": "stream",
                    "text": [
                        "[step] 1:   0%|\u001b[32m          \u001b[0m| 0/100 [00:00<?, ?steps/s]\n"
                    ]
                },
                {
                    "ename": "TypeError",
                    "evalue": "D1P1.solve() takes 1 positional argument but 7 were given",
                    "output_type": "error",
                    "traceback": [
                        "\u001b[1;31m---------------------------------------------------------------------------\u001b[0m",
                        "\u001b[1;31mTypeError\u001b[0m                                 Traceback (most recent call last)",
                        "Cell \u001b[1;32mIn[9], line 1\u001b[0m\n\u001b[1;32m----> 1\u001b[0m \u001b[43mmodel\u001b[49m\u001b[38;5;241;43m.\u001b[39;49m\u001b[43mrun\u001b[49m\u001b[43m(\u001b[49m\u001b[38;5;241;43m*\u001b[39;49m\u001b[38;5;241;43m*\u001b[39;49m\u001b[43mrun_config\u001b[49m\u001b[43m)\u001b[49m\n",
                        "File \u001b[1;32m~\\Projects\\hiesab\\reservoirflow\\reservoirflow\\solutions\\analytical\\d1p1.py:124\u001b[0m, in \u001b[0;36mD1P1.run\u001b[1;34m(self, nsteps, threading, vectorize, check_MB, print_arrays, isolver)\u001b[0m\n\u001b[0;32m    122\u001b[0m \u001b[38;5;28;01mfor\u001b[39;00m step \u001b[38;5;129;01min\u001b[39;00m pbar:\n\u001b[0;32m    123\u001b[0m     pbar\u001b[38;5;241m.\u001b[39mset_description(\u001b[38;5;124mf\u001b[39m\u001b[38;5;124m\"\u001b[39m\u001b[38;5;124m[step] \u001b[39m\u001b[38;5;132;01m{\u001b[39;00mstep\u001b[38;5;132;01m}\u001b[39;00m\u001b[38;5;124m\"\u001b[39m)\n\u001b[1;32m--> 124\u001b[0m     \u001b[38;5;28;43mself\u001b[39;49m\u001b[38;5;241;43m.\u001b[39;49m\u001b[43msolve\u001b[49m\u001b[43m(\u001b[49m\n\u001b[0;32m    125\u001b[0m \u001b[43m        \u001b[49m\u001b[43mthreading\u001b[49m\u001b[43m,\u001b[49m\n\u001b[0;32m    126\u001b[0m \u001b[43m        \u001b[49m\u001b[43mvectorize\u001b[49m\u001b[43m,\u001b[49m\n\u001b[0;32m    127\u001b[0m \u001b[43m        \u001b[49m\u001b[43mcheck_MB\u001b[49m\u001b[43m,\u001b[49m\n\u001b[0;32m    128\u001b[0m \u001b[43m        \u001b[49m\u001b[38;5;28;43;01mTrue\u001b[39;49;00m\u001b[43m,\u001b[49m\n\u001b[0;32m    129\u001b[0m \u001b[43m        \u001b[49m\u001b[43mprint_arrays\u001b[49m\u001b[43m,\u001b[49m\n\u001b[0;32m    130\u001b[0m \u001b[43m        \u001b[49m\u001b[43misolver\u001b[49m\u001b[43m,\u001b[49m\n\u001b[0;32m    131\u001b[0m \u001b[43m    \u001b[49m\u001b[43m)\u001b[49m\n\u001b[0;32m    133\u001b[0m \u001b[38;5;28mself\u001b[39m\u001b[38;5;241m.\u001b[39mrun_ctime \u001b[38;5;241m=\u001b[39m \u001b[38;5;28mround\u001b[39m(time\u001b[38;5;241m.\u001b[39mtime() \u001b[38;5;241m-\u001b[39m start_time, \u001b[38;5;241m2\u001b[39m)\n\u001b[0;32m    134\u001b[0m \u001b[38;5;28mself\u001b[39m\u001b[38;5;241m.\u001b[39mmodel\u001b[38;5;241m.\u001b[39mctime \u001b[38;5;241m+\u001b[39m\u001b[38;5;241m=\u001b[39m \u001b[38;5;28mself\u001b[39m\u001b[38;5;241m.\u001b[39mrun_ctime\n",
                        "\u001b[1;31mTypeError\u001b[0m: D1P1.solve() takes 1 positional argument but 7 were given"
                    ]
                }
            ],
            "source": [
                "model.run(**run_config)"
            ]
        },
        {
            "cell_type": "code",
            "execution_count": null,
            "metadata": {},
            "outputs": [],
            "source": [
                "import numpy as np\n",
                "\n",
                "\n",
                "def logarithmic_scaling(x, min_range, max_range, c=1):\n",
                "    scaled_value = (\n",
                "        (np.log(x + c) - np.log(X.min() + c))\n",
                "        / (np.log(X.max() + c) - np.log(X.min() + c))\n",
                "    ) * (max_range - min_range) + min_range\n",
                "    return scaled_value\n",
                "\n",
                "\n",
                "# Example usage\n",
                "X = np.array([1, 10, 100, 1000])\n",
                "\n",
                "min_range = 0  # Replace with your desired minimum range\n",
                "max_range = 1  # Replace with your desired maximum range\n",
                "\n",
                "scaled_X = logarithmic_scaling(X, min_range, max_range)\n",
                "\n",
                "print(scaled_X)\n",
                "\n",
                "\n",
                "def inverse_logarithmic_scaling(scaled_value, min_range, max_range, c=1):\n",
                "    original_value = (\n",
                "        np.exp(\n",
                "            (\n",
                "                (scaled_value - min_range)\n",
                "                * (np.log(X.max() + c) - np.log(X.min() + c))\n",
                "                / (max_range - min_range)\n",
                "            )\n",
                "            + np.log(X.min() + c)\n",
                "        )\n",
                "        - c\n",
                "    )\n",
                "    return original_value\n",
                "\n",
                "\n",
                "# Example usage\n",
                "scaled_X = np.array([0, 0.5, 0.8, 1])  # Replace with your scaled values\n",
                "min_range = 0  # Replace with your specified minimum range\n",
                "max_range = 1  # Replace with your specified maximum range\n",
                "\n",
                "original_X = inverse_logarithmic_scaling(scaled_X, min_range, max_range)\n",
                "\n",
                "print(original_X)"
            ]
        },
        {
            "cell_type": "code",
            "execution_count": null,
            "metadata": {},
            "outputs": [],
            "source": []
        },
        {
            "cell_type": "code",
            "execution_count": null,
            "metadata": {},
            "outputs": [],
            "source": []
        },
        {
            "cell_type": "code",
            "execution_count": null,
            "metadata": {},
            "outputs": [],
            "source": []
        },
        {
            "cell_type": "code",
            "execution_count": null,
            "metadata": {},
            "outputs": [],
            "source": []
        },
        {
            "cell_type": "markdown",
            "metadata": {
                "tags": [
                    "remove-input"
                ]
            },
            "source": [
                "```{include} /_static/comments_section.md\n",
                "```"
            ]
        }
    ],
    "metadata": {
        "kernelspec": {
            "display_name": ".venv",
            "language": "python",
            "name": "python3"
        },
        "language_info": {
            "codemirror_mode": {
                "name": "ipython",
                "version": 3
            },
            "file_extension": ".py",
            "mimetype": "text/x-python",
            "name": "python",
            "nbconvert_exporter": "python",
            "pygments_lexer": "ipython3",
            "version": "3.11.9"
        },
        "orig_nbformat": 4
    },
    "nbformat": 4,
    "nbformat_minor": 2
}
