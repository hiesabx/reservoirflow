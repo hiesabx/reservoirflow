{
 "cells": [
  {
   "cell_type": "markdown",
   "metadata": {},
   "source": [
    "# Understand `scalers` Module\n",
    "\n",
    "<!-- [![Open in Colab](https://colab.research.google.com/assets/colab-badge.svg)](https://drive.google.com/file/d/1l5wLmnIiH1DBJqo5vjPHLa9-WPaX8ZAv/view?usp=drive_link) -->\n",
    "\n",
    "*Author: Zakariya Abugrin | Date: May 2025*"
   ]
  },
  {
   "cell_type": "markdown",
   "metadata": {},
   "source": [
    "## Introduction\n",
    "\n",
    "In this tutorial, we will see how the `scalers` module can be used to scale the simulation results which can be obtained as a `DataFrame` using [`model.get_df()`](/api/reservoirflow.models.BlackOil.get_df.html#reservoirflow.models.BlackOil.get_df). "
   ]
  },
  {
   "cell_type": "markdown",
   "metadata": {},
   "source": [
    "## Import `reservoirflow`\n",
    "\n",
    "We start with importing `reservoirflow` as `rf`. The abbreviation `rf` refers to `reservoirflow` where all modules under this library can be accessed. `rf` is also used throughout the [documentation](/api/API.html). We recommend our users to stick with this convention."
   ]
  },
  {
   "cell_type": "code",
   "execution_count": 1,
   "metadata": {},
   "outputs": [
    {
     "name": "stdout",
     "output_type": "stream",
     "text": [
      "0.1.0b1\n"
     ]
    }
   ],
   "source": [
    "import numpy as np\n",
    "import reservoirflow as rf\n",
    "\n",
    "print(rf.__version__)"
   ]
  },
  {
   "cell_type": "markdown",
   "metadata": {},
   "source": [
    "## Simple Example"
   ]
  },
  {
   "cell_type": "markdown",
   "metadata": {},
   "source": [
    "Let's say we have a vector of values between 0 and 100 with 10 as a step size. This might represent the time dimension of our simulation run. This vector can be created using `numpy` as following:"
   ]
  },
  {
   "cell_type": "code",
   "execution_count": 2,
   "metadata": {},
   "outputs": [
    {
     "data": {
      "text/plain": [
       "array([  0,  10,  20,  30,  40,  50,  60,  70,  80,  90, 100])"
      ]
     },
     "execution_count": 2,
     "metadata": {},
     "output_type": "execute_result"
    }
   ],
   "source": [
    "t = np.arange(0, 101, 10)\n",
    "t"
   ]
  },
  {
   "cell_type": "markdown",
   "metadata": {},
   "source": [
    "Now, we would like to scale these values between -1 and 1. Then we can just use `MinMax` scaler as following: "
   ]
  },
  {
   "cell_type": "code",
   "execution_count": 3,
   "metadata": {},
   "outputs": [
    {
     "data": {
      "text/plain": [
       "array([-1. , -0.8, -0.6, -0.4, -0.2,  0. ,  0.2,  0.4,  0.6,  0.8,  1. ])"
      ]
     },
     "execution_count": 3,
     "metadata": {},
     "output_type": "execute_result"
    }
   ],
   "source": [
    "rf.scalers.MinMax((-1, 1)).fit_transform(t, axis=0)"
   ]
  },
  {
   "cell_type": "markdown",
   "metadata": {},
   "source": [
    "```{important}\n",
    "For a vector of values, either vertical or horizontal, ``axis=0`` is required and is the default behavior. For more information, check the [documentation](/api/reservoirflow.scalers.MinMax.fit_transform.html#reservoirflow.scalers.MinMax.fit_transform)\n",
    "```"
   ]
  },
  {
   "cell_type": "markdown",
   "metadata": {},
   "source": [
    "The same applies if we reshape this vector to a vertical vector using `t.reshape(-1, 1)` but now we try to scale between 0 and 1: "
   ]
  },
  {
   "cell_type": "code",
   "execution_count": 4,
   "metadata": {},
   "outputs": [
    {
     "data": {
      "text/plain": [
       "array([[0. ],\n",
       "       [0.1],\n",
       "       [0.2],\n",
       "       [0.3],\n",
       "       [0.4],\n",
       "       [0.5],\n",
       "       [0.6],\n",
       "       [0.7],\n",
       "       [0.8],\n",
       "       [0.9],\n",
       "       [1. ]])"
      ]
     },
     "execution_count": 4,
     "metadata": {},
     "output_type": "execute_result"
    }
   ],
   "source": [
    "rf.scalers.MinMax((0, 1)).fit_transform(t.reshape(-1, 1), axis=0)"
   ]
  },
  {
   "cell_type": "markdown",
   "metadata": {},
   "source": [
    "Let's say now we have a two-dimensional array with two features for time (`t`) and space (`x`) as following:"
   ]
  },
  {
   "cell_type": "code",
   "execution_count": 5,
   "metadata": {},
   "outputs": [
    {
     "data": {
      "text/plain": [
       "array([[   0,  100],\n",
       "       [  10,  200],\n",
       "       [  20,  300],\n",
       "       [  30,  400],\n",
       "       [  40,  500],\n",
       "       [  50,  600],\n",
       "       [  60,  700],\n",
       "       [  70,  800],\n",
       "       [  80,  900],\n",
       "       [  90, 1000],\n",
       "       [ 100, 1100]])"
      ]
     },
     "execution_count": 5,
     "metadata": {},
     "output_type": "execute_result"
    }
   ],
   "source": [
    "t = np.arange(0, 101, 10).reshape(-1, 1)\n",
    "x = np.arange(100, 1101, 100).reshape(-1, 1)\n",
    "a = np.concatenate([t, x], axis=1)\n",
    "a"
   ]
  },
  {
   "cell_type": "markdown",
   "metadata": {},
   "source": [
    "Now, we can scale each feature individually between 0 and 1 by setting `axis=0` as following:"
   ]
  },
  {
   "cell_type": "code",
   "execution_count": 6,
   "metadata": {},
   "outputs": [
    {
     "data": {
      "text/plain": [
       "array([[0. , 0. ],\n",
       "       [0.1, 0.1],\n",
       "       [0.2, 0.2],\n",
       "       [0.3, 0.3],\n",
       "       [0.4, 0.4],\n",
       "       [0.5, 0.5],\n",
       "       [0.6, 0.6],\n",
       "       [0.7, 0.7],\n",
       "       [0.8, 0.8],\n",
       "       [0.9, 0.9],\n",
       "       [1. , 1. ]])"
      ]
     },
     "execution_count": 6,
     "metadata": {},
     "output_type": "execute_result"
    }
   ],
   "source": [
    "rf.scalers.MinMax((0, 1)).fit_transform(a, axis=0)"
   ]
  },
  {
   "cell_type": "markdown",
   "metadata": {},
   "source": [
    "To be able to `transfrom` (i.e. scale) and then `inverse_transform` (i.e. descale), a scaler must be created:"
   ]
  },
  {
   "cell_type": "code",
   "execution_count": 7,
   "metadata": {},
   "outputs": [],
   "source": [
    "scaler = rf.scalers.MinMax((0, 1))\n",
    "a_scaled = scaler.fit_transform(a, axis=0)"
   ]
  },
  {
   "cell_type": "markdown",
   "metadata": {},
   "source": [
    "\n",
    "Now, we can use the same scaler to inverse transform the original scale: "
   ]
  },
  {
   "cell_type": "code",
   "execution_count": 8,
   "metadata": {},
   "outputs": [
    {
     "data": {
      "text/plain": [
       "array([[   0.,  100.],\n",
       "       [  10.,  200.],\n",
       "       [  20.,  300.],\n",
       "       [  30.,  400.],\n",
       "       [  40.,  500.],\n",
       "       [  50.,  600.],\n",
       "       [  60.,  700.],\n",
       "       [  70.,  800.],\n",
       "       [  80.,  900.],\n",
       "       [  90., 1000.],\n",
       "       [ 100., 1100.]])"
      ]
     },
     "execution_count": 8,
     "metadata": {},
     "output_type": "execute_result"
    }
   ],
   "source": [
    "a_descaled = scaler.inverse_transform(a_scaled)\n",
    "a_descaled"
   ]
  },
  {
   "cell_type": "markdown",
   "metadata": {},
   "source": [
    "```{note}\n",
    "Similarly, the simulation run values use ``transform`` and ``inverse_transform``, to transform values using ``scalers`` module. \n",
    "```\n",
    "\n",
    "Now, we try to see how these scalers can be using for a `Model` class in `reservoirflow`."
   ]
  },
  {
   "cell_type": "markdown",
   "metadata": {},
   "source": [
    "## Build a model\n",
    "\n",
    "A reservoir simulation model requires two objects: `Grid` and `Fluid`. The function below `create_model()` starts by creating these objects which are used to initiate a `Model` object using [`BlackOil`](/api/reservoirflow.models.BlackOil.html) class. "
   ]
  },
  {
   "cell_type": "code",
   "execution_count": 9,
   "metadata": {},
   "outputs": [],
   "source": [
    "def create_model():\n",
    "    # Grid:\n",
    "    grid = rf.grids.RegularCartesian(\n",
    "        nx=3,\n",
    "        ny=1,\n",
    "        nz=1,\n",
    "        dx=300,\n",
    "        dy=350,\n",
    "        dz=20,\n",
    "        phi=0.27,\n",
    "        kx=1,\n",
    "        ky=1,  # not needed because flow direction is only x\n",
    "        kz=0.1,  # not needed because flow direction is only x\n",
    "        comp=1 * 10**-6,\n",
    "        dtype=\"double\",\n",
    "    )\n",
    "    # Fluid:\n",
    "    fluid = rf.fluids.SinglePhase(\n",
    "        mu=0.5, B=1, rho=50, comp=1 * 10**-5, dtype=\"double\"\n",
    "    )\n",
    "    # Model:\n",
    "    model = rf.models.BlackOil(\n",
    "        grid, fluid, pi=6000, dt=5, start_date=\"10.10.2018\", dtype=\"double\"\n",
    "    )\n",
    "    # Production well at the first cell:\n",
    "    model.set_well(cell_id=1, q=-300, pwf=100, s=1.5, r=3.5)\n",
    "\n",
    "    # Injection well at the last cell:\n",
    "    model.set_well(cell_id=3, q=100, s=0, r=3.5)\n",
    "\n",
    "    return model\n",
    "\n",
    "\n",
    "model = create_model()"
   ]
  },
  {
   "cell_type": "markdown",
   "metadata": {},
   "source": [
    "## Compile the model\n",
    "\n",
    "Before you can run the model, you need to compile a solution for it. By compiling a solution, you actually decide the solution you want to use for your model. Interestingly, `reservoirflow` provides multiple solutions for the same model based on your configuration. \n",
    "\n",
    "```{hint}\n",
    "Compiling solutions is the most interesting idea introduced in ``reservoirflow`` which allows to solve the same model using different solutions so we can compare them with each other and/or combine them together.\n",
    "```\n",
    "\n",
    "Currently, a `numerical` solution based on Finite-Difference-Method (`FDM`) is available. There are two modes available under this solution which are `vectorized` and `symbolized`. In addition, you can also select a solver which can be `direct`, `iterative`, or `neurical`. Developing solvers based on neural-networks is also a new idea introduced by ``reservoirflow``. You can read more about the available solution in the [documentation](/api/reservoirflow.solutions.html).\n",
    "\n",
    "```{tip}\n",
    "Use ``vectorized`` mode for better performance especially when you have a large model. Use ``symbolized`` mode only to see how the equations of the linear equation system are built which might be very useful for small models. Use ``direct`` for a lower computing errors as long as ``iterative`` does not offer any additional performance boost. For now, ``neurical`` solvers remains one of our research topics.\n",
    "```\n",
    "\n",
    "Below, we compile our model using a `numerical` solution based on `FDM` using `vectorized` mode and `direct` solver."
   ]
  },
  {
   "cell_type": "code",
   "execution_count": 10,
   "metadata": {},
   "outputs": [
    {
     "name": "stdout",
     "output_type": "stream",
     "text": [
      "[info] FDM was assigned as model.solution.\n"
     ]
    }
   ],
   "source": [
    "model.compile(stype=\"numerical\", method=\"FDM\")"
   ]
  },
  {
   "cell_type": "markdown",
   "metadata": {},
   "source": [
    "## Simulation Run\n",
    "\n",
    "To perform the simulation run, method [model.run()](/api/reservoirflow.models.BlackOil.run.html#reservoirflow.models.BlackOil.run) can be used. The code below performs a simulation run for `nsteps=10` (i.e. number of steps) and using `isolver=cgs`: "
   ]
  },
  {
   "cell_type": "code",
   "execution_count": 11,
   "metadata": {},
   "outputs": [
    {
     "name": "stdout",
     "output_type": "stream",
     "text": [
      "[info] Simulation run started: 10 timesteps.\n"
     ]
    },
    {
     "name": "stderr",
     "output_type": "stream",
     "text": [
      "[step] 10: 100%|\u001b[32m██████████\u001b[0m| 10/10 [00:00<00:00, 152.34steps/s]"
     ]
    },
    {
     "name": "stdout",
     "output_type": "stream",
     "text": [
      "[info] Simulation run of 10 steps finished in 0.08 seconds.\n",
      "[info] Material Balance Error: 1.2878587085651816e-14.\n"
     ]
    },
    {
     "name": "stderr",
     "output_type": "stream",
     "text": [
      "\n"
     ]
    }
   ],
   "source": [
    "model.run(nsteps=10, isolver=\"cgs\")"
   ]
  },
  {
   "cell_type": "markdown",
   "metadata": {},
   "source": [
    "## Show results as pandas data frame\n",
    "\n",
    "The results of the Simulation run can be accessed as a pandas `DateFrame` using `get_df()` method. You can select `columns` and `scale` values. For more information, check the [documentation](/api/reservoirflow.models.BlackOil.get_df.html#reservoirflow.models.BlackOil.get_df). Using this function with the default settings: "
   ]
  },
  {
   "cell_type": "code",
   "execution_count": 12,
   "metadata": {},
   "outputs": [
    {
     "data": {
      "text/html": [
       "<div>\n",
       "<style scoped>\n",
       "    .dataframe tbody tr th:only-of-type {\n",
       "        vertical-align: middle;\n",
       "    }\n",
       "\n",
       "    .dataframe tbody tr th {\n",
       "        vertical-align: top;\n",
       "    }\n",
       "\n",
       "    .dataframe thead th {\n",
       "        text-align: right;\n",
       "    }\n",
       "</style>\n",
       "<table border=\"1\" class=\"dataframe\">\n",
       "  <thead>\n",
       "    <tr style=\"text-align: right;\">\n",
       "      <th></th>\n",
       "      <th>Time [days]</th>\n",
       "      <th>Q1 [stb/day]</th>\n",
       "      <th>Q3 [stb/day]</th>\n",
       "      <th>P1 [psia]</th>\n",
       "      <th>P2 [psia]</th>\n",
       "      <th>P3 [psia]</th>\n",
       "      <th>Qw1 [stb/day]</th>\n",
       "      <th>Qw3 [stb/day]</th>\n",
       "      <th>Pwf1 [psia]</th>\n",
       "      <th>Pwf3 [psia]</th>\n",
       "    </tr>\n",
       "    <tr>\n",
       "      <th>Step</th>\n",
       "      <th></th>\n",
       "      <th></th>\n",
       "      <th></th>\n",
       "      <th></th>\n",
       "      <th></th>\n",
       "      <th></th>\n",
       "      <th></th>\n",
       "      <th></th>\n",
       "      <th></th>\n",
       "      <th></th>\n",
       "    </tr>\n",
       "  </thead>\n",
       "  <tbody>\n",
       "    <tr>\n",
       "      <th>0</th>\n",
       "      <td>0</td>\n",
       "      <td>0.000000</td>\n",
       "      <td>0.0</td>\n",
       "      <td>6000.000000</td>\n",
       "      <td>6000.000000</td>\n",
       "      <td>6000.000000</td>\n",
       "      <td>0.000000</td>\n",
       "      <td>0.0</td>\n",
       "      <td>6000.0</td>\n",
       "      <td>6000.000000</td>\n",
       "    </tr>\n",
       "    <tr>\n",
       "      <th>1</th>\n",
       "      <td>5</td>\n",
       "      <td>-210.261660</td>\n",
       "      <td>100.0</td>\n",
       "      <td>5221.608107</td>\n",
       "      <td>5931.302823</td>\n",
       "      <td>6350.798192</td>\n",
       "      <td>-210.261660</td>\n",
       "      <td>100.0</td>\n",
       "      <td>100.0</td>\n",
       "      <td>8257.049147</td>\n",
       "    </tr>\n",
       "    <tr>\n",
       "      <th>2</th>\n",
       "      <td>10</td>\n",
       "      <td>-187.135552</td>\n",
       "      <td>100.0</td>\n",
       "      <td>4658.296354</td>\n",
       "      <td>5836.844343</td>\n",
       "      <td>6616.368821</td>\n",
       "      <td>-187.135552</td>\n",
       "      <td>100.0</td>\n",
       "      <td>100.0</td>\n",
       "      <td>8522.619775</td>\n",
       "    </tr>\n",
       "    <tr>\n",
       "      <th>3</th>\n",
       "      <td>15</td>\n",
       "      <td>-170.190252</td>\n",
       "      <td>100.0</td>\n",
       "      <td>4245.538359</td>\n",
       "      <td>5737.879854</td>\n",
       "      <td>6812.162975</td>\n",
       "      <td>-170.190252</td>\n",
       "      <td>100.0</td>\n",
       "      <td>100.0</td>\n",
       "      <td>8718.413930</td>\n",
       "    </tr>\n",
       "    <tr>\n",
       "      <th>4</th>\n",
       "      <td>20</td>\n",
       "      <td>-157.628510</td>\n",
       "      <td>100.0</td>\n",
       "      <td>3939.556180</td>\n",
       "      <td>5644.106976</td>\n",
       "      <td>6952.530464</td>\n",
       "      <td>-157.628510</td>\n",
       "      <td>100.0</td>\n",
       "      <td>100.0</td>\n",
       "      <td>8858.781419</td>\n",
       "    </tr>\n",
       "    <tr>\n",
       "      <th>5</th>\n",
       "      <td>25</td>\n",
       "      <td>-148.213227</td>\n",
       "      <td>100.0</td>\n",
       "      <td>3710.216276</td>\n",
       "      <td>5559.252778</td>\n",
       "      <td>7049.748448</td>\n",
       "      <td>-148.213227</td>\n",
       "      <td>100.0</td>\n",
       "      <td>100.0</td>\n",
       "      <td>8955.999403</td>\n",
       "    </tr>\n",
       "    <tr>\n",
       "      <th>6</th>\n",
       "      <td>30</td>\n",
       "      <td>-141.073776</td>\n",
       "      <td>100.0</td>\n",
       "      <td>3536.311663</td>\n",
       "      <td>5484.032614</td>\n",
       "      <td>7113.998988</td>\n",
       "      <td>-141.073776</td>\n",
       "      <td>100.0</td>\n",
       "      <td>100.0</td>\n",
       "      <td>9020.249943</td>\n",
       "    </tr>\n",
       "    <tr>\n",
       "      <th>7</th>\n",
       "      <td>35</td>\n",
       "      <td>-135.598989</td>\n",
       "      <td>100.0</td>\n",
       "      <td>3402.955378</td>\n",
       "      <td>5417.869131</td>\n",
       "      <td>7153.286692</td>\n",
       "      <td>-135.598989</td>\n",
       "      <td>100.0</td>\n",
       "      <td>100.0</td>\n",
       "      <td>9059.537647</td>\n",
       "    </tr>\n",
       "    <tr>\n",
       "      <th>8</th>\n",
       "      <td>40</td>\n",
       "      <td>-131.349563</td>\n",
       "      <td>100.0</td>\n",
       "      <td>3299.446752</td>\n",
       "      <td>5359.648972</td>\n",
       "      <td>7173.910200</td>\n",
       "      <td>-131.349563</td>\n",
       "      <td>100.0</td>\n",
       "      <td>100.0</td>\n",
       "      <td>9080.161155</td>\n",
       "    </tr>\n",
       "    <tr>\n",
       "      <th>9</th>\n",
       "      <td>45</td>\n",
       "      <td>-128.008139</td>\n",
       "      <td>100.0</td>\n",
       "      <td>3218.055478</td>\n",
       "      <td>5308.155398</td>\n",
       "      <td>7180.729618</td>\n",
       "      <td>-128.008139</td>\n",
       "      <td>100.0</td>\n",
       "      <td>100.0</td>\n",
       "      <td>9086.980573</td>\n",
       "    </tr>\n",
       "    <tr>\n",
       "      <th>10</th>\n",
       "      <td>50</td>\n",
       "      <td>-125.343714</td>\n",
       "      <td>100.0</td>\n",
       "      <td>3153.154729</td>\n",
       "      <td>5262.255139</td>\n",
       "      <td>7177.457846</td>\n",
       "      <td>-125.343714</td>\n",
       "      <td>100.0</td>\n",
       "      <td>100.0</td>\n",
       "      <td>9083.708800</td>\n",
       "    </tr>\n",
       "  </tbody>\n",
       "</table>\n",
       "</div>"
      ],
      "text/plain": [
       "      Time [days]  Q1 [stb/day]  Q3 [stb/day]    P1 [psia]    P2 [psia]  \\\n",
       "Step                                                                      \n",
       "0               0      0.000000           0.0  6000.000000  6000.000000   \n",
       "1               5   -210.261660         100.0  5221.608107  5931.302823   \n",
       "2              10   -187.135552         100.0  4658.296354  5836.844343   \n",
       "3              15   -170.190252         100.0  4245.538359  5737.879854   \n",
       "4              20   -157.628510         100.0  3939.556180  5644.106976   \n",
       "5              25   -148.213227         100.0  3710.216276  5559.252778   \n",
       "6              30   -141.073776         100.0  3536.311663  5484.032614   \n",
       "7              35   -135.598989         100.0  3402.955378  5417.869131   \n",
       "8              40   -131.349563         100.0  3299.446752  5359.648972   \n",
       "9              45   -128.008139         100.0  3218.055478  5308.155398   \n",
       "10             50   -125.343714         100.0  3153.154729  5262.255139   \n",
       "\n",
       "        P3 [psia]  Qw1 [stb/day]  Qw3 [stb/day]  Pwf1 [psia]  Pwf3 [psia]  \n",
       "Step                                                                       \n",
       "0     6000.000000       0.000000            0.0       6000.0  6000.000000  \n",
       "1     6350.798192    -210.261660          100.0        100.0  8257.049147  \n",
       "2     6616.368821    -187.135552          100.0        100.0  8522.619775  \n",
       "3     6812.162975    -170.190252          100.0        100.0  8718.413930  \n",
       "4     6952.530464    -157.628510          100.0        100.0  8858.781419  \n",
       "5     7049.748448    -148.213227          100.0        100.0  8955.999403  \n",
       "6     7113.998988    -141.073776          100.0        100.0  9020.249943  \n",
       "7     7153.286692    -135.598989          100.0        100.0  9059.537647  \n",
       "8     7173.910200    -131.349563          100.0        100.0  9080.161155  \n",
       "9     7180.729618    -128.008139          100.0        100.0  9086.980573  \n",
       "10    7177.457846    -125.343714          100.0        100.0  9083.708800  "
      ]
     },
     "execution_count": 12,
     "metadata": {},
     "output_type": "execute_result"
    }
   ],
   "source": [
    "model.get_df(\n",
    "    columns=[\"time\", \"cells\", \"wells\"],\n",
    "    scale=False,\n",
    "    units=True,\n",
    ")"
   ]
  },
  {
   "cell_type": "markdown",
   "metadata": {},
   "source": [
    "```{tip}\n",
    "using `units=True` is not the default behavior but using this setting is useful to keep tracking the units used in the model.\n",
    "```"
   ]
  },
  {
   "cell_type": "markdown",
   "metadata": {},
   "source": [
    "As can be seen above, values are as expected with the corresponding units. However, it is normally required to scale some of these values (e.g. between -1 and 1 or 0 and 1) for different purposes such as comparing the solution with the analytical solution or using the simulation output to train a neural network.\n",
    "\n",
    "When `scale=True` is used then values are scaled based on the settings defined in `model.scalers_dict` which is defined as following:"
   ]
  },
  {
   "cell_type": "code",
   "execution_count": 13,
   "metadata": {},
   "outputs": [
    {
     "data": {
      "text/plain": [
       "{'time': ['MinMax', (0, 1)],\n",
       " 'space': ['MinMax', (-1, 1)],\n",
       " 'pressure': ['MinMax', (-1, 1)],\n",
       " 'rate': [None, None]}"
      ]
     },
     "execution_count": 13,
     "metadata": {},
     "output_type": "execute_result"
    }
   ],
   "source": [
    "model.scalers_dict"
   ]
  },
  {
   "cell_type": "markdown",
   "metadata": {},
   "source": [
    "In this case values are scaled as following:\n",
    "- `'time'`: scaled between 0 and 1 using `MinMax` scaler.\n",
    "- `'space'`: scaled between -1 and 1 using `MinMax` scaler.\n",
    "- `'pressure'`: scaled between -1 and 1 using `MinMax` scaler.\n",
    "- `'rate'`: not scaled.\n",
    "\n",
    "Therefore, using `scale=True` gives:"
   ]
  },
  {
   "cell_type": "code",
   "execution_count": 14,
   "metadata": {},
   "outputs": [
    {
     "data": {
      "text/html": [
       "<div>\n",
       "<style scoped>\n",
       "    .dataframe tbody tr th:only-of-type {\n",
       "        vertical-align: middle;\n",
       "    }\n",
       "\n",
       "    .dataframe tbody tr th {\n",
       "        vertical-align: top;\n",
       "    }\n",
       "\n",
       "    .dataframe thead th {\n",
       "        text-align: right;\n",
       "    }\n",
       "</style>\n",
       "<table border=\"1\" class=\"dataframe\">\n",
       "  <thead>\n",
       "    <tr style=\"text-align: right;\">\n",
       "      <th></th>\n",
       "      <th>Time [scaled]</th>\n",
       "      <th>Q1 [stb/day]</th>\n",
       "      <th>Q3 [stb/day]</th>\n",
       "      <th>P1 [scaled]</th>\n",
       "      <th>P2 [scaled]</th>\n",
       "      <th>P3 [scaled]</th>\n",
       "      <th>Qw1 [stb/day]</th>\n",
       "      <th>Qw3 [stb/day]</th>\n",
       "      <th>Pwf1 [scaled]</th>\n",
       "      <th>Pwf3 [scaled]</th>\n",
       "    </tr>\n",
       "    <tr>\n",
       "      <th>Step</th>\n",
       "      <th></th>\n",
       "      <th></th>\n",
       "      <th></th>\n",
       "      <th></th>\n",
       "      <th></th>\n",
       "      <th></th>\n",
       "      <th></th>\n",
       "      <th></th>\n",
       "      <th></th>\n",
       "      <th></th>\n",
       "    </tr>\n",
       "  </thead>\n",
       "  <tbody>\n",
       "    <tr>\n",
       "      <th>0</th>\n",
       "      <td>0.0</td>\n",
       "      <td>0.000000</td>\n",
       "      <td>0.0</td>\n",
       "      <td>0.413677</td>\n",
       "      <td>0.413677</td>\n",
       "      <td>0.413677</td>\n",
       "      <td>0.000000</td>\n",
       "      <td>0.0</td>\n",
       "      <td>0.413677</td>\n",
       "      <td>0.413677</td>\n",
       "    </tr>\n",
       "    <tr>\n",
       "      <th>1</th>\n",
       "      <td>0.1</td>\n",
       "      <td>-210.261660</td>\n",
       "      <td>100.0</td>\n",
       "      <td>0.027146</td>\n",
       "      <td>0.379564</td>\n",
       "      <td>0.587875</td>\n",
       "      <td>-210.261660</td>\n",
       "      <td>100.0</td>\n",
       "      <td>-2.516126</td>\n",
       "      <td>1.534475</td>\n",
       "    </tr>\n",
       "    <tr>\n",
       "      <th>2</th>\n",
       "      <td>0.2</td>\n",
       "      <td>-187.135552</td>\n",
       "      <td>100.0</td>\n",
       "      <td>-0.252582</td>\n",
       "      <td>0.332658</td>\n",
       "      <td>0.719752</td>\n",
       "      <td>-187.135552</td>\n",
       "      <td>100.0</td>\n",
       "      <td>-2.516126</td>\n",
       "      <td>1.666351</td>\n",
       "    </tr>\n",
       "    <tr>\n",
       "      <th>3</th>\n",
       "      <td>0.3</td>\n",
       "      <td>-170.190252</td>\n",
       "      <td>100.0</td>\n",
       "      <td>-0.457548</td>\n",
       "      <td>0.283514</td>\n",
       "      <td>0.816978</td>\n",
       "      <td>-170.190252</td>\n",
       "      <td>100.0</td>\n",
       "      <td>-2.516126</td>\n",
       "      <td>1.763578</td>\n",
       "    </tr>\n",
       "    <tr>\n",
       "      <th>4</th>\n",
       "      <td>0.4</td>\n",
       "      <td>-157.628510</td>\n",
       "      <td>100.0</td>\n",
       "      <td>-0.609491</td>\n",
       "      <td>0.236949</td>\n",
       "      <td>0.886682</td>\n",
       "      <td>-157.628510</td>\n",
       "      <td>100.0</td>\n",
       "      <td>-2.516126</td>\n",
       "      <td>1.833281</td>\n",
       "    </tr>\n",
       "    <tr>\n",
       "      <th>5</th>\n",
       "      <td>0.5</td>\n",
       "      <td>-148.213227</td>\n",
       "      <td>100.0</td>\n",
       "      <td>-0.723376</td>\n",
       "      <td>0.194812</td>\n",
       "      <td>0.934958</td>\n",
       "      <td>-148.213227</td>\n",
       "      <td>100.0</td>\n",
       "      <td>-2.516126</td>\n",
       "      <td>1.881558</td>\n",
       "    </tr>\n",
       "    <tr>\n",
       "      <th>6</th>\n",
       "      <td>0.6</td>\n",
       "      <td>-141.073776</td>\n",
       "      <td>100.0</td>\n",
       "      <td>-0.809733</td>\n",
       "      <td>0.157460</td>\n",
       "      <td>0.966863</td>\n",
       "      <td>-141.073776</td>\n",
       "      <td>100.0</td>\n",
       "      <td>-2.516126</td>\n",
       "      <td>1.913463</td>\n",
       "    </tr>\n",
       "    <tr>\n",
       "      <th>7</th>\n",
       "      <td>0.7</td>\n",
       "      <td>-135.598989</td>\n",
       "      <td>100.0</td>\n",
       "      <td>-0.875955</td>\n",
       "      <td>0.124604</td>\n",
       "      <td>0.986372</td>\n",
       "      <td>-135.598989</td>\n",
       "      <td>100.0</td>\n",
       "      <td>-2.516126</td>\n",
       "      <td>1.932972</td>\n",
       "    </tr>\n",
       "    <tr>\n",
       "      <th>8</th>\n",
       "      <td>0.8</td>\n",
       "      <td>-131.349563</td>\n",
       "      <td>100.0</td>\n",
       "      <td>-0.927355</td>\n",
       "      <td>0.095694</td>\n",
       "      <td>0.996614</td>\n",
       "      <td>-131.349563</td>\n",
       "      <td>100.0</td>\n",
       "      <td>-2.516126</td>\n",
       "      <td>1.943214</td>\n",
       "    </tr>\n",
       "    <tr>\n",
       "      <th>9</th>\n",
       "      <td>0.9</td>\n",
       "      <td>-128.008139</td>\n",
       "      <td>100.0</td>\n",
       "      <td>-0.967772</td>\n",
       "      <td>0.070123</td>\n",
       "      <td>1.000000</td>\n",
       "      <td>-128.008139</td>\n",
       "      <td>100.0</td>\n",
       "      <td>-2.516126</td>\n",
       "      <td>1.946600</td>\n",
       "    </tr>\n",
       "    <tr>\n",
       "      <th>10</th>\n",
       "      <td>1.0</td>\n",
       "      <td>-125.343714</td>\n",
       "      <td>100.0</td>\n",
       "      <td>-1.000000</td>\n",
       "      <td>0.047330</td>\n",
       "      <td>0.998375</td>\n",
       "      <td>-125.343714</td>\n",
       "      <td>100.0</td>\n",
       "      <td>-2.516126</td>\n",
       "      <td>1.944975</td>\n",
       "    </tr>\n",
       "  </tbody>\n",
       "</table>\n",
       "</div>"
      ],
      "text/plain": [
       "      Time [scaled]  Q1 [stb/day]  Q3 [stb/day]  P1 [scaled]  P2 [scaled]  \\\n",
       "Step                                                                        \n",
       "0               0.0      0.000000           0.0     0.413677     0.413677   \n",
       "1               0.1   -210.261660         100.0     0.027146     0.379564   \n",
       "2               0.2   -187.135552         100.0    -0.252582     0.332658   \n",
       "3               0.3   -170.190252         100.0    -0.457548     0.283514   \n",
       "4               0.4   -157.628510         100.0    -0.609491     0.236949   \n",
       "5               0.5   -148.213227         100.0    -0.723376     0.194812   \n",
       "6               0.6   -141.073776         100.0    -0.809733     0.157460   \n",
       "7               0.7   -135.598989         100.0    -0.875955     0.124604   \n",
       "8               0.8   -131.349563         100.0    -0.927355     0.095694   \n",
       "9               0.9   -128.008139         100.0    -0.967772     0.070123   \n",
       "10              1.0   -125.343714         100.0    -1.000000     0.047330   \n",
       "\n",
       "      P3 [scaled]  Qw1 [stb/day]  Qw3 [stb/day]  Pwf1 [scaled]  Pwf3 [scaled]  \n",
       "Step                                                                           \n",
       "0        0.413677       0.000000            0.0       0.413677       0.413677  \n",
       "1        0.587875    -210.261660          100.0      -2.516126       1.534475  \n",
       "2        0.719752    -187.135552          100.0      -2.516126       1.666351  \n",
       "3        0.816978    -170.190252          100.0      -2.516126       1.763578  \n",
       "4        0.886682    -157.628510          100.0      -2.516126       1.833281  \n",
       "5        0.934958    -148.213227          100.0      -2.516126       1.881558  \n",
       "6        0.966863    -141.073776          100.0      -2.516126       1.913463  \n",
       "7        0.986372    -135.598989          100.0      -2.516126       1.932972  \n",
       "8        0.996614    -131.349563          100.0      -2.516126       1.943214  \n",
       "9        1.000000    -128.008139          100.0      -2.516126       1.946600  \n",
       "10       0.998375    -125.343714          100.0      -2.516126       1.944975  "
      ]
     },
     "execution_count": 14,
     "metadata": {},
     "output_type": "execute_result"
    }
   ],
   "source": [
    "model.get_df(\n",
    "    columns=[\"time\", \"cells\", \"wells\"],\n",
    "    scale=True,\n",
    "    units=True,\n",
    ")"
   ]
  },
  {
   "cell_type": "markdown",
   "metadata": {},
   "source": [
    "```{note}\n",
    "Since rates are not scaled, they are still shown using the original units. On the other hand, pressure values are scaled between -1 and 1 only for cells while values of the bottom-hole following pressure (pwf) are affected by this scaling with values beyond the limits. The reason of such behavior is that normally pwf is not considered to fit the scaler since these values are not part of the PDE solution both analytical or machine learning. \n",
    "```"
   ]
  },
  {
   "cell_type": "markdown",
   "metadata": {},
   "source": [
    "## Custom Scalers\n",
    "\n",
    "You can define your scaling using `set_scalers()` which accepts a dictionary. For more information, check the [documentation](/api/reservoirflow.models.BlackOil.set_scalers.html#reservoirflow.models.BlackOil.set_scalers). \n",
    "\n",
    "The example below defines a time scaling between -10 an 10, while also no scaling for rate: "
   ]
  },
  {
   "cell_type": "code",
   "execution_count": 15,
   "metadata": {},
   "outputs": [
    {
     "data": {
      "text/plain": [
       "{'time': ['MinMax', (-10, 10)],\n",
       " 'space': ['MinMax', (-1, 1)],\n",
       " 'pressure': ['MinMax', (-1, 1)],\n",
       " 'rate': [None, None]}"
      ]
     },
     "execution_count": 15,
     "metadata": {},
     "output_type": "execute_result"
    }
   ],
   "source": [
    "model.set_scalers({\"time\": [\"minmax\", (-10, 10)], \"rate\": [\"MinMax\", None]})\n",
    "model.scalers_dict"
   ]
  },
  {
   "cell_type": "markdown",
   "metadata": {},
   "source": [
    "```{note}\n",
    "Since there was no range defined for `MinMax` in case of `rate`, the scaling for this dimension was set to ``None``. Note also that other dimensions retained the default settings. Therefore, the same function can be used to update a single scaler.\n",
    "```"
   ]
  },
  {
   "cell_type": "code",
   "execution_count": 16,
   "metadata": {},
   "outputs": [
    {
     "data": {
      "text/html": [
       "<div>\n",
       "<style scoped>\n",
       "    .dataframe tbody tr th:only-of-type {\n",
       "        vertical-align: middle;\n",
       "    }\n",
       "\n",
       "    .dataframe tbody tr th {\n",
       "        vertical-align: top;\n",
       "    }\n",
       "\n",
       "    .dataframe thead th {\n",
       "        text-align: right;\n",
       "    }\n",
       "</style>\n",
       "<table border=\"1\" class=\"dataframe\">\n",
       "  <thead>\n",
       "    <tr style=\"text-align: right;\">\n",
       "      <th></th>\n",
       "      <th>Time [scaled]</th>\n",
       "      <th>Q1 [stb/day]</th>\n",
       "      <th>Q3 [stb/day]</th>\n",
       "      <th>P1 [scaled]</th>\n",
       "      <th>P2 [scaled]</th>\n",
       "      <th>P3 [scaled]</th>\n",
       "      <th>Qw1 [stb/day]</th>\n",
       "      <th>Qw3 [stb/day]</th>\n",
       "      <th>Pwf1 [scaled]</th>\n",
       "      <th>Pwf3 [scaled]</th>\n",
       "    </tr>\n",
       "    <tr>\n",
       "      <th>Step</th>\n",
       "      <th></th>\n",
       "      <th></th>\n",
       "      <th></th>\n",
       "      <th></th>\n",
       "      <th></th>\n",
       "      <th></th>\n",
       "      <th></th>\n",
       "      <th></th>\n",
       "      <th></th>\n",
       "      <th></th>\n",
       "    </tr>\n",
       "  </thead>\n",
       "  <tbody>\n",
       "    <tr>\n",
       "      <th>0</th>\n",
       "      <td>-10.0</td>\n",
       "      <td>0.000000</td>\n",
       "      <td>0.0</td>\n",
       "      <td>0.413677</td>\n",
       "      <td>0.413677</td>\n",
       "      <td>0.413677</td>\n",
       "      <td>0.000000</td>\n",
       "      <td>0.0</td>\n",
       "      <td>0.413677</td>\n",
       "      <td>0.413677</td>\n",
       "    </tr>\n",
       "    <tr>\n",
       "      <th>1</th>\n",
       "      <td>-8.0</td>\n",
       "      <td>-210.261660</td>\n",
       "      <td>100.0</td>\n",
       "      <td>0.027146</td>\n",
       "      <td>0.379564</td>\n",
       "      <td>0.587875</td>\n",
       "      <td>-210.261660</td>\n",
       "      <td>100.0</td>\n",
       "      <td>-2.516126</td>\n",
       "      <td>1.534475</td>\n",
       "    </tr>\n",
       "    <tr>\n",
       "      <th>2</th>\n",
       "      <td>-6.0</td>\n",
       "      <td>-187.135552</td>\n",
       "      <td>100.0</td>\n",
       "      <td>-0.252582</td>\n",
       "      <td>0.332658</td>\n",
       "      <td>0.719752</td>\n",
       "      <td>-187.135552</td>\n",
       "      <td>100.0</td>\n",
       "      <td>-2.516126</td>\n",
       "      <td>1.666351</td>\n",
       "    </tr>\n",
       "    <tr>\n",
       "      <th>3</th>\n",
       "      <td>-4.0</td>\n",
       "      <td>-170.190252</td>\n",
       "      <td>100.0</td>\n",
       "      <td>-0.457548</td>\n",
       "      <td>0.283514</td>\n",
       "      <td>0.816978</td>\n",
       "      <td>-170.190252</td>\n",
       "      <td>100.0</td>\n",
       "      <td>-2.516126</td>\n",
       "      <td>1.763578</td>\n",
       "    </tr>\n",
       "    <tr>\n",
       "      <th>4</th>\n",
       "      <td>-2.0</td>\n",
       "      <td>-157.628510</td>\n",
       "      <td>100.0</td>\n",
       "      <td>-0.609491</td>\n",
       "      <td>0.236949</td>\n",
       "      <td>0.886682</td>\n",
       "      <td>-157.628510</td>\n",
       "      <td>100.0</td>\n",
       "      <td>-2.516126</td>\n",
       "      <td>1.833281</td>\n",
       "    </tr>\n",
       "    <tr>\n",
       "      <th>5</th>\n",
       "      <td>0.0</td>\n",
       "      <td>-148.213227</td>\n",
       "      <td>100.0</td>\n",
       "      <td>-0.723376</td>\n",
       "      <td>0.194812</td>\n",
       "      <td>0.934958</td>\n",
       "      <td>-148.213227</td>\n",
       "      <td>100.0</td>\n",
       "      <td>-2.516126</td>\n",
       "      <td>1.881558</td>\n",
       "    </tr>\n",
       "    <tr>\n",
       "      <th>6</th>\n",
       "      <td>2.0</td>\n",
       "      <td>-141.073776</td>\n",
       "      <td>100.0</td>\n",
       "      <td>-0.809733</td>\n",
       "      <td>0.157460</td>\n",
       "      <td>0.966863</td>\n",
       "      <td>-141.073776</td>\n",
       "      <td>100.0</td>\n",
       "      <td>-2.516126</td>\n",
       "      <td>1.913463</td>\n",
       "    </tr>\n",
       "    <tr>\n",
       "      <th>7</th>\n",
       "      <td>4.0</td>\n",
       "      <td>-135.598989</td>\n",
       "      <td>100.0</td>\n",
       "      <td>-0.875955</td>\n",
       "      <td>0.124604</td>\n",
       "      <td>0.986372</td>\n",
       "      <td>-135.598989</td>\n",
       "      <td>100.0</td>\n",
       "      <td>-2.516126</td>\n",
       "      <td>1.932972</td>\n",
       "    </tr>\n",
       "    <tr>\n",
       "      <th>8</th>\n",
       "      <td>6.0</td>\n",
       "      <td>-131.349563</td>\n",
       "      <td>100.0</td>\n",
       "      <td>-0.927355</td>\n",
       "      <td>0.095694</td>\n",
       "      <td>0.996614</td>\n",
       "      <td>-131.349563</td>\n",
       "      <td>100.0</td>\n",
       "      <td>-2.516126</td>\n",
       "      <td>1.943214</td>\n",
       "    </tr>\n",
       "    <tr>\n",
       "      <th>9</th>\n",
       "      <td>8.0</td>\n",
       "      <td>-128.008139</td>\n",
       "      <td>100.0</td>\n",
       "      <td>-0.967772</td>\n",
       "      <td>0.070123</td>\n",
       "      <td>1.000000</td>\n",
       "      <td>-128.008139</td>\n",
       "      <td>100.0</td>\n",
       "      <td>-2.516126</td>\n",
       "      <td>1.946600</td>\n",
       "    </tr>\n",
       "    <tr>\n",
       "      <th>10</th>\n",
       "      <td>10.0</td>\n",
       "      <td>-125.343714</td>\n",
       "      <td>100.0</td>\n",
       "      <td>-1.000000</td>\n",
       "      <td>0.047330</td>\n",
       "      <td>0.998375</td>\n",
       "      <td>-125.343714</td>\n",
       "      <td>100.0</td>\n",
       "      <td>-2.516126</td>\n",
       "      <td>1.944975</td>\n",
       "    </tr>\n",
       "  </tbody>\n",
       "</table>\n",
       "</div>"
      ],
      "text/plain": [
       "      Time [scaled]  Q1 [stb/day]  Q3 [stb/day]  P1 [scaled]  P2 [scaled]  \\\n",
       "Step                                                                        \n",
       "0             -10.0      0.000000           0.0     0.413677     0.413677   \n",
       "1              -8.0   -210.261660         100.0     0.027146     0.379564   \n",
       "2              -6.0   -187.135552         100.0    -0.252582     0.332658   \n",
       "3              -4.0   -170.190252         100.0    -0.457548     0.283514   \n",
       "4              -2.0   -157.628510         100.0    -0.609491     0.236949   \n",
       "5               0.0   -148.213227         100.0    -0.723376     0.194812   \n",
       "6               2.0   -141.073776         100.0    -0.809733     0.157460   \n",
       "7               4.0   -135.598989         100.0    -0.875955     0.124604   \n",
       "8               6.0   -131.349563         100.0    -0.927355     0.095694   \n",
       "9               8.0   -128.008139         100.0    -0.967772     0.070123   \n",
       "10             10.0   -125.343714         100.0    -1.000000     0.047330   \n",
       "\n",
       "      P3 [scaled]  Qw1 [stb/day]  Qw3 [stb/day]  Pwf1 [scaled]  Pwf3 [scaled]  \n",
       "Step                                                                           \n",
       "0        0.413677       0.000000            0.0       0.413677       0.413677  \n",
       "1        0.587875    -210.261660          100.0      -2.516126       1.534475  \n",
       "2        0.719752    -187.135552          100.0      -2.516126       1.666351  \n",
       "3        0.816978    -170.190252          100.0      -2.516126       1.763578  \n",
       "4        0.886682    -157.628510          100.0      -2.516126       1.833281  \n",
       "5        0.934958    -148.213227          100.0      -2.516126       1.881558  \n",
       "6        0.966863    -141.073776          100.0      -2.516126       1.913463  \n",
       "7        0.986372    -135.598989          100.0      -2.516126       1.932972  \n",
       "8        0.996614    -131.349563          100.0      -2.516126       1.943214  \n",
       "9        1.000000    -128.008139          100.0      -2.516126       1.946600  \n",
       "10       0.998375    -125.343714          100.0      -2.516126       1.944975  "
      ]
     },
     "execution_count": 16,
     "metadata": {},
     "output_type": "execute_result"
    }
   ],
   "source": [
    "model.get_df(\n",
    "    columns=[\"time\", \"cells\", \"wells\"],\n",
    "    scale=True,\n",
    "    units=True,\n",
    ")"
   ]
  },
  {
   "cell_type": "markdown",
   "metadata": {},
   "source": [
    "```{tip}\n",
    "Each time you use ``model.get_df()``, scalers are updated automatically to adapt for any new simulation run steps added to the model. To update these scalers manually, use `model.update_scalers()` function. \n",
    "```"
   ]
  },
  {
   "cell_type": "markdown",
   "metadata": {},
   "source": [
    "```{include} /_static/comments_section.md\n",
    "```"
   ]
  }
 ],
 "metadata": {
  "kernelspec": {
   "display_name": ".venv",
   "language": "python",
   "name": "python3"
  },
  "language_info": {
   "codemirror_mode": {
    "name": "ipython",
    "version": 3
   },
   "file_extension": ".py",
   "mimetype": "text/x-python",
   "name": "python",
   "nbconvert_exporter": "python",
   "pygments_lexer": "ipython3",
   "version": "3.11.9"
  }
 },
 "nbformat": 4,
 "nbformat_minor": 2
}
