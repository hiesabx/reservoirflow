{
 "cells": [
  {
   "cell_type": "markdown",
   "metadata": {},
   "source": [
    "# Example (Notebook)"
   ]
  },
  {
   "cell_type": "markdown",
   "metadata": {},
   "source": [
    "![image](example_image.gif)"
   ]
  },
  {
   "cell_type": "markdown",
   "metadata": {},
   "source": [
    "## Head 1\n",
    "\n",
    "This to show that markdown `works` fine here.\n",
    "{math}`a=\\frac{a}{4}` or $a=\\frac{a}{4}$\n",
    "\n",
    "__List__\n",
    "\n",
    "- one\n",
    "- two\n",
    "- two"
   ]
  },
  {
   "cell_type": "code",
   "execution_count": 1,
   "metadata": {},
   "outputs": [
    {
     "name": "stdout",
     "output_type": "stream",
     "text": [
      "0.1.0\n"
     ]
    }
   ],
   "source": [
    "import reservoirflow as rf\n",
    "\n",
    "print(rf.__version__)"
   ]
  },
  {
   "cell_type": "code",
   "execution_count": 2,
   "metadata": {},
   "outputs": [
    {
     "data": {
      "text/html": [
       "<div>\n",
       "<style scoped>\n",
       "    .dataframe tbody tr th:only-of-type {\n",
       "        vertical-align: middle;\n",
       "    }\n",
       "\n",
       "    .dataframe tbody tr th {\n",
       "        vertical-align: top;\n",
       "    }\n",
       "\n",
       "    .dataframe thead th {\n",
       "        text-align: right;\n",
       "    }\n",
       "</style>\n",
       "<table border=\"1\" class=\"dataframe\">\n",
       "  <thead>\n",
       "    <tr style=\"text-align: right;\">\n",
       "      <th></th>\n",
       "      <th>Time</th>\n",
       "      <th>Q0</th>\n",
       "      <th>Q4</th>\n",
       "      <th>P0</th>\n",
       "      <th>P1</th>\n",
       "      <th>P2</th>\n",
       "      <th>P3</th>\n",
       "      <th>P4</th>\n",
       "      <th>Qw4</th>\n",
       "      <th>Pwf4</th>\n",
       "    </tr>\n",
       "    <tr>\n",
       "      <th>Step</th>\n",
       "      <th></th>\n",
       "      <th></th>\n",
       "      <th></th>\n",
       "      <th></th>\n",
       "      <th></th>\n",
       "      <th></th>\n",
       "      <th></th>\n",
       "      <th></th>\n",
       "      <th></th>\n",
       "      <th></th>\n",
       "    </tr>\n",
       "  </thead>\n",
       "  <tbody>\n",
       "    <tr>\n",
       "      <th>0</th>\n",
       "      <td>0</td>\n",
       "      <td>0.000000</td>\n",
       "      <td>0.0</td>\n",
       "      <td>4000.0</td>\n",
       "      <td>4000.000000</td>\n",
       "      <td>4000.000000</td>\n",
       "      <td>4000.00000</td>\n",
       "      <td>4000.000000</td>\n",
       "      <td>0.0</td>\n",
       "      <td>4000.000000</td>\n",
       "    </tr>\n",
       "    <tr>\n",
       "      <th>1</th>\n",
       "      <td>1</td>\n",
       "      <td>355.248933</td>\n",
       "      <td>-600.0</td>\n",
       "      <td>4000.0</td>\n",
       "      <td>3993.745705</td>\n",
       "      <td>3980.747854</td>\n",
       "      <td>3966.24394</td>\n",
       "      <td>3949.099347</td>\n",
       "      <td>-600.0</td>\n",
       "      <td>3922.034614</td>\n",
       "    </tr>\n",
       "  </tbody>\n",
       "</table>\n",
       "</div>"
      ],
      "text/plain": [
       "      Time          Q0     Q4      P0           P1           P2          P3  \\\n",
       "Step                                                                          \n",
       "0        0    0.000000    0.0  4000.0  4000.000000  4000.000000  4000.00000   \n",
       "1        1  355.248933 -600.0  4000.0  3993.745705  3980.747854  3966.24394   \n",
       "\n",
       "               P4    Qw4         Pwf4  \n",
       "Step                                   \n",
       "0     4000.000000    0.0  4000.000000  \n",
       "1     3949.099347 -600.0  3922.034614  "
      ]
     },
     "execution_count": 2,
     "metadata": {},
     "output_type": "execute_result"
    }
   ],
   "source": [
    "\"\"\"\n",
    "This is a 3D Model for single-phase compressible fluid\n",
    "The workflow of reservoirflow library consists of 8 steps as following:\n",
    "(default: dtype='double', unit='field')\n",
    "\"\"\"\n",
    "\n",
    "# Step 1: Define 1D grid (default dtype: 'double')\n",
    "grid = rf.grids.RegularCartesian(\n",
    "    nx=4,\n",
    "    ny=1,\n",
    "    nz=1,\n",
    "    dx=300,\n",
    "    dy=350,\n",
    "    dz=40,\n",
    "    phi=0.27,\n",
    "    kx=270,\n",
    "    comp=1 * 10**-6,\n",
    ")\n",
    "\n",
    "# Step 2: Define a fluid (single phase incompressible fluid)\n",
    "fluid = rf.fluids.SinglePhase(\n",
    "    mu=0.5,\n",
    "    B=1,\n",
    "    rho=50,\n",
    "    comp=1 * 10**-5,\n",
    ")\n",
    "\n",
    "# Step 3: Create a model\n",
    "model = rf.models.BlackOil(\n",
    "    grid,\n",
    "    fluid,\n",
    "    pi=4000,\n",
    ")\n",
    "\n",
    "# Step 4: Add a well\n",
    "model.set_well(\n",
    "    id=4,\n",
    "    q=-600,\n",
    "    s=1.5,\n",
    "    r=3.5,\n",
    ")  # well 1 (Producer)\n",
    "\n",
    "# Step 5: Define boundary conditions\n",
    "model.set_boundaries(\n",
    "    {\n",
    "        0: (\"pressure\", 4000),  # left boundary (constant pressure)\n",
    "        5: (\"rate\", 0),  # right boundary (no flow)\n",
    "    }\n",
    ")\n",
    "\n",
    "# Step 6: Run the model (single time step)\n",
    "model.solve(sparse=False, check_MB=False)\n",
    "\n",
    "# Step 8: Show report\n",
    "df = model.get_df()\n",
    "df"
   ]
  },
  {
   "cell_type": "code",
   "execution_count": 3,
   "metadata": {},
   "outputs": [
    {
     "data": {
      "application/vnd.jupyter.widget-view+json": {
       "model_id": "1f5820679b9a435a9051cc099ed320ca",
       "version_major": 2,
       "version_minor": 0
      },
      "text/plain": [
       "Widget(value=\"<iframe src='http://localhost:64099/index.html?ui=P_0x274e1ee8f88_0&reconnect=auto' style='width…"
      ]
     },
     "metadata": {},
     "output_type": "display_data"
    }
   ],
   "source": [
    "# Step 7: Show pressures in 3D grid\n",
    "# model.show(property=\"pressures\", boundary=False)"
   ]
  }
 ],
 "metadata": {
  "kernelspec": {
   "display_name": ".venv",
   "language": "python",
   "name": "python3"
  },
  "language_info": {
   "codemirror_mode": {
    "name": "ipython",
    "version": 3
   },
   "file_extension": ".py",
   "mimetype": "text/x-python",
   "name": "python",
   "nbconvert_exporter": "python",
   "pygments_lexer": "ipython3",
   "version": "3.7.9"
  },
  "orig_nbformat": 4
 },
 "nbformat": 4,
 "nbformat_minor": 2
}
