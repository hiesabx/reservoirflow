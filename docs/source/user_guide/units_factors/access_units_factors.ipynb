{
 "cells": [
  {
   "cell_type": "markdown",
   "metadata": {},
   "source": [
    "# Access Units and Factors"
   ]
  },
  {
   "cell_type": "markdown",
   "metadata": {},
   "source": [
    "In `reservoirflow`, both `UNITS` and `FACTORS` are defined as global dictionaries. The same dictionaries are used by all submodules which have `unit` in their arguments (e.g. [grids](/api/reservoirflow.grids.html), [fluids](/api/reservoirflow.fluids.html), [models](/api/reservoirflow.models.html)). "
   ]
  },
  {
   "cell_type": "code",
   "execution_count": 1,
   "metadata": {},
   "outputs": [
    {
     "name": "stdout",
     "output_type": "stream",
     "text": [
      "0.1.0\n"
     ]
    }
   ],
   "source": [
    "import reservoirflow as rf\n",
    "\n",
    "print(rf.__version__)"
   ]
  },
  {
   "cell_type": "markdown",
   "metadata": {},
   "source": [
    "## Accessing `UNITS` Dictionary"
   ]
  },
  {
   "cell_type": "markdown",
   "metadata": {},
   "source": [
    "Since `UNITS` is a dictionary, keys represent the 3 unit categories and can be accessed as following:"
   ]
  },
  {
   "cell_type": "code",
   "execution_count": 2,
   "metadata": {},
   "outputs": [
    {
     "data": {
      "text/plain": [
       "dict_keys(['field', 'metric', 'lab'])"
      ]
     },
     "execution_count": 2,
     "metadata": {},
     "output_type": "execute_result"
    }
   ],
   "source": [
    "rf.UNITS.keys()"
   ]
  },
  {
   "cell_type": "markdown",
   "metadata": {},
   "source": [
    "For example, `'field'` key can be used to access field units:"
   ]
  },
  {
   "cell_type": "code",
   "execution_count": 3,
   "metadata": {},
   "outputs": [
    {
     "data": {
      "text/plain": [
       "{'transmissibility': 'stb/(day.psi)',\n",
       " 'error': 'stb/day',\n",
       " 'pressure': 'psia',\n",
       " 'potential': 'psia',\n",
       " 'time': 'days',\n",
       " 'rate': 'stb/day',\n",
       " 'length': 'ft',\n",
       " 'area': 'ft^2',\n",
       " 'volume': 'ft^3',\n",
       " 'permeability': 'md',\n",
       " 'viscosity': 'cp',\n",
       " 'gas formation volume factor': 'bbl/scf',\n",
       " 'liquid formation volume factor': 'bbl/stb',\n",
       " 'solution gas oil ratio': 'scf/stb',\n",
       " 'gravity': 'psi/ft',\n",
       " 'gas flow rate': 'scf/day',\n",
       " 'liquid flow rate': 'stb/day',\n",
       " 'volumetric velocity': 'bbl/(day.ft^2)',\n",
       " 'density': 'lbm/ft^3',\n",
       " 'compressibility': 'psi^{-1}',\n",
       " 'compressibility factor': 'dimensionless',\n",
       " 'temperature': 'R',\n",
       " 'porosity': 'fraction',\n",
       " 'saturation': 'fraction',\n",
       " 'relative permeability': 'fraction',\n",
       " 'angle': 'rad',\n",
       " 'gravitational acceleration': 'ft/(sec^2)',\n",
       " 'transmissibility conversion': 'dimensionless',\n",
       " 'gravity conversion': 'dimensionless',\n",
       " 'volume conversion': 'dimensionless'}"
      ]
     },
     "execution_count": 3,
     "metadata": {},
     "output_type": "execute_result"
    }
   ],
   "source": [
    "rf.UNITS[\"field\"]"
   ]
  },
  {
   "cell_type": "markdown",
   "metadata": {},
   "source": [
    "## Accessing `FACTORS` Dictionary"
   ]
  },
  {
   "cell_type": "markdown",
   "metadata": {},
   "source": [
    "Similar to above, `FACTORS` has also 3 keys and can be accessed as follows:"
   ]
  },
  {
   "cell_type": "code",
   "execution_count": 4,
   "metadata": {},
   "outputs": [
    {
     "data": {
      "text/plain": [
       "dict_keys(['field', 'metric', 'lab'])"
      ]
     },
     "execution_count": 4,
     "metadata": {},
     "output_type": "execute_result"
    }
   ],
   "source": [
    "rf.FACTORS.keys()"
   ]
  },
  {
   "cell_type": "markdown",
   "metadata": {},
   "source": [
    "`FACTORS` depend on the selected unit. In case of `'field'`:"
   ]
  },
  {
   "cell_type": "code",
   "execution_count": 5,
   "metadata": {},
   "outputs": [
    {
     "data": {
      "text/plain": [
       "{'gravitational acceleration': 32.174,\n",
       " 'transmissibility conversion': 0.001127,\n",
       " 'gravity conversion': 0.00021584,\n",
       " 'volume conversion': 5.614583}"
      ]
     },
     "execution_count": 5,
     "metadata": {},
     "output_type": "execute_result"
    }
   ],
   "source": [
    "rf.FACTORS[\"field\"]"
   ]
  },
  {
   "cell_type": "markdown",
   "metadata": {
    "tags": [
     "remove-input"
    ]
   },
   "source": [
    "```{include} /_static/comments_section.md\n",
    "```"
   ]
  }
 ],
 "metadata": {
  "kernelspec": {
   "display_name": ".venv",
   "language": "python",
   "name": "python3"
  },
  "language_info": {
   "codemirror_mode": {
    "name": "ipython",
    "version": 3
   },
   "file_extension": ".py",
   "mimetype": "text/x-python",
   "name": "python",
   "nbconvert_exporter": "python",
   "pygments_lexer": "ipython3",
   "version": "3.10.11"
  },
  "orig_nbformat": 4
 },
 "nbformat": 4,
 "nbformat_minor": 2
}
